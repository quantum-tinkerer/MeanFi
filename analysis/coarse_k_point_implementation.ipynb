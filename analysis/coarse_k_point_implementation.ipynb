{
 "cells": [
  {
   "cell_type": "code",
   "execution_count": null,
   "id": "cb509096-42c6-4a45-8dc4-a8eed3116e67",
   "metadata": {
    "tags": []
   },
   "outputs": [],
   "source": [
    "import kwant\n",
    "import numpy as np\n",
    "import matplotlib.pyplot as plt\n",
    "import utils, hf"
   ]
  },
  {
   "cell_type": "code",
   "execution_count": null,
   "id": "8a550e7e-e90b-4443-99a4-315f96539ac4",
   "metadata": {
    "tags": []
   },
   "outputs": [],
   "source": [
    "s0 = np.identity(2)\n",
    "sz = np.diag([1, -1])\n",
    "\n",
    "norbs = 2\n",
    "\n",
    "graphene = kwant.lattice.general(\n",
    "    [[1, 0], [1 / 2, np.sqrt(3) / 2]], [[0, 0], [0, 1 / np.sqrt(3)]], norbs=norbs\n",
    ")\n",
    "a, b = graphene.sublattices\n",
    "\n",
    "# create bulk system\n",
    "bulk_graphene = kwant.Builder(kwant.TranslationalSymmetry(*graphene.prim_vecs))\n",
    "# add sublattice potential\n",
    "m0 = 0\n",
    "\n",
    "bulk_graphene[a.shape((lambda pos: True), (0, 0))] = m0 * s0\n",
    "bulk_graphene[b.shape((lambda pos: True), (0, 0))] = -m0 * s0\n",
    "# add hoppings between sublattices\n",
    "bulk_graphene[graphene.neighbors(1)] = s0\n",
    "bulk_graphene[graphene.neighbors(2)] = 1j * s0\n",
    "\n",
    "# use kwant wraparound to sample bulk k-space\n",
    "wrapped_syst = kwant.wraparound.wraparound(bulk_graphene)\n",
    "wrapped_fsyst = wrapped_syst.finalized()"
   ]
  },
  {
   "cell_type": "code",
   "execution_count": null,
   "id": "9cc3b32d-404f-4bc5-a338-83571c9e4c4b",
   "metadata": {
    "tags": []
   },
   "outputs": [],
   "source": [
    "def func_onsite(site, U):\n",
    "    return U * np.ones((2, 2))\n",
    "\n",
    "def func_hop(site1, site2, V):\n",
    "    return V * np.ones((2, 2))"
   ]
  },
  {
   "cell_type": "code",
   "execution_count": null,
   "id": "d1ef154e-70bd-4f28-887f-72362d8533dd",
   "metadata": {
    "tags": []
   },
   "outputs": [],
   "source": [
    "Us = np.linspace(1e-6, 5, 10)\n",
    "Vs = np.linspace(1e-6, 5, 1)"
   ]
  },
  {
   "cell_type": "code",
   "execution_count": null,
   "id": "117f5557-0e6a-4b02-b0eb-125e68c839dd",
   "metadata": {
    "tags": []
   },
   "outputs": [],
   "source": [
    "from numpy.linalg import qr\n",
    "from functools import partial\n",
    "\n",
    "def scf_loop(mf, H_int, scf_syst, ks, hamiltonians_0, filling=2, max_neighbor=1):\n",
    "    if np.linalg.norm(mf) < 1e-5:\n",
    "        return 0\n",
    "    # mf = mf.reshape(\n",
    "    #     max_neighbor + len(graphene.sublattices),\n",
    "    #     2,\n",
    "    #     norbs,\n",
    "    #     norbs,\n",
    "    # )\n",
    "    params = dict(mat=mf)\n",
    "    mf_k = utils.syst2hamiltonian(syst=scf_syst, kxs=ks, kys=ks, params=params)\n",
    "\n",
    "    H0_int = H_int[0, 0]\n",
    "\n",
    "    # Generate the Hamiltonian\n",
    "    hamiltonians = hamiltonians_0 + mf_k\n",
    "    vals, vecs = np.linalg.eigh(hamiltonians)\n",
    "    # Orthogonalize vectors\n",
    "    vecs = qr(vecs)[0]\n",
    "    # Compute new Fermi energy\n",
    "    mf_k_new = hf.compute_mf(vals, vecs, filling, ks, H_int)\n",
    "\n",
    "    diff = mf_k_new - mf_k\n",
    "    shift = np.trace(np.average(diff, axis=(0,1)))\n",
    "    diff -= shift / norbs / len(graphene.sublattices)\n",
    "\n",
    "    if np.linalg.norm(mf_k_new) < 1e-5:\n",
    "        return 0\n",
    "    else:\n",
    "        return np.linalg.norm(diff) / np.linalg.norm(mf_k_new)"
   ]
  },
  {
   "cell_type": "code",
   "execution_count": null,
   "id": "eb19dbaf-8a85-4eb8-9c68-7266ee250fdc",
   "metadata": {
    "tags": []
   },
   "outputs": [],
   "source": [
    "def generate_guess(max_neighbor, norbs):\n",
    "    n_sub = len(graphene.sublattices)\n",
    "    guess = np.zeros((n_sub + max_neighbor, 2, norbs, norbs))\n",
    "    for i in range(n_sub):\n",
    "        # Real part\n",
    "        guess[i, 0] = np.random.rand(norbs, norbs)\n",
    "        guess[i, 0] += guess[i, 0].T\n",
    "        guess[i, 0] *= 0.5\n",
    "        # Imag part\n",
    "        guess[i, 1] = np.random.rand(norbs, norbs)\n",
    "        guess[i, 1] -= guess[i, 1].T\n",
    "        guess[i, 1] *= 0.5\n",
    "    for neighbor in range(max_neighbor):\n",
    "        # Real part\n",
    "        guess[n_sub + neighbor, 0] = np.random.rand(norbs, norbs)\n",
    "        # Imag part\n",
    "        guess[n_sub + neighbor, 1] = np.random.rand(norbs, norbs)\n",
    "    return guess\n",
    "\n",
    "def generate_guess(max_neighbor, norbs):\n",
    "    n_sub = len(graphene.sublattices)\n",
    "    guess = np.zeros((n_sub + max_neighbor, 2, norbs, norbs))\n",
    "    for i in range(n_sub):\n",
    "        # Real part\n",
    "        guess[i, 0] = np.diag(np.random.rand(norbs))\n",
    "        # Imag part\n",
    "        guess[i, 1] = np.diag(np.random.rand(norbs))\n",
    "    for neighbor in range(max_neighbor):\n",
    "        # Real part\n",
    "        guess[n_sub + neighbor, 0] = np.diag(np.random.rand(norbs))\n",
    "        # Imag part\n",
    "        guess[n_sub + neighbor, 1] = np.diag(np.random.rand(norbs))\n",
    "    return guess"
   ]
  },
  {
   "cell_type": "code",
   "execution_count": 108,
   "id": "32b9e7c5-db12-44f9-930c-21e5494404b8",
   "metadata": {
    "tags": []
   },
   "outputs": [
    {
     "name": "stderr",
     "output_type": "stream",
     "text": [
      "  0%|          | 0/10 [00:00<?, ?it/s]\n"
     ]
    },
    {
     "ename": "AttributeError",
     "evalue": "'tuple' object has no attribute 'hamiltonian_submatrix'",
     "output_type": "error",
     "traceback": [
      "\u001b[0;31m---------------------------------------------------------------------------\u001b[0m",
      "\u001b[0;31mAttributeError\u001b[0m                            Traceback (most recent call last)",
      "Cell \u001b[0;32mIn[108], line 158\u001b[0m\n\u001b[1;32m    156\u001b[0m gap_U \u001b[38;5;241m=\u001b[39m []\n\u001b[1;32m    157\u001b[0m \u001b[38;5;28;01mfor\u001b[39;00m V \u001b[38;5;129;01min\u001b[39;00m Vs:\n\u001b[0;32m--> 158\u001b[0m     gap_U\u001b[38;5;241m.\u001b[39mappend(\u001b[43mcompute_gap\u001b[49m\u001b[43m(\u001b[49m\u001b[43mU\u001b[49m\u001b[43m,\u001b[49m\u001b[43m \u001b[49m\u001b[43mV\u001b[49m\u001b[43m)\u001b[49m)\n\u001b[1;32m    159\u001b[0m gap\u001b[38;5;241m.\u001b[39mappend(gap_U)\n",
      "Cell \u001b[0;32mIn[108], line 115\u001b[0m, in \u001b[0;36mcompute_gap\u001b[0;34m(U, V, max_neighbor, nk, filling)\u001b[0m\n\u001b[1;32m    113\u001b[0m \u001b[38;5;28;01mdef\u001b[39;00m \u001b[38;5;21mcallback\u001b[39m(x, f):\n\u001b[1;32m    114\u001b[0m     \u001b[38;5;28;01mreturn\u001b[39;00m x\n\u001b[0;32m--> 115\u001b[0m mf \u001b[38;5;241m=\u001b[39m \u001b[43manderson\u001b[49m\u001b[43m(\u001b[49m\n\u001b[1;32m    116\u001b[0m \u001b[43m    \u001b[49m\u001b[43mfun\u001b[49m\u001b[43m,\u001b[49m\n\u001b[1;32m    117\u001b[0m \u001b[43m    \u001b[49m\u001b[43mgenerate_guess\u001b[49m\u001b[43m(\u001b[49m\u001b[43mmax_neighbor\u001b[49m\u001b[38;5;241;43m=\u001b[39;49m\u001b[43mmax_neighbor\u001b[49m\u001b[43m,\u001b[49m\u001b[43m \u001b[49m\u001b[43mnorbs\u001b[49m\u001b[38;5;241;43m=\u001b[39;49m\u001b[43mnorbs\u001b[49m\u001b[43m)\u001b[49m\u001b[43m,\u001b[49m\n\u001b[1;32m    118\u001b[0m \u001b[43m    \u001b[49m\u001b[43mf_tol\u001b[49m\u001b[38;5;241;43m=\u001b[39;49m\u001b[38;5;241;43m1e-3\u001b[39;49m\u001b[43m,\u001b[49m\n\u001b[1;32m    119\u001b[0m \u001b[43m    \u001b[49m\u001b[43mw0\u001b[49m\u001b[38;5;241;43m=\u001b[39;49m\u001b[38;5;241;43m0.5\u001b[39;49m\u001b[43m,\u001b[49m\n\u001b[1;32m    120\u001b[0m \u001b[43m    \u001b[49m\u001b[43mM\u001b[49m\u001b[38;5;241;43m=\u001b[39;49m\u001b[38;5;241;43m1\u001b[39;49m\u001b[43m,\u001b[49m\n\u001b[1;32m    121\u001b[0m \u001b[43m    \u001b[49m\u001b[43mcallback\u001b[49m\u001b[38;5;241;43m=\u001b[39;49m\u001b[43mcallback\u001b[49m\u001b[43m,\u001b[49m\n\u001b[1;32m    122\u001b[0m \u001b[43m\u001b[49m\u001b[43m)\u001b[49m\n\u001b[1;32m    124\u001b[0m mf \u001b[38;5;241m=\u001b[39m mf\u001b[38;5;241m.\u001b[39mreshape(\n\u001b[1;32m    125\u001b[0m     max_neighbor \u001b[38;5;241m+\u001b[39m \u001b[38;5;28mlen\u001b[39m(graphene\u001b[38;5;241m.\u001b[39msublattices),\n\u001b[1;32m    126\u001b[0m     \u001b[38;5;241m2\u001b[39m,\n\u001b[1;32m    127\u001b[0m     norbs,\n\u001b[1;32m    128\u001b[0m     norbs,\n\u001b[1;32m    129\u001b[0m )\n\u001b[1;32m    130\u001b[0m ks \u001b[38;5;241m=\u001b[39m np\u001b[38;5;241m.\u001b[39mlinspace(\u001b[38;5;241m0\u001b[39m, \u001b[38;5;241m2\u001b[39m \u001b[38;5;241m*\u001b[39m np\u001b[38;5;241m.\u001b[39mpi, \u001b[38;5;241m30\u001b[39m, endpoint\u001b[38;5;241m=\u001b[39m\u001b[38;5;28;01mFalse\u001b[39;00m)\n",
      "File \u001b[0;32m<string>:6\u001b[0m, in \u001b[0;36manderson\u001b[0;34m(F, xin, iter, alpha, w0, M, verbose, maxiter, f_tol, f_rtol, x_tol, x_rtol, tol_norm, line_search, callback, **kw)\u001b[0m\n",
      "File \u001b[0;32m/opt/conda/lib/python3.10/site-packages/scipy/optimize/_nonlin.py:170\u001b[0m, in \u001b[0;36mnonlin_solve\u001b[0;34m(F, x0, jacobian, iter, verbose, maxiter, f_tol, f_rtol, x_tol, x_rtol, tol_norm, line_search, callback, full_output, raise_exception)\u001b[0m\n\u001b[1;32m    167\u001b[0m x \u001b[38;5;241m=\u001b[39m x0\u001b[38;5;241m.\u001b[39mflatten()\n\u001b[1;32m    169\u001b[0m dx \u001b[38;5;241m=\u001b[39m np\u001b[38;5;241m.\u001b[39mfull_like(x, np\u001b[38;5;241m.\u001b[39minf)\n\u001b[0;32m--> 170\u001b[0m Fx \u001b[38;5;241m=\u001b[39m \u001b[43mfunc\u001b[49m\u001b[43m(\u001b[49m\u001b[43mx\u001b[49m\u001b[43m)\u001b[49m\n\u001b[1;32m    171\u001b[0m Fx_norm \u001b[38;5;241m=\u001b[39m norm(Fx)\n\u001b[1;32m    173\u001b[0m jacobian \u001b[38;5;241m=\u001b[39m asjacobian(jacobian)\n",
      "File \u001b[0;32m/opt/conda/lib/python3.10/site-packages/scipy/optimize/_nonlin.py:166\u001b[0m, in \u001b[0;36mnonlin_solve.<locals>.<lambda>\u001b[0;34m(z)\u001b[0m\n\u001b[1;32m    161\u001b[0m condition \u001b[38;5;241m=\u001b[39m TerminationCondition(f_tol\u001b[38;5;241m=\u001b[39mf_tol, f_rtol\u001b[38;5;241m=\u001b[39mf_rtol,\n\u001b[1;32m    162\u001b[0m                                  x_tol\u001b[38;5;241m=\u001b[39mx_tol, x_rtol\u001b[38;5;241m=\u001b[39mx_rtol,\n\u001b[1;32m    163\u001b[0m                                  \u001b[38;5;28miter\u001b[39m\u001b[38;5;241m=\u001b[39m\u001b[38;5;28miter\u001b[39m, norm\u001b[38;5;241m=\u001b[39mtol_norm)\n\u001b[1;32m    165\u001b[0m x0 \u001b[38;5;241m=\u001b[39m _as_inexact(x0)\n\u001b[0;32m--> 166\u001b[0m func \u001b[38;5;241m=\u001b[39m \u001b[38;5;28;01mlambda\u001b[39;00m z: _as_inexact(\u001b[43mF\u001b[49m\u001b[43m(\u001b[49m\u001b[43m_array_like\u001b[49m\u001b[43m(\u001b[49m\u001b[43mz\u001b[49m\u001b[43m,\u001b[49m\u001b[43m \u001b[49m\u001b[43mx0\u001b[49m\u001b[43m)\u001b[49m\u001b[43m)\u001b[49m)\u001b[38;5;241m.\u001b[39mflatten()\n\u001b[1;32m    167\u001b[0m x \u001b[38;5;241m=\u001b[39m x0\u001b[38;5;241m.\u001b[39mflatten()\n\u001b[1;32m    169\u001b[0m dx \u001b[38;5;241m=\u001b[39m np\u001b[38;5;241m.\u001b[39mfull_like(x, np\u001b[38;5;241m.\u001b[39minf)\n",
      "Cell \u001b[0;32mIn[24], line 14\u001b[0m, in \u001b[0;36mscf_loop\u001b[0;34m(mf, H_int, scf_syst, ks, hamiltonians_0, filling, max_neighbor)\u001b[0m\n\u001b[1;32m      7\u001b[0m \u001b[38;5;66;03m# mf = mf.reshape(\u001b[39;00m\n\u001b[1;32m      8\u001b[0m \u001b[38;5;66;03m#     max_neighbor + len(graphene.sublattices),\u001b[39;00m\n\u001b[1;32m      9\u001b[0m \u001b[38;5;66;03m#     2,\u001b[39;00m\n\u001b[1;32m     10\u001b[0m \u001b[38;5;66;03m#     norbs,\u001b[39;00m\n\u001b[1;32m     11\u001b[0m \u001b[38;5;66;03m#     norbs,\u001b[39;00m\n\u001b[1;32m     12\u001b[0m \u001b[38;5;66;03m# )\u001b[39;00m\n\u001b[1;32m     13\u001b[0m params \u001b[38;5;241m=\u001b[39m \u001b[38;5;28mdict\u001b[39m(mat\u001b[38;5;241m=\u001b[39mmf)\n\u001b[0;32m---> 14\u001b[0m mf_k \u001b[38;5;241m=\u001b[39m \u001b[43mutils\u001b[49m\u001b[38;5;241;43m.\u001b[39;49m\u001b[43msyst2hamiltonian\u001b[49m\u001b[43m(\u001b[49m\u001b[43msyst\u001b[49m\u001b[38;5;241;43m=\u001b[39;49m\u001b[43mscf_syst\u001b[49m\u001b[43m,\u001b[49m\u001b[43m \u001b[49m\u001b[43mkxs\u001b[49m\u001b[38;5;241;43m=\u001b[39;49m\u001b[43mks\u001b[49m\u001b[43m,\u001b[49m\u001b[43m \u001b[49m\u001b[43mkys\u001b[49m\u001b[38;5;241;43m=\u001b[39;49m\u001b[43mks\u001b[49m\u001b[43m,\u001b[49m\u001b[43m \u001b[49m\u001b[43mparams\u001b[49m\u001b[38;5;241;43m=\u001b[39;49m\u001b[43mparams\u001b[49m\u001b[43m)\u001b[49m\n\u001b[1;32m     16\u001b[0m H0_int \u001b[38;5;241m=\u001b[39m H_int[\u001b[38;5;241m0\u001b[39m, \u001b[38;5;241m0\u001b[39m]\n\u001b[1;32m     18\u001b[0m \u001b[38;5;66;03m# Generate the Hamiltonian\u001b[39;00m\n",
      "File \u001b[0;32m~/Sync/kwant-scf/codes/utils.py:21\u001b[0m, in \u001b[0;36msyst2hamiltonian\u001b[0;34m(kxs, kys, syst, params)\u001b[0m\n\u001b[1;32m     18\u001b[0m \u001b[38;5;28;01mdef\u001b[39;00m \u001b[38;5;21mh_k\u001b[39m(kx, ky):\n\u001b[1;32m     19\u001b[0m     \u001b[38;5;28;01mreturn\u001b[39;00m syst\u001b[38;5;241m.\u001b[39mhamiltonian_submatrix(params\u001b[38;5;241m=\u001b[39m{\u001b[38;5;241m*\u001b[39m\u001b[38;5;241m*\u001b[39mparams, \u001b[38;5;241m*\u001b[39m\u001b[38;5;241m*\u001b[39m\u001b[38;5;28mdict\u001b[39m(k_x\u001b[38;5;241m=\u001b[39mkx, k_y\u001b[38;5;241m=\u001b[39mky)})\n\u001b[1;32m     20\u001b[0m \u001b[38;5;28;01mreturn\u001b[39;00m np\u001b[38;5;241m.\u001b[39marray(\n\u001b[0;32m---> 21\u001b[0m     [[h_k(kx, ky) \u001b[38;5;28;01mfor\u001b[39;00m kx \u001b[38;5;129;01min\u001b[39;00m kxs] \u001b[38;5;28;01mfor\u001b[39;00m ky \u001b[38;5;129;01min\u001b[39;00m kys]\n\u001b[1;32m     22\u001b[0m )\n",
      "File \u001b[0;32m~/Sync/kwant-scf/codes/utils.py:21\u001b[0m, in \u001b[0;36m<listcomp>\u001b[0;34m(.0)\u001b[0m\n\u001b[1;32m     18\u001b[0m \u001b[38;5;28;01mdef\u001b[39;00m \u001b[38;5;21mh_k\u001b[39m(kx, ky):\n\u001b[1;32m     19\u001b[0m     \u001b[38;5;28;01mreturn\u001b[39;00m syst\u001b[38;5;241m.\u001b[39mhamiltonian_submatrix(params\u001b[38;5;241m=\u001b[39m{\u001b[38;5;241m*\u001b[39m\u001b[38;5;241m*\u001b[39mparams, \u001b[38;5;241m*\u001b[39m\u001b[38;5;241m*\u001b[39m\u001b[38;5;28mdict\u001b[39m(k_x\u001b[38;5;241m=\u001b[39mkx, k_y\u001b[38;5;241m=\u001b[39mky)})\n\u001b[1;32m     20\u001b[0m \u001b[38;5;28;01mreturn\u001b[39;00m np\u001b[38;5;241m.\u001b[39marray(\n\u001b[0;32m---> 21\u001b[0m     [[h_k(kx, ky) \u001b[38;5;28;01mfor\u001b[39;00m kx \u001b[38;5;129;01min\u001b[39;00m kxs] \u001b[38;5;28;01mfor\u001b[39;00m ky \u001b[38;5;129;01min\u001b[39;00m kys]\n\u001b[1;32m     22\u001b[0m )\n",
      "File \u001b[0;32m~/Sync/kwant-scf/codes/utils.py:21\u001b[0m, in \u001b[0;36m<listcomp>\u001b[0;34m(.0)\u001b[0m\n\u001b[1;32m     18\u001b[0m \u001b[38;5;28;01mdef\u001b[39;00m \u001b[38;5;21mh_k\u001b[39m(kx, ky):\n\u001b[1;32m     19\u001b[0m     \u001b[38;5;28;01mreturn\u001b[39;00m syst\u001b[38;5;241m.\u001b[39mhamiltonian_submatrix(params\u001b[38;5;241m=\u001b[39m{\u001b[38;5;241m*\u001b[39m\u001b[38;5;241m*\u001b[39mparams, \u001b[38;5;241m*\u001b[39m\u001b[38;5;241m*\u001b[39m\u001b[38;5;28mdict\u001b[39m(k_x\u001b[38;5;241m=\u001b[39mkx, k_y\u001b[38;5;241m=\u001b[39mky)})\n\u001b[1;32m     20\u001b[0m \u001b[38;5;28;01mreturn\u001b[39;00m np\u001b[38;5;241m.\u001b[39marray(\n\u001b[0;32m---> 21\u001b[0m     [[\u001b[43mh_k\u001b[49m\u001b[43m(\u001b[49m\u001b[43mkx\u001b[49m\u001b[43m,\u001b[49m\u001b[43m \u001b[49m\u001b[43mky\u001b[49m\u001b[43m)\u001b[49m \u001b[38;5;28;01mfor\u001b[39;00m kx \u001b[38;5;129;01min\u001b[39;00m kxs] \u001b[38;5;28;01mfor\u001b[39;00m ky \u001b[38;5;129;01min\u001b[39;00m kys]\n\u001b[1;32m     22\u001b[0m )\n",
      "File \u001b[0;32m~/Sync/kwant-scf/codes/utils.py:19\u001b[0m, in \u001b[0;36msyst2hamiltonian.<locals>.h_k\u001b[0;34m(kx, ky)\u001b[0m\n\u001b[1;32m     18\u001b[0m \u001b[38;5;28;01mdef\u001b[39;00m \u001b[38;5;21mh_k\u001b[39m(kx, ky):\n\u001b[0;32m---> 19\u001b[0m     \u001b[38;5;28;01mreturn\u001b[39;00m \u001b[43msyst\u001b[49m\u001b[38;5;241;43m.\u001b[39;49m\u001b[43mhamiltonian_submatrix\u001b[49m(params\u001b[38;5;241m=\u001b[39m{\u001b[38;5;241m*\u001b[39m\u001b[38;5;241m*\u001b[39mparams, \u001b[38;5;241m*\u001b[39m\u001b[38;5;241m*\u001b[39m\u001b[38;5;28mdict\u001b[39m(k_x\u001b[38;5;241m=\u001b[39mkx, k_y\u001b[38;5;241m=\u001b[39mky)})\n",
      "\u001b[0;31mAttributeError\u001b[0m: 'tuple' object has no attribute 'hamiltonian_submatrix'"
     ]
    }
   ],
   "source": [
    "import tinyarray as ta\n",
    "\n",
    "def extract_hopping_vectors(builder):\n",
    "    keep=None\n",
    "    deltas=[]\n",
    "    for hop, val in builder.hopping_value_pairs():\n",
    "        a, b=hop\n",
    "        b_dom = builder.symmetry.which(b)\n",
    "        # Throw away part that is in the remaining translation direction, so we get\n",
    "        # an element of 'sym' which is being wrapped\n",
    "        b_dom = ta.array([t for i, t in enumerate(b_dom) if i != keep])\n",
    "        deltas.append(b_dom)\n",
    "    return np.asarray(deltas)\n",
    "\n",
    "def generate_scf_syst(max_neighbor, syst):\n",
    "    def scf_onsite(site, mat):\n",
    "        if site.family == a:\n",
    "            return mat[0, 0] + 1j * mat[0, 1]\n",
    "        elif site.family == b:\n",
    "            return mat[1, 0] + 1j * mat[1, 1]\n",
    "\n",
    "    scf = kwant.Builder(kwant.TranslationalSymmetry(*graphene.prim_vecs))\n",
    "    scf[syst.sites()] = scf_onsite\n",
    "    for neighbor in range(max_neighbor):\n",
    "\n",
    "        def scf_hopping(site1, site2, mat):\n",
    "            return (\n",
    "                mat[len(graphene.sublattices) + neighbor, 0]\n",
    "                + 1j * mat[len(graphene.sublattices) + neighbor, 1]\n",
    "            )\n",
    "\n",
    "        scf[graphene.neighbors(neighbor + 1)] = scf_hopping\n",
    "    deltas = extract_hopping_vectors(scf)\n",
    "    wrapped_scf = kwant.wraparound.wraparound(scf).finalized()\n",
    "    return wrapped_scf, deltas\n",
    "\n",
    "from scipy.optimize import minimize, anderson, fmin, root\n",
    "\n",
    "\n",
    "def generate_hint(syst, U, V, lattice, func_onsite, func_hop, params, ks):\n",
    "    Uk = utils.potential2hamiltonian(\n",
    "        syst=syst,\n",
    "        lattice=graphene,\n",
    "        func_onsite=func_onsite,\n",
    "        func_hop=func_hop,\n",
    "        params=dict(U=1, V=0),\n",
    "        ks=ks,\n",
    "    )\n",
    "\n",
    "    Vk = utils.potential2hamiltonian(\n",
    "        syst=syst,\n",
    "        lattice=graphene,\n",
    "        func_onsite=func_onsite,\n",
    "        func_hop=func_hop,\n",
    "        params=dict(U=0, V=1),\n",
    "        ks=ks,\n",
    "    )\n",
    "    return U * Uk + V * Vk\n",
    "\n",
    "\n",
    "def total_energy(mf, syst0, syst_mf, ks, max_neighbor, filling):\n",
    "    mf = mf.reshape(\n",
    "        max_neighbor + len(graphene.sublattices),\n",
    "        2,\n",
    "        norbs,\n",
    "        norbs,\n",
    "    )\n",
    "    hamiltonians_0 = utils.syst2hamiltonian(kxs=ks, kys=ks, syst=syst0)\n",
    "    scf_mf_k = utils.syst2hamiltonian(syst=syst_mf, kxs=ks, kys=ks, params=dict(mat=mf))\n",
    "    vals, vecs = np.linalg.eigh(hamiltonians_0 + scf_mf_k)\n",
    "    E_F = utils.get_fermi_energy(vals, filling)\n",
    "    vals -= E_F\n",
    "    N_filling = np.sum(vals < 0)\n",
    "    E_total = np.sum(vals[vals < 0])\n",
    "    E_p_atom = E_total / N_filling\n",
    "    return E_p_atom\n",
    "\n",
    "\n",
    "def compute_gap(U, V, max_neighbor=1, nk=12, filling=2):\n",
    "    n_sub = len(graphene.sublattices)\n",
    "    ks = np.linspace(0, 2 * np.pi, nk, endpoint=False)\n",
    "    hamiltonians_0 = utils.syst2hamiltonian(kxs=ks, kys=ks, syst=wrapped_fsyst)\n",
    "    # Generate interacting matrix\n",
    "    H_int = generate_hint(\n",
    "        syst=wrapped_syst,\n",
    "        lattice=graphene,\n",
    "        func_onsite=func_onsite,\n",
    "        func_hop=func_hop,\n",
    "        U=U,\n",
    "        V=V,\n",
    "        ks=ks,\n",
    "        params={},\n",
    "    )\n",
    "    # Create a dummy kwant system for the mean-field\n",
    "    scf_syst = generate_scf_syst(max_neighbor=max_neighbor, syst=wrapped_syst)\n",
    "\n",
    "    # mf = minimize(\n",
    "    #     scf_loop,\n",
    "    #     generate_guess(max_neighbor=max_neighbor, norbs=norbs).flatten(),\n",
    "    #     tol=1e-4,\n",
    "    #     args=(H_int, scf_syst, ks, hamiltonians_0, filling, max_neighbor),\n",
    "    # ).x\n",
    "    fun = partial(\n",
    "        scf_loop,\n",
    "        H_int=H_int,\n",
    "        scf_syst=scf_syst,\n",
    "        ks=ks,\n",
    "        hamiltonians_0=hamiltonians_0,\n",
    "        filling=filling,\n",
    "        max_neighbor=max_neighbor,\n",
    "    )\n",
    "\n",
    "    def callback(x, f):\n",
    "        return x\n",
    "    mf = anderson(\n",
    "        fun,\n",
    "        generate_guess(max_neighbor=max_neighbor, norbs=norbs),\n",
    "        f_tol=1e-3,\n",
    "        w0=0.5,\n",
    "        M=1,\n",
    "        callback=callback,\n",
    "    )\n",
    "\n",
    "    mf = mf.reshape(\n",
    "        max_neighbor + len(graphene.sublattices),\n",
    "        2,\n",
    "        norbs,\n",
    "        norbs,\n",
    "    )\n",
    "    ks = np.linspace(0, 2 * np.pi, 30, endpoint=False)\n",
    "    hamiltonians_0 = utils.syst2hamiltonian(kxs=ks, kys=ks, syst=wrapped_fsyst)\n",
    "    scf_mf_k = utils.syst2hamiltonian(\n",
    "        syst=scf_syst, kxs=ks, kys=ks, params=dict(mat=mf)\n",
    "    )\n",
    "    vals, vecs = np.linalg.eigh(hamiltonians_0 + scf_mf_k)\n",
    "    E_F = utils.get_fermi_energy(vals, 2)\n",
    "    print(\"U=\" + str(U) + \" , V=\" + str(V))\n",
    "    extr = np.max(np.abs(scf_mf_k[0, 0]) - E_F * np.eye(n_sub * norbs))\n",
    "    plt.matshow(\n",
    "        (scf_mf_k[0, 0] - E_F * np.eye(n_sub * norbs)).real,\n",
    "        cmap=\"RdBu_r\",\n",
    "        vmin=-extr,\n",
    "        vmax=extr,\n",
    "    )\n",
    "    plt.colorbar()\n",
    "    plt.show()\n",
    "    emax = np.max(vals[vals <= E_F])\n",
    "    emin = np.min(vals[vals > E_F])\n",
    "    return np.abs(emin - emax)\n",
    "\n",
    "\n",
    "from tqdm import tqdm\n",
    "\n",
    "gap = []\n",
    "for U in tqdm(Us):\n",
    "    gap_U = []\n",
    "    for V in Vs:\n",
    "        gap_U.append(compute_gap(U, V))\n",
    "    gap.append(gap_U)"
   ]
  },
  {
   "cell_type": "code",
   "execution_count": 12,
   "id": "a04563c8-81a1-4fd2-9bf3-817224fefe48",
   "metadata": {
    "tags": []
   },
   "outputs": [
    {
     "data": {
      "text/plain": [
       "<matplotlib.colorbar.Colorbar at 0x7f1629743ac0>"
      ]
     },
     "execution_count": 12,
     "metadata": {},
     "output_type": "execute_result"
    },
    {
     "data": {
      "image/png": "[encoded data removed]",
      "text/plain": [
       "<Figure size 640x480 with 2 Axes>"
      ]
     },
     "metadata": {},
     "output_type": "display_data"
    }
   ],
   "source": [
    "gap = np.asarray(gap, dtype=float)\n",
    "plt.imshow(np.log10(gap).T, origin='lower', extent=(0, 5, 0, 5), vmin=-1, vmax=0.6)\n",
    "plt.colorbar()"
   ]
  },
  {
   "cell_type": "code",
   "execution_count": 13,
   "id": "1337b3ba-b7df-4b35-b270-22de3df428a3",
   "metadata": {},
   "outputs": [
    {
     "data": {
      "text/plain": [
       "[<matplotlib.lines.Line2D at 0x7f1629476cb0>]"
      ]
     },
     "execution_count": 13,
     "metadata": {},
     "output_type": "execute_result"
    },
    {
     "data": {
      "image/png": "[encoded data removed]",
      "text/plain": [
       "<Figure size 640x480 with 1 Axes>"
      ]
     },
     "metadata": {},
     "output_type": "display_data"
    }
   ],
   "source": [
    "plt.plot(Us, gap)"
   ]
  },
  {
   "cell_type": "code",
   "execution_count": 8,
   "id": "67b7cc81-411d-4e65-b55d-e72c3711318d",
   "metadata": {
    "tags": []
   },
   "outputs": [
    {
     "ename": "TypeError",
     "evalue": "only length-1 arrays can be converted to Python scalars",
     "output_type": "error",
     "traceback": [
      "\u001b[0;31m---------------------------------------------------------------------------\u001b[0m",
      "\u001b[0;31mTypeError\u001b[0m                                 Traceback (most recent call last)",
      "Cell \u001b[0;32mIn[8], line 2\u001b[0m\n\u001b[1;32m      1\u001b[0m ks \u001b[38;5;241m=\u001b[39m np\u001b[38;5;241m.\u001b[39mlinspace(\u001b[38;5;241m0\u001b[39m, \u001b[38;5;241m2\u001b[39m \u001b[38;5;241m*\u001b[39m np\u001b[38;5;241m.\u001b[39mpi, \u001b[38;5;241m2\u001b[39m, endpoint\u001b[38;5;241m=\u001b[39m\u001b[38;5;28;01mFalse\u001b[39;00m)\n\u001b[0;32m----> 2\u001b[0m hamiltonians_0 \u001b[38;5;241m=\u001b[39m \u001b[43mutils\u001b[49m\u001b[38;5;241;43m.\u001b[39;49m\u001b[43msyst2hamiltonian\u001b[49m\u001b[43m(\u001b[49m\u001b[43mkx\u001b[49m\u001b[38;5;241;43m=\u001b[39;49m\u001b[43mks\u001b[49m\u001b[43m,\u001b[49m\u001b[43m \u001b[49m\u001b[43mky\u001b[49m\u001b[38;5;241;43m=\u001b[39;49m\u001b[43mks\u001b[49m\u001b[43m,\u001b[49m\u001b[43m \u001b[49m\u001b[43msyst\u001b[49m\u001b[38;5;241;43m=\u001b[39;49m\u001b[43mwrapped_fsyst\u001b[49m\u001b[43m)\u001b[49m\n",
      "File \u001b[0;32m~/Sync/kwant-scf/codes/utils.py:21\u001b[0m, in \u001b[0;36msyst2hamiltonian\u001b[0;34m(kx, ky, syst, params)\u001b[0m\n\u001b[1;32m     18\u001b[0m \u001b[38;5;129m@np\u001b[39m\u001b[38;5;241m.\u001b[39mvectorize\n\u001b[1;32m     19\u001b[0m \u001b[38;5;28;01mdef\u001b[39;00m \u001b[38;5;21mh_k\u001b[39m(kx, ky):\n\u001b[1;32m     20\u001b[0m     \u001b[38;5;28;01mreturn\u001b[39;00m syst\u001b[38;5;241m.\u001b[39mhamiltonian_submatrix(params\u001b[38;5;241m=\u001b[39m{\u001b[38;5;241m*\u001b[39m\u001b[38;5;241m*\u001b[39mparams, \u001b[38;5;241m*\u001b[39m\u001b[38;5;241m*\u001b[39m\u001b[38;5;28mdict\u001b[39m(k_x\u001b[38;5;241m=\u001b[39mkx, k_y\u001b[38;5;241m=\u001b[39mky)})\n\u001b[0;32m---> 21\u001b[0m \u001b[38;5;28;01mreturn\u001b[39;00m \u001b[43mh_k\u001b[49m\u001b[43m(\u001b[49m\u001b[43mkx\u001b[49m\u001b[43m,\u001b[49m\u001b[43m \u001b[49m\u001b[43mky\u001b[49m\u001b[43m)\u001b[49m\n",
      "File \u001b[0;32m/opt/conda/lib/python3.10/site-packages/numpy/lib/function_base.py:2328\u001b[0m, in \u001b[0;36mvectorize.__call__\u001b[0;34m(self, *args, **kwargs)\u001b[0m\n\u001b[1;32m   2325\u001b[0m     vargs \u001b[38;5;241m=\u001b[39m [args[_i] \u001b[38;5;28;01mfor\u001b[39;00m _i \u001b[38;5;129;01min\u001b[39;00m inds]\n\u001b[1;32m   2326\u001b[0m     vargs\u001b[38;5;241m.\u001b[39mextend([kwargs[_n] \u001b[38;5;28;01mfor\u001b[39;00m _n \u001b[38;5;129;01min\u001b[39;00m names])\n\u001b[0;32m-> 2328\u001b[0m \u001b[38;5;28;01mreturn\u001b[39;00m \u001b[38;5;28;43mself\u001b[39;49m\u001b[38;5;241;43m.\u001b[39;49m\u001b[43m_vectorize_call\u001b[49m\u001b[43m(\u001b[49m\u001b[43mfunc\u001b[49m\u001b[38;5;241;43m=\u001b[39;49m\u001b[43mfunc\u001b[49m\u001b[43m,\u001b[49m\u001b[43m \u001b[49m\u001b[43margs\u001b[49m\u001b[38;5;241;43m=\u001b[39;49m\u001b[43mvargs\u001b[49m\u001b[43m)\u001b[49m\n",
      "File \u001b[0;32m/opt/conda/lib/python3.10/site-packages/numpy/lib/function_base.py:2414\u001b[0m, in \u001b[0;36mvectorize._vectorize_call\u001b[0;34m(self, func, args)\u001b[0m\n\u001b[1;32m   2411\u001b[0m outputs \u001b[38;5;241m=\u001b[39m ufunc(\u001b[38;5;241m*\u001b[39minputs)\n\u001b[1;32m   2413\u001b[0m \u001b[38;5;28;01mif\u001b[39;00m ufunc\u001b[38;5;241m.\u001b[39mnout \u001b[38;5;241m==\u001b[39m \u001b[38;5;241m1\u001b[39m:\n\u001b[0;32m-> 2414\u001b[0m     res \u001b[38;5;241m=\u001b[39m \u001b[43masanyarray\u001b[49m\u001b[43m(\u001b[49m\u001b[43moutputs\u001b[49m\u001b[43m,\u001b[49m\u001b[43m \u001b[49m\u001b[43mdtype\u001b[49m\u001b[38;5;241;43m=\u001b[39;49m\u001b[43motypes\u001b[49m\u001b[43m[\u001b[49m\u001b[38;5;241;43m0\u001b[39;49m\u001b[43m]\u001b[49m\u001b[43m)\u001b[49m\n\u001b[1;32m   2415\u001b[0m \u001b[38;5;28;01melse\u001b[39;00m:\n\u001b[1;32m   2416\u001b[0m     res \u001b[38;5;241m=\u001b[39m \u001b[38;5;28mtuple\u001b[39m([asanyarray(x, dtype\u001b[38;5;241m=\u001b[39mt)\n\u001b[1;32m   2417\u001b[0m                  \u001b[38;5;28;01mfor\u001b[39;00m x, t \u001b[38;5;129;01min\u001b[39;00m \u001b[38;5;28mzip\u001b[39m(outputs, otypes)])\n",
      "\u001b[0;31mTypeError\u001b[0m: only length-1 arrays can be converted to Python scalars"
     ]
    }
   ],
   "source": [
    "ks = np.linspace(0, 2 * np.pi, 2, endpoint=False)\n",
    "hamiltonians_0 = utils.syst2hamiltonian(kx=ks, ky=ks, syst=wrapped_fsyst)"
   ]
  },
  {
   "cell_type": "code",
   "execution_count": 17,
   "id": "8087fe0d-29dd-41c4-89fc-cd5cdc758c28",
   "metadata": {
    "tags": []
   },
   "outputs": [],
   "source": [
    "params={}\n",
    "# @np.vectorize\n",
    "def h_k(kx, ky):\n",
    "    return wrapped_fsyst.hamiltonian_submatrix(params={**params, **dict(k_x=kx, k_y=ky)})"
   ]
  },
  {
   "cell_type": "code",
   "execution_count": 19,
   "id": "5f79a80f-d9f6-4b22-b8a4-9d188153f0c9",
   "metadata": {
    "tags": []
   },
   "outputs": [
    {
     "ename": "TypeError",
     "evalue": "only length-1 arrays can be converted to Python scalars",
     "output_type": "error",
     "traceback": [
      "\u001b[0;31m---------------------------------------------------------------------------\u001b[0m",
      "\u001b[0;31mTypeError\u001b[0m                                 Traceback (most recent call last)",
      "Cell \u001b[0;32mIn[19], line 2\u001b[0m\n\u001b[1;32m      1\u001b[0m vhk\u001b[38;5;241m=\u001b[39mnp\u001b[38;5;241m.\u001b[39mvectorize(h_k)\n\u001b[0;32m----> 2\u001b[0m \u001b[43mvhk\u001b[49m\u001b[43m(\u001b[49m\u001b[43mkx\u001b[49m\u001b[38;5;241;43m=\u001b[39;49m\u001b[43mnp\u001b[49m\u001b[38;5;241;43m.\u001b[39;49m\u001b[43mlinspace\u001b[49m\u001b[43m(\u001b[49m\u001b[38;5;241;43m0\u001b[39;49m\u001b[43m,\u001b[49m\u001b[38;5;241;43m1\u001b[39;49m\u001b[43m)\u001b[49m\u001b[43m,\u001b[49m\u001b[43mky\u001b[49m\u001b[38;5;241;43m=\u001b[39;49m\u001b[43m[\u001b[49m\u001b[38;5;241;43m0\u001b[39;49m\u001b[43m]\u001b[49m\u001b[43m)\u001b[49m\n",
      "File \u001b[0;32m/opt/conda/lib/python3.10/site-packages/numpy/lib/function_base.py:2328\u001b[0m, in \u001b[0;36mvectorize.__call__\u001b[0;34m(self, *args, **kwargs)\u001b[0m\n\u001b[1;32m   2325\u001b[0m     vargs \u001b[38;5;241m=\u001b[39m [args[_i] \u001b[38;5;28;01mfor\u001b[39;00m _i \u001b[38;5;129;01min\u001b[39;00m inds]\n\u001b[1;32m   2326\u001b[0m     vargs\u001b[38;5;241m.\u001b[39mextend([kwargs[_n] \u001b[38;5;28;01mfor\u001b[39;00m _n \u001b[38;5;129;01min\u001b[39;00m names])\n\u001b[0;32m-> 2328\u001b[0m \u001b[38;5;28;01mreturn\u001b[39;00m \u001b[38;5;28;43mself\u001b[39;49m\u001b[38;5;241;43m.\u001b[39;49m\u001b[43m_vectorize_call\u001b[49m\u001b[43m(\u001b[49m\u001b[43mfunc\u001b[49m\u001b[38;5;241;43m=\u001b[39;49m\u001b[43mfunc\u001b[49m\u001b[43m,\u001b[49m\u001b[43m \u001b[49m\u001b[43margs\u001b[49m\u001b[38;5;241;43m=\u001b[39;49m\u001b[43mvargs\u001b[49m\u001b[43m)\u001b[49m\n",
      "File \u001b[0;32m/opt/conda/lib/python3.10/site-packages/numpy/lib/function_base.py:2414\u001b[0m, in \u001b[0;36mvectorize._vectorize_call\u001b[0;34m(self, func, args)\u001b[0m\n\u001b[1;32m   2411\u001b[0m outputs \u001b[38;5;241m=\u001b[39m ufunc(\u001b[38;5;241m*\u001b[39minputs)\n\u001b[1;32m   2413\u001b[0m \u001b[38;5;28;01mif\u001b[39;00m ufunc\u001b[38;5;241m.\u001b[39mnout \u001b[38;5;241m==\u001b[39m \u001b[38;5;241m1\u001b[39m:\n\u001b[0;32m-> 2414\u001b[0m     res \u001b[38;5;241m=\u001b[39m \u001b[43masanyarray\u001b[49m\u001b[43m(\u001b[49m\u001b[43moutputs\u001b[49m\u001b[43m,\u001b[49m\u001b[43m \u001b[49m\u001b[43mdtype\u001b[49m\u001b[38;5;241;43m=\u001b[39;49m\u001b[43motypes\u001b[49m\u001b[43m[\u001b[49m\u001b[38;5;241;43m0\u001b[39;49m\u001b[43m]\u001b[49m\u001b[43m)\u001b[49m\n\u001b[1;32m   2415\u001b[0m \u001b[38;5;28;01melse\u001b[39;00m:\n\u001b[1;32m   2416\u001b[0m     res \u001b[38;5;241m=\u001b[39m \u001b[38;5;28mtuple\u001b[39m([asanyarray(x, dtype\u001b[38;5;241m=\u001b[39mt)\n\u001b[1;32m   2417\u001b[0m                  \u001b[38;5;28;01mfor\u001b[39;00m x, t \u001b[38;5;129;01min\u001b[39;00m \u001b[38;5;28mzip\u001b[39m(outputs, otypes)])\n",
      "\u001b[0;31mTypeError\u001b[0m: only length-1 arrays can be converted to Python scalars"
     ]
    }
   ],
   "source": [
    "vhk=np.vectorize(h_k)\n",
    "vhk(kx=np.linspace(0,1),ky=[0])"
   ]
  },
  {
   "cell_type": "code",
   "execution_count": 50,
   "id": "94474a64-be2f-4b37-a2bf-a926080e4026",
   "metadata": {
    "tags": []
   },
   "outputs": [],
   "source": [
    "max_neighbor=1\n",
    "norbs=20\n",
    "shape = (\n",
    "    max_neighbor + len(graphene.sublattices),\n",
    "    2,\n",
    "    norbs,\n",
    "    norbs\n",
    ")\n",
    "mf = np.random.rand(*shape)\n",
    "mf2 = mf.flatten()\n",
    "mf2 = mf2.reshape(*shape)"
   ]
  },
  {
   "cell_type": "code",
   "execution_count": 51,
   "id": "61557cad-5bcc-402b-95a4-ec3e36a6d211",
   "metadata": {
    "tags": []
   },
   "outputs": [
    {
     "data": {
      "text/plain": [
       "array([[[[0., 0., 0., ..., 0., 0., 0.],\n",
       "         [0., 0., 0., ..., 0., 0., 0.],\n",
       "         [0., 0., 0., ..., 0., 0., 0.],\n",
       "         ...,\n",
       "         [0., 0., 0., ..., 0., 0., 0.],\n",
       "         [0., 0., 0., ..., 0., 0., 0.],\n",
       "         [0., 0., 0., ..., 0., 0., 0.]],\n",
       "\n",
       "        [[0., 0., 0., ..., 0., 0., 0.],\n",
       "         [0., 0., 0., ..., 0., 0., 0.],\n",
       "         [0., 0., 0., ..., 0., 0., 0.],\n",
       "         ...,\n",
       "         [0., 0., 0., ..., 0., 0., 0.],\n",
       "         [0., 0., 0., ..., 0., 0., 0.],\n",
       "         [0., 0., 0., ..., 0., 0., 0.]]],\n",
       "\n",
       "\n",
       "       [[[0., 0., 0., ..., 0., 0., 0.],\n",
       "         [0., 0., 0., ..., 0., 0., 0.],\n",
       "         [0., 0., 0., ..., 0., 0., 0.],\n",
       "         ...,\n",
       "         [0., 0., 0., ..., 0., 0., 0.],\n",
       "         [0., 0., 0., ..., 0., 0., 0.],\n",
       "         [0., 0., 0., ..., 0., 0., 0.]],\n",
       "\n",
       "        [[0., 0., 0., ..., 0., 0., 0.],\n",
       "         [0., 0., 0., ..., 0., 0., 0.],\n",
       "         [0., 0., 0., ..., 0., 0., 0.],\n",
       "         ...,\n",
       "         [0., 0., 0., ..., 0., 0., 0.],\n",
       "         [0., 0., 0., ..., 0., 0., 0.],\n",
       "         [0., 0., 0., ..., 0., 0., 0.]]],\n",
       "\n",
       "\n",
       "       [[[0., 0., 0., ..., 0., 0., 0.],\n",
       "         [0., 0., 0., ..., 0., 0., 0.],\n",
       "         [0., 0., 0., ..., 0., 0., 0.],\n",
       "         ...,\n",
       "         [0., 0., 0., ..., 0., 0., 0.],\n",
       "         [0., 0., 0., ..., 0., 0., 0.],\n",
       "         [0., 0., 0., ..., 0., 0., 0.]],\n",
       "\n",
       "        [[0., 0., 0., ..., 0., 0., 0.],\n",
       "         [0., 0., 0., ..., 0., 0., 0.],\n",
       "         [0., 0., 0., ..., 0., 0., 0.],\n",
       "         ...,\n",
       "         [0., 0., 0., ..., 0., 0., 0.],\n",
       "         [0., 0., 0., ..., 0., 0., 0.],\n",
       "         [0., 0., 0., ..., 0., 0., 0.]]]])"
      ]
     },
     "execution_count": 51,
     "metadata": {},
     "output_type": "execute_result"
    }
   ],
   "source": [
    "mf - mf2"
   ]
  },
  {
   "cell_type": "code",
   "execution_count": 152,
   "id": "d45e62e4-dace-4472-adbb-3305a41bd333",
   "metadata": {
    "tags": []
   },
   "outputs": [],
   "source": [
    "deltas = extract_hopping_vectors(bulk_graphene)\n",
    "nk=100\n",
    "ks, dk = np.linspace(0, 2 * np.pi, nk, endpoint=False, retstep=True)\n",
    "hamiltonians_0 = utils.syst2hamiltonian(kxs=ks, kys=ks, syst=wrapped_fsyst)"
   ]
  },
  {
   "cell_type": "code",
   "execution_count": 153,
   "id": "26e4203a-0140-4a66-891a-2912e3bb721e",
   "metadata": {
    "tags": []
   },
   "outputs": [
    {
     "data": {
      "text/plain": [
       "array([[ 0, -1],\n",
       "       [ 0,  0],\n",
       "       [ 1, -1],\n",
       "       [-1,  0],\n",
       "       [-1,  1],\n",
       "       [ 0, -1],\n",
       "       [-1,  0],\n",
       "       [-1,  1],\n",
       "       [ 0, -1]])"
      ]
     },
     "execution_count": 153,
     "metadata": {},
     "output_type": "execute_result"
    }
   ],
   "source": [
    "deltas"
   ]
  },
  {
   "cell_type": "code",
   "execution_count": 154,
   "id": "7570fda5-a1e4-43e8-b89e-a6f6e83436be",
   "metadata": {
    "tags": []
   },
   "outputs": [],
   "source": [
    "kxx, kyy = np.meshgrid(ks, ks)\n",
    "deltas = np.asarray(deltas)\n",
    "kxy = np.array([kxx, kyy])\n",
    "hopps = np.sum(\n",
    "    np.einsum(\n",
    "        \"ijk,jklm->ijklm\",\n",
    "        np.exp(1j * np.einsum(\"ij,jkl->ikl\", deltas, kxy)),\n",
    "        hamiltonians_0,\n",
    "    ),\n",
    "    axis=(1, 2),\n",
    ") * (dk)**2 / (2 * np.pi)**2"
   ]
  },
  {
   "cell_type": "code",
   "execution_count": 155,
   "id": "89b06c4e-75b1-430b-b026-22f108898e51",
   "metadata": {
    "tags": []
   },
   "outputs": [
    {
     "data": {
      "text/plain": [
       "array([[4.0983883e-17-1.j, 0.0000000e+00+0.j],\n",
       "       [0.0000000e+00+0.j, 4.0983883e-17-1.j]])"
      ]
     },
     "execution_count": 155,
     "metadata": {},
     "output_type": "execute_result"
    }
   ],
   "source": [
    "hopps[7][:2,:2]"
   ]
  },
  {
   "cell_type": "code",
   "execution_count": 156,
   "id": "52dcb47f-8a52-4c11-8b4e-38d5959ac118",
   "metadata": {
    "tags": []
   },
   "outputs": [
    {
     "data": {
      "text/plain": [
       "array([[1.-1.04091735e-16j, 0.+0.00000000e+00j],\n",
       "       [0.+0.00000000e+00j, 1.-1.04091735e-16j]])"
      ]
     },
     "execution_count": 156,
     "metadata": {},
     "output_type": "execute_result"
    }
   ],
   "source": [
    "hopps[0][2:,:2]"
   ]
  },
  {
   "cell_type": "code",
   "execution_count": 140,
   "id": "3dd2139f-713a-496f-8056-19e8d7ef56d2",
   "metadata": {
    "tags": []
   },
   "outputs": [
    {
     "data": {
      "text/plain": [
       "(2, 10, 10)"
      ]
     },
     "execution_count": 140,
     "metadata": {},
     "output_type": "execute_result"
    }
   ],
   "source": [
    "kxy.shape"
   ]
  },
  {
   "cell_type": "code",
   "execution_count": 90,
   "id": "10d07c6b-1762-42e9-aeaf-0c1f4d1ce0e3",
   "metadata": {
    "tags": []
   },
   "outputs": [
    {
     "data": {
      "text/plain": [
       "(3, 10, 10)"
      ]
     },
     "execution_count": 90,
     "metadata": {},
     "output_type": "execute_result"
    }
   ],
   "source": [
    "np.einsum(\"ij,jkl->ikl\", deltas, kxy).shape"
   ]
  },
  {
   "cell_type": "code",
   "execution_count": null,
   "id": "b161c9d7-bbf9-403b-882a-df48262315c8",
   "metadata": {},
   "outputs": [],
   "source": [
    "deltas=[]\n",
    "for hop, val in builder.hopping_value_pairs():\n",
    "    a, b=hop\n",
    "    b_dom = builder.symmetry.which(b)\n",
    "    # Throw away part that is in the remaining translation direction, so we get\n",
    "    # an element of 'sym' which is being wrapped\n",
    "    b_dom = ta.array([t for i, t in enumerate(b_dom) if i != keep])\n",
    "    deltas.append(b_dom)"
   ]
  }
 ],
 "metadata": {
  "kernelspec": {
   "display_name": "Python 3 (ipykernel)",
   "language": "python",
   "name": "python3"
  },
  "language_info": {
   "codemirror_mode": {
    "name": "ipython",
    "version": 3
   },
   "file_extension": ".py",
   "mimetype": "text/x-python",
   "name": "python",
   "nbconvert_exporter": "python",
   "pygments_lexer": "ipython3",
   "version": "3.10.8"
  },
  "widgets": {
   "application/vnd.jupyter.widget-state+json": {
    "state": {},
    "version_major": 2,
    "version_minor": 0
   }
  }
 },
 "nbformat": 4,
 "nbformat_minor": 5
}
