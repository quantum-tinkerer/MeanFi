{
 "cells": [
  {
   "cell_type": "code",
   "execution_count": 1,
   "id": "cb509096-42c6-4a45-8dc4-a8eed3116e67",
   "metadata": {
    "tags": []
   },
   "outputs": [],
   "source": [
    "import kwant\n",
    "import numpy as np\n",
    "import matplotlib.pyplot as plt\n",
    "\n",
    "\n",
    "s0 = np.identity(2)\n",
    "sz = np.diag([1, -1])\n",
    "\n",
    "\n",
    "graphene = kwant.lattice.general(\n",
    "    [[1, 0], [1 / 2, np.sqrt(3) / 2]], [[0, 0], [0, 1 / np.sqrt(3)]]\n",
    ")\n",
    "a, b = graphene.sublattices\n",
    "\n",
    "# create bulk system\n",
    "bulk_graphene = kwant.Builder(kwant.TranslationalSymmetry(*graphene.prim_vecs))\n",
    "# add sublattice potential\n",
    "m0 = 0\n",
    "\n",
    "bulk_graphene[a.shape((lambda pos: True), (0, 0))] = m0 * s0\n",
    "bulk_graphene[b.shape((lambda pos: True), (0, 0))] = -m0 * s0\n",
    "# add hoppings between sublattices\n",
    "bulk_graphene[graphene.neighbors(1)] = s0\n",
    "\n",
    "# use kwant wraparound to sample bulk k-space\n",
    "wrapped_syst_unfinalized = kwant.wraparound.wraparound(bulk_graphene)\n",
    "wrapped_syst = kwant.wraparound.wraparound(bulk_graphene).finalized()\n",
    "\n",
    "\n",
    "# return a hamiltonian for a given kx, ky\n",
    "@np.vectorize\n",
    "def hamiltonian_return(kx, ky, params={}):\n",
    "    ham = wrapped_syst.hamiltonian_submatrix(params={**params, **dict(k_x=kx, k_y=ky)})\n",
    "    return ham"
   ]
  },
  {
   "cell_type": "markdown",
   "id": "06cecbbe-50e9-4480-b66a-f5203e40937c",
   "metadata": {},
   "source": [
    "Now we sample the non-interacting hamiltonian on a k-grid:"
   ]
  },
  {
   "cell_type": "code",
   "execution_count": 32,
   "id": "708cebac-61ad-4cf1-8432-4302d91954b9",
   "metadata": {
    "tags": []
   },
   "outputs": [],
   "source": [
    "def mean_field_F(vals, vecs, E_F):\n",
    "    N_ks = vecs.shape[0]\n",
    "    unocc_vals = vals > E_F\n",
    "\n",
    "    def mf_generator(i, j):\n",
    "        occ_vecs = vecs[i, j]\n",
    "        occ_vecs[:, unocc_vals[i, j]] = 0\n",
    "        F_ij = occ_vecs @ occ_vecs.conj().T\n",
    "        return F_ij\n",
    "\n",
    "    F = np.array([[mf_generator(i, j) for i in range(N_ks)] for j in range(N_ks)])\n",
    "    return F\n",
    "\n",
    "\n",
    "def get_fermi_energy(vals, filling):\n",
    "    norbs = vals.shape[-1]\n",
    "    vals_flat = np.sort(vals.flatten())\n",
    "    ne = len(vals_flat)\n",
    "    ifermi = int(round(ne * filling / norbs))\n",
    "    if ifermi >= ne:\n",
    "        ifermi = ne - 1\n",
    "    sorte = np.sort(vals_flat)  # sorted eigenvalues\n",
    "    if ifermi == 0:\n",
    "        return sorte[0]\n",
    "    fermi = (sorte[ifermi - 1] + sorte[ifermi]) / 2.0  # fermi energy\n",
    "    return fermi\n",
    "\n",
    "\n",
    "from scipy.signal import convolve2d\n",
    "\n",
    "\n",
    "def convolution(M1, M2):\n",
    "    cell_size = M2.shape[-1]\n",
    "    V_output = np.array(\n",
    "        [\n",
    "            [\n",
    "                convolve2d(M1[:, :, i, j], M2[:, :, i, j], boundary=\"wrap\", mode=\"same\")\n",
    "                for i in range(cell_size)\n",
    "            ]\n",
    "            for j in range(cell_size)\n",
    "        ]\n",
    "    )\n",
    "    V_output = np.transpose(V_output, axes=(2, 3, 0, 1))\n",
    "    return V_output"
   ]
  },
  {
   "cell_type": "code",
   "execution_count": 33,
   "id": "9cc3b32d-404f-4bc5-a338-83571c9e4c4b",
   "metadata": {
    "tags": []
   },
   "outputs": [],
   "source": [
    "def func_onsite(site, U):\n",
    "    return U * np.ones((2, 2))\n",
    "\n",
    "\n",
    "def func_hop(site1, site2, V):\n",
    "    rij = np.linalg.norm(site1.pos - site2.pos)\n",
    "    return V * np.ones((2, 2))\n",
    "\n",
    "\n",
    "lattice = graphene\n",
    "syst = wrapped_syst_unfinalized\n",
    "\n",
    "\n",
    "def compute_Vk(dummy_syst, kx, ky, params={}):\n",
    "    V = dummy_syst.hamiltonian_submatrix(params={**params, **dict(k_x=kx, k_y=ky)})\n",
    "    return V\n",
    "\n",
    "\n",
    "def potential_to_hamiltonian(\n",
    "    syst, lattice, func_onsite, func_hop, params, nk_axis, max_neighbor=1\n",
    "):\n",
    "    V = kwant.Builder(kwant.TranslationalSymmetry(*lattice.prim_vecs))\n",
    "    V[syst.sites()] = func_onsite\n",
    "    for neighbors in range(max_neighbor):\n",
    "        V[lattice.neighbors(neighbors + 1)] = func_hop\n",
    "    wrapped_V = kwant.wraparound.wraparound(V).finalized()\n",
    "\n",
    "    return np.array(\n",
    "        [\n",
    "            [\n",
    "                compute_Vk(dummy_syst=wrapped_V, kx=kx, ky=ky, params=params)\n",
    "                for kx in nk_axis\n",
    "            ]\n",
    "            for ky in nk_axis\n",
    "        ]\n",
    "    )"
   ]
  },
  {
   "cell_type": "code",
   "execution_count": 34,
   "id": "d1ef154e-70bd-4f28-887f-72362d8533dd",
   "metadata": {
    "tags": []
   },
   "outputs": [],
   "source": [
    "Us = np.linspace(1e-6, 5, 10)\n",
    "Vs = np.linspace(1e-6, 5, 10)"
   ]
  },
  {
   "cell_type": "code",
   "execution_count": 115,
   "id": "117f5557-0e6a-4b02-b0eb-125e68c839dd",
   "metadata": {
    "tags": []
   },
   "outputs": [],
   "source": [
    "from numpy.linalg import qr\n",
    "from functools import partial\n",
    "\n",
    "\n",
    "def generate_mf_k(syst, params, nk_axis):\n",
    "    return np.array(\n",
    "        [\n",
    "            [compute_Vk(dummy_syst=syst, kx=kx, ky=ky, params=params) for kx in nk_axis]\n",
    "            for ky in nk_axis\n",
    "        ]\n",
    "    )\n",
    "\n",
    "\n",
    "def scf_loop(mf, H_int, scf_syst, nk_axis, hamiltonians_0, filling=2, max_neighbor=1):\n",
    "    mf = mf.reshape(\n",
    "        max_neighbor + 1,\n",
    "        2,\n",
    "        hamiltonians_0.shape[-1] // 2,\n",
    "        hamiltonians_0.shape[-1] // 2,\n",
    "    )\n",
    "    params = dict(mat=mf)\n",
    "    mf_k = generate_mf_k(syst=scf_syst, nk_axis=nk_axis, params=params)\n",
    "\n",
    "    H0_int = H_int[0, 0]\n",
    "\n",
    "    # Generate the Hamiltonian\n",
    "    hamiltonians = hamiltonians_0 + mf_k\n",
    "    vals, vecs = np.linalg.eigh(hamiltonians)\n",
    "    vecs = qr(vecs)[0]\n",
    "    # Compute new Fermi energy\n",
    "    E_F = get_fermi_energy(vals, filling)\n",
    "    F = mean_field_F(vals, vecs, E_F=E_F)\n",
    "    rho = np.diag(np.average(F, axis=(0, 1)))\n",
    "    exchange_mf = convolution(F, H_int) * len(nk_axis) ** (-2)\n",
    "    direct_mf = np.diag(np.einsum(\"i,ij->j\", rho, H0_int))\n",
    "\n",
    "    mf_new = direct_mf - exchange_mf\n",
    "\n",
    "    diff = mf_new - mf_k\n",
    "\n",
    "    return np.linalg.norm(diff) / np.prod(diff.shape)"
   ]
  },
  {
   "cell_type": "code",
   "execution_count": null,
   "id": "32b9e7c5-db12-44f9-930c-21e5494404b8",
   "metadata": {
    "tags": []
   },
   "outputs": [
    {
     "name": "stderr",
     "output_type": "stream",
     "text": [
      " 80%|████████  | 8/10 [11:09<02:54, 87.27s/it]"
     ]
    }
   ],
   "source": [
    "def generate_guess(max_neighbor, n):\n",
    "    guesses = []\n",
    "    for i in range(max_neighbor + 1):\n",
    "        guess = (\n",
    "            0.5 * np.random.rand(n, n) * np.exp(1j * 2 * np.pi * np.random.rand(n, n))\n",
    "        )\n",
    "        guess = 0.5 * (guess + guess.T.conj())\n",
    "        guess = np.stack([guess.real, guess.imag])\n",
    "        guesses.append(guess)\n",
    "    return np.asarray(guesses)\n",
    "\n",
    "\n",
    "def generate_scf_syst(syst=syst, max_neighbor=1):\n",
    "    scf = kwant.Builder(kwant.TranslationalSymmetry(*lattice.prim_vecs))\n",
    "\n",
    "    def scf_onsite(site, mat):\n",
    "        return mat[0, 0] + 1j * mat[0, 1]\n",
    "\n",
    "    scf[syst.sites()] = scf_onsite\n",
    "    for neighbor in range(max_neighbor):\n",
    "\n",
    "        def scf_hopping(site1, site2, mat):\n",
    "            return mat[neighbor + 1, 0] + mat[neighbor + 1, 1]\n",
    "\n",
    "        scf[lattice.neighbors(neighbor + 1)] = scf_hopping\n",
    "    wrapped_scf = kwant.wraparound.wraparound(scf).finalized()\n",
    "    return wrapped_scf\n",
    "\n",
    "\n",
    "from scipy.optimize import minimize, anderson, fmin, root\n",
    "\n",
    "\n",
    "def compute_gap(U, V, max_neighbor=1, nk=9):\n",
    "    nk_axis = np.linspace(0, 2 * np.pi, nk, endpoint=False)\n",
    "    hamiltonians_0 = np.array(\n",
    "        [[hamiltonian_return(kx, ky) for kx in nk_axis] for ky in nk_axis]\n",
    "    )\n",
    "    # Generate interacting matrix\n",
    "    Uk = potential_to_hamiltonian(\n",
    "        syst=wrapped_syst_unfinalized,\n",
    "        lattice=graphene,\n",
    "        func_onsite=func_onsite,\n",
    "        func_hop=func_hop,\n",
    "        params=dict(U=1, V=0),\n",
    "        nk_axis=nk_axis,\n",
    "    )\n",
    "\n",
    "    Vk = potential_to_hamiltonian(\n",
    "        syst=wrapped_syst_unfinalized,\n",
    "        lattice=graphene,\n",
    "        func_onsite=func_onsite,\n",
    "        func_hop=func_hop,\n",
    "        params=dict(U=0, V=1),\n",
    "        nk_axis=nk_axis,\n",
    "    )\n",
    "    H_int = U * Uk + V * Vk\n",
    "    guess = generate_guess(max_neighbor=max_neighbor, n=hamiltonians_0.shape[-1] // 2)\n",
    "    scf_syst = generate_scf_syst()\n",
    "    fun = partial(\n",
    "        scf_loop,\n",
    "        H_int=H_int,\n",
    "        scf_syst=scf_syst,\n",
    "        hamiltonians_0=hamiltonians_0,\n",
    "        nk_axis=nk_axis,\n",
    "        max_neighbor=max_neighbor,\n",
    "    )\n",
    "    mf = minimize(fun, guess.flatten(), tol=1e-3).x\n",
    "    mf = mf.reshape(\n",
    "        max_neighbor + 1,\n",
    "        2,\n",
    "        hamiltonians_0.shape[-1] // 2,\n",
    "        hamiltonians_0.shape[-1] // 2,\n",
    "    )\n",
    "    nk_axis = np.linspace(0, 2 * np.pi, 30, endpoint=False)\n",
    "    hamiltonians_0 = np.array(\n",
    "        [[hamiltonian_return(kx, ky) for kx in nk_axis] for ky in nk_axis]\n",
    "    )\n",
    "    scf_mf_k = generate_mf_k(syst=scf_syst, nk_axis=nk_axis, params=dict(mat=mf))\n",
    "    vals, vecs = np.linalg.eigh(hamiltonians_0 + scf_mf_k)\n",
    "    E_F = get_fermi_energy(vals, 2)\n",
    "    emax = np.max(vals[vals <= E_F])\n",
    "    emin = np.min(vals[vals > E_F])\n",
    "    return np.abs(emin - emax)\n",
    "\n",
    "\n",
    "from tqdm import tqdm\n",
    "\n",
    "gap = []\n",
    "for U in tqdm(Us):\n",
    "    gap_U = []\n",
    "    for V in Vs:\n",
    "        gap_U.append(compute_gap(U, V))\n",
    "    gap.append(gap_U)"
   ]
  },
  {
   "cell_type": "code",
   "execution_count": 126,
   "id": "a04563c8-81a1-4fd2-9bf3-817224fefe48",
   "metadata": {
    "tags": []
   },
   "outputs": [
    {
     "data": {
      "text/plain": [
       "<matplotlib.colorbar.Colorbar at 0x7f5d2ba605e0>"
      ]
     },
     "execution_count": 126,
     "metadata": {},
     "output_type": "execute_result"
    },
    {
     "data": {
      "image/png": "[encoded data removed]",
      "text/plain": [
       "<Figure size 640x480 with 2 Axes>"
      ]
     },
     "metadata": {},
     "output_type": "display_data"
    }
   ],
   "source": [
    "gap = np.asarray(gap, dtype=float)\n",
    "plt.imshow(np.log10(gap).T, origin='lower', extent=(0, 5, 0, 5), vmin=-1, vmax=0.6)\n",
    "plt.colorbar()"
   ]
  },
  {
   "cell_type": "code",
   "execution_count": null,
   "id": "44a841db-fde7-4886-a663-9d400746add9",
   "metadata": {},
   "outputs": [],
   "source": []
  }
 ],
 "metadata": {
  "kernelspec": {
   "display_name": "Python 3 (ipykernel)",
   "language": "python",
   "name": "python3"
  },
  "language_info": {
   "codemirror_mode": {
    "name": "ipython",
    "version": 3
   },
   "file_extension": ".py",
   "mimetype": "text/x-python",
   "name": "python",
   "nbconvert_exporter": "python",
   "pygments_lexer": "ipython3",
   "version": "3.10.8"
  },
  "widgets": {
   "application/vnd.jupyter.widget-state+json": {
    "state": {},
    "version_major": 2,
    "version_minor": 0
   }
  }
 },
 "nbformat": 4,
 "nbformat_minor": 5
}
