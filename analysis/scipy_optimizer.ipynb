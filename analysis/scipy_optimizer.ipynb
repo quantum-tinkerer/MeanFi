{
 "cells": [
  {
   "cell_type": "code",
   "execution_count": 1,
   "id": "cb509096-42c6-4a45-8dc4-a8eed3116e67",
   "metadata": {
    "tags": []
   },
   "outputs": [],
   "source": [
    "import kwant\n",
    "import numpy as np\n",
    "import matplotlib.pyplot as plt\n",
    "from codes import utils, hf\n",
    "from scipy.optimize import anderson\n",
    "from tqdm import tqdm\n",
    "\n",
    "s0 = np.identity(2)\n",
    "sz = np.diag([1, -1])\n",
    "\n",
    "norbs=2\n",
    "\n",
    "graphene = kwant.lattice.general(\n",
    "    [[1, 0], [1 / 2, np.sqrt(3) / 2]], [[0, 0], [0, 1 / np.sqrt(3)]],\n",
    "    norbs=norbs\n",
    ")\n",
    "a, b = graphene.sublattices\n",
    "\n",
    "# create bulk system\n",
    "bulk_graphene = kwant.Builder(kwant.TranslationalSymmetry(*graphene.prim_vecs))\n",
    "# add sublattice potential\n",
    "m0 = 0\n",
    "bulk_graphene[a.shape((lambda pos: True), (0, 0))] = m0 * sz\n",
    "bulk_graphene[b.shape((lambda pos: True), (0, 0))] = -m0 * sz\n",
    "# add hoppings between sublattices\n",
    "bulk_graphene[graphene.neighbors(1)] = s0\n",
    "\n",
    "# use kwant wraparound to sample bulk k-space\n",
    "wrapped_syst = kwant.wraparound.wraparound(bulk_graphene)\n",
    "wrapped_fsyst = kwant.wraparound.wraparound(bulk_graphene).finalized()"
   ]
  },
  {
   "cell_type": "code",
   "execution_count": 2,
   "id": "9cc3b32d-404f-4bc5-a338-83571c9e4c4b",
   "metadata": {
    "tags": []
   },
   "outputs": [],
   "source": [
    "def func_onsite(site, U):\n",
    "    return U * np.ones((2, 2))\n",
    "\n",
    "def func_hop(site1, site2, V):\n",
    "    rij = np.linalg.norm(site1.pos - site2.pos)\n",
    "    return V * np.ones((2, 2))\n",
    "\n",
    "def calculate_Hint(U, V, Uk, Vk):\n",
    "    return U * Uk + V * Vk"
   ]
  },
  {
   "cell_type": "code",
   "execution_count": 203,
   "id": "d1ef154e-70bd-4f28-887f-72362d8533dd",
   "metadata": {
    "tags": []
   },
   "outputs": [],
   "source": [
    "Us = np.linspace(0, 4, 50)\n",
    "Vs = np.linspace(0, 1.5, 20)"
   ]
  },
  {
   "cell_type": "code",
   "execution_count": 204,
   "id": "32b9e7c5-db12-44f9-930c-21e5494404b8",
   "metadata": {
    "tags": []
   },
   "outputs": [],
   "source": [
    "dummy_syst, deltas = utils.generate_scf_syst(\n",
    "    max_neighbor=1, syst=wrapped_syst, lattice=graphene\n",
    ")\n",
    "\n",
    "deltas = np.asarray(deltas)\n",
    "deltas = np.unique(np.stack([*deltas, *-deltas]), axis=(0))\n",
    "\n",
    "\n",
    "def compute_gap(\n",
    "    U,\n",
    "    V,\n",
    "    H_int,\n",
    "    max_neighbor=1,\n",
    "    lattice=graphene,\n",
    "    filling=2,\n",
    "    nk=12,\n",
    "    tol=1e-5,\n",
    "    norbs=norbs,\n",
    "    nk_dense=30,\n",
    "    mixing=0.5,\n",
    "    order=1,\n",
    "    guess=None\n",
    "):\n",
    "    # Generate coarse-grid k-points\n",
    "    ks, dk = np.linspace(0, 2 * np.pi, nk, endpoint=False, retstep=True)\n",
    "    # Generate Hamiltonian on a k-point grid\n",
    "    hamiltonians_0 = utils.syst2hamiltonian(kxs=ks, kys=ks, syst=wrapped_fsyst)\n",
    "    # Generate guess on the same grid\n",
    "    if guess is None:\n",
    "        guess = utils.generate_guess(max_neighbor, norbs, lattice, ks, ks, dummy_syst)\n",
    "    else:\n",
    "        # guess *= 0.25\n",
    "        guess += 0.05 * np.max(guess) * utils.generate_guess(max_neighbor, norbs, lattice, ks, ks, dummy_syst)\n",
    "        # guess = guess\n",
    "    # Find groundstate Hamiltonian on the same grid\n",
    "    hk = hf.find_groundstate_ham(\n",
    "        H_int=H_int,\n",
    "        filling=filling,\n",
    "        hamiltonians_0=hamiltonians_0,\n",
    "        tol=tol,\n",
    "        guess=guess,\n",
    "        mixing=mixing,\n",
    "        order=order,\n",
    "    )\n",
    "    # Diagonalize groundstate Hamiltonian\n",
    "    vals, vecs = np.linalg.eigh(hk)\n",
    "    # Extract coarse-grid Fermi energy\n",
    "    E_F = utils.get_fermi_energy(vals, 2)\n",
    "    # Generate kwant system with k-grid Hamiltonian\n",
    "    scf_syst = utils.hk2syst(deltas, hk, ks, dk, max_neighbor, norbs, lattice)\n",
    "    # Generate dense-grid k-points\n",
    "    ks_dense = np.linspace(0, 2 * np.pi, nk_dense, endpoint=False)\n",
    "    # Compute groundstate Hamiltonian on a dense grid\n",
    "    scf_ham = utils.syst2hamiltonian(\n",
    "        kxs=ks_dense, kys=ks_dense, syst=scf_syst, params={}\n",
    "    )\n",
    "    # Diagonalize groundstate Hamiltonian\n",
    "    vals, vecs = np.linalg.eigh(scf_ham)\n",
    "    # Extract dense-grid Fermi energy\n",
    "    E_F = utils.get_fermi_energy(vals, 2)\n",
    "\n",
    "    gap = utils.calc_gap(vals, E_F)\n",
    "    return gap, hk\n",
    "\n",
    "\n",
    "def compute_phase_diagram(Us, Vs, nk, tol, mixing, order):\n",
    "    import qsymm\n",
    "    import adaptive\n",
    "    from codes import utils, hf\n",
    "\n",
    "    ks = np.linspace(0, 2 * np.pi, nk, endpoint=False)\n",
    "\n",
    "    Uk = utils.potential2hamiltonian(\n",
    "        syst=wrapped_syst,\n",
    "        lattice=graphene,\n",
    "        func_onsite=func_onsite,\n",
    "        func_hop=func_hop,\n",
    "        params=dict(U=1, V=0),\n",
    "        ks=ks,\n",
    "    )\n",
    "\n",
    "    Vk = utils.potential2hamiltonian(\n",
    "        syst=wrapped_syst,\n",
    "        lattice=graphene,\n",
    "        func_onsite=func_onsite,\n",
    "        func_hop=func_hop,\n",
    "        params=dict(U=0, V=1),\n",
    "        ks=ks,\n",
    "    )\n",
    "    gap = []\n",
    "    for U in tqdm(Us):\n",
    "        guess = None\n",
    "        gap_U = []\n",
    "        for V in Vs:\n",
    "            H_int = calculate_Hint(U, V, Uk, Vk)\n",
    "            _gap, guess = compute_gap(\n",
    "                U=U, V=V, H_int=H_int, nk=nk, tol=tol, mixing=mixing, order=order, guess=guess\n",
    "            )\n",
    "            gap_U.append(_gap)\n",
    "        gap.append(gap_U)\n",
    "    return np.asarray(gap, dtype=float)"
   ]
  },
  {
   "cell_type": "code",
   "execution_count": 205,
   "id": "6a8c08a9-7e31-420b-b6b4-709abfb26793",
   "metadata": {
    "tags": []
   },
   "outputs": [
    {
     "name": "stderr",
     "output_type": "stream",
     "text": [
      "  0%|          | 0/50 [00:00<?, ?it/s]/opt/conda/lib/python3.11/site-packages/scipy/optimize/_nonlin.py:1074: LinAlgWarning: Ill-conditioned matrix (rcond=2.50001e-17): result may not be accurate.\n",
      "  gamma = solve(self.a, df_f)\n",
      "/opt/conda/lib/python3.11/site-packages/scipy/optimize/_nonlin.py:1074: LinAlgWarning: Ill-conditioned matrix (rcond=1.6988e-17): result may not be accurate.\n",
      "  gamma = solve(self.a, df_f)\n",
      "/opt/conda/lib/python3.11/site-packages/scipy/optimize/_nonlin.py:1074: LinAlgWarning: Ill-conditioned matrix (rcond=4.47968e-17): result may not be accurate.\n",
      "  gamma = solve(self.a, df_f)\n",
      "/opt/conda/lib/python3.11/site-packages/scipy/optimize/_nonlin.py:1074: LinAlgWarning: Ill-conditioned matrix (rcond=1.40439e-18): result may not be accurate.\n",
      "  gamma = solve(self.a, df_f)\n",
      "  2%|▏         | 1/50 [00:58<48:01, 58.81s/it]/opt/conda/lib/python3.11/site-packages/scipy/optimize/_nonlin.py:1074: LinAlgWarning: Ill-conditioned matrix (rcond=8.73276e-17): result may not be accurate.\n",
      "  gamma = solve(self.a, df_f)\n",
      "/opt/conda/lib/python3.11/site-packages/scipy/optimize/_nonlin.py:1074: LinAlgWarning: Ill-conditioned matrix (rcond=8.6841e-17): result may not be accurate.\n",
      "  gamma = solve(self.a, df_f)\n",
      " 12%|█▏        | 6/50 [06:47<1:00:32, 82.57s/it]/opt/conda/lib/python3.11/site-packages/scipy/optimize/_nonlin.py:1074: LinAlgWarning: Ill-conditioned matrix (rcond=4.91398e-17): result may not be accurate.\n",
      "  gamma = solve(self.a, df_f)\n",
      "/opt/conda/lib/python3.11/site-packages/scipy/optimize/_nonlin.py:1074: LinAlgWarning: Ill-conditioned matrix (rcond=3.42637e-17): result may not be accurate.\n",
      "  gamma = solve(self.a, df_f)\n",
      "/opt/conda/lib/python3.11/site-packages/scipy/optimize/_nonlin.py:1074: LinAlgWarning: Ill-conditioned matrix (rcond=4.66412e-17): result may not be accurate.\n",
      "  gamma = solve(self.a, df_f)\n",
      " 22%|██▏       | 11/50 [11:20<37:26, 57.59s/it] /opt/conda/lib/python3.11/site-packages/scipy/optimize/_nonlin.py:1074: LinAlgWarning: Ill-conditioned matrix (rcond=6.0485e-17): result may not be accurate.\n",
      "  gamma = solve(self.a, df_f)\n",
      "/opt/conda/lib/python3.11/site-packages/scipy/optimize/_nonlin.py:1074: LinAlgWarning: Ill-conditioned matrix (rcond=1.06243e-16): result may not be accurate.\n",
      "  gamma = solve(self.a, df_f)\n",
      " 44%|████▍     | 22/50 [22:44<23:29, 50.35s/it]/opt/conda/lib/python3.11/site-packages/scipy/optimize/_nonlin.py:1074: LinAlgWarning: Ill-conditioned matrix (rcond=2.39166e-17): result may not be accurate.\n",
      "  gamma = solve(self.a, df_f)\n",
      "/opt/conda/lib/python3.11/site-packages/scipy/optimize/_nonlin.py:1074: LinAlgWarning: Ill-conditioned matrix (rcond=1.33283e-17): result may not be accurate.\n",
      "  gamma = solve(self.a, df_f)\n",
      "/opt/conda/lib/python3.11/site-packages/scipy/optimize/_nonlin.py:1074: LinAlgWarning: Ill-conditioned matrix (rcond=4.93204e-17): result may not be accurate.\n",
      "  gamma = solve(self.a, df_f)\n",
      "/opt/conda/lib/python3.11/site-packages/scipy/optimize/_nonlin.py:1074: LinAlgWarning: Ill-conditioned matrix (rcond=5.56129e-17): result may not be accurate.\n",
      "  gamma = solve(self.a, df_f)\n",
      "/opt/conda/lib/python3.11/site-packages/scipy/optimize/_nonlin.py:1074: LinAlgWarning: Ill-conditioned matrix (rcond=3.71127e-17): result may not be accurate.\n",
      "  gamma = solve(self.a, df_f)\n",
      " 46%|████▌     | 23/50 [23:30<22:04, 49.06s/it]/opt/conda/lib/python3.11/site-packages/scipy/optimize/_nonlin.py:1074: LinAlgWarning: Ill-conditioned matrix (rcond=4.10112e-17): result may not be accurate.\n",
      "  gamma = solve(self.a, df_f)\n",
      "/opt/conda/lib/python3.11/site-packages/scipy/optimize/_nonlin.py:1074: LinAlgWarning: Ill-conditioned matrix (rcond=4.01573e-17): result may not be accurate.\n",
      "  gamma = solve(self.a, df_f)\n",
      " 48%|████▊     | 24/50 [24:35<23:20, 53.86s/it]/opt/conda/lib/python3.11/site-packages/scipy/optimize/_nonlin.py:1074: LinAlgWarning: Ill-conditioned matrix (rcond=2.73759e-17): result may not be accurate.\n",
      "  gamma = solve(self.a, df_f)\n",
      "/opt/conda/lib/python3.11/site-packages/scipy/optimize/_nonlin.py:1074: LinAlgWarning: Ill-conditioned matrix (rcond=2.66533e-17): result may not be accurate.\n",
      "  gamma = solve(self.a, df_f)\n",
      "/opt/conda/lib/python3.11/site-packages/scipy/optimize/_nonlin.py:1074: LinAlgWarning: Ill-conditioned matrix (rcond=8.2465e-17): result may not be accurate.\n",
      "  gamma = solve(self.a, df_f)\n",
      " 50%|█████     | 25/50 [26:04<26:49, 64.39s/it]/opt/conda/lib/python3.11/site-packages/scipy/optimize/_nonlin.py:1074: LinAlgWarning: Ill-conditioned matrix (rcond=8.44437e-17): result may not be accurate.\n",
      "  gamma = solve(self.a, df_f)\n",
      "/opt/conda/lib/python3.11/site-packages/scipy/optimize/_nonlin.py:1074: LinAlgWarning: Ill-conditioned matrix (rcond=1.68657e-17): result may not be accurate.\n",
      "  gamma = solve(self.a, df_f)\n",
      "/opt/conda/lib/python3.11/site-packages/scipy/optimize/_nonlin.py:1074: LinAlgWarning: Ill-conditioned matrix (rcond=5.20015e-17): result may not be accurate.\n",
      "  gamma = solve(self.a, df_f)\n",
      " 54%|█████▍    | 27/50 [30:07<35:47, 93.36s/it]/opt/conda/lib/python3.11/site-packages/scipy/optimize/_nonlin.py:1074: LinAlgWarning: Ill-conditioned matrix (rcond=3.61553e-17): result may not be accurate.\n",
      "  gamma = solve(self.a, df_f)\n",
      " 58%|█████▊    | 29/50 [40:58<1:12:24, 206.88s/it]/opt/conda/lib/python3.11/site-packages/scipy/optimize/_nonlin.py:1074: LinAlgWarning: Ill-conditioned matrix (rcond=2.72304e-18): result may not be accurate.\n",
      "  gamma = solve(self.a, df_f)\n",
      "/opt/conda/lib/python3.11/site-packages/scipy/optimize/_nonlin.py:1074: LinAlgWarning: Ill-conditioned matrix (rcond=1.25632e-17): result may not be accurate.\n",
      "  gamma = solve(self.a, df_f)\n",
      " 76%|███████▌  | 38/50 [1:09:16<36:56, 184.69s/it]/opt/conda/lib/python3.11/site-packages/scipy/optimize/_nonlin.py:1074: LinAlgWarning: Ill-conditioned matrix (rcond=8.63078e-17): result may not be accurate.\n",
      "  gamma = solve(self.a, df_f)\n",
      "100%|██████████| 50/50 [1:29:09<00:00, 107.00s/it]\n"
     ]
    }
   ],
   "source": [
    "gap = compute_phase_diagram(Us, Vs, nk=15, tol=1e-5, mixing=0.01, order=10)"
   ]
  },
  {
   "cell_type": "code",
   "execution_count": 206,
   "id": "fe2837d4-9590-4ea9-8a8e-18ec76c50f0f",
   "metadata": {},
   "outputs": [],
   "source": [
    "# from dask_quantumtinkerer import Cluster\n",
    "# !ssh hpc05 -C \"killall dask-quantumtinkerer-server\"\n",
    "# cluster = Cluster(extra_path=\"Work/kwant-scf/test\", nodes=20)\n",
    "# cluster.launch_cluster()"
   ]
  },
  {
   "cell_type": "code",
   "execution_count": 207,
   "id": "7ae6858b-928e-499a-bda1-f77bc8199ecc",
   "metadata": {},
   "outputs": [],
   "source": [
    "# client = cluster.get_client()"
   ]
  },
  {
   "cell_type": "code",
   "execution_count": 208,
   "id": "2c7feca5-0cb8-474a-88a9-cce0ea303195",
   "metadata": {},
   "outputs": [],
   "source": [
    "# def wrapped_fun(xy):\n",
    "#     U, V = xy\n",
    "#     return compute_phase_diagram(U, V, nk=15, tol=1e-5, mixing=0.1, order=3)\n",
    "\n",
    "# Us = np.linspace(0, 3)\n",
    "# Vs = np.linspace(0, 3)\n",
    "\n",
    "# import itertools as it\n",
    "# values = list([Us, Vs])\n",
    "# args = np.array(list(it.product(*values)))\n",
    "# shapes = [len(value) for value in values]\n",
    "\n",
    "# result_ungathered = client.map(wrapped_fun, args)\n",
    "# result = client.gather(result_ungathered)"
   ]
  },
  {
   "cell_type": "code",
   "execution_count": 210,
   "id": "d988ce2e-b830-4234-83ed-4e6115ada377",
   "metadata": {},
   "outputs": [],
   "source": [
    "# plt.plot(Us, gap.T)\n",
    "# plt.show()"
   ]
  },
  {
   "cell_type": "code",
   "execution_count": 211,
   "id": "a04563c8-81a1-4fd2-9bf3-817224fefe48",
   "metadata": {
    "tags": []
   },
   "outputs": [
    {
     "data": {
      "text/plain": [
       "<matplotlib.colorbar.Colorbar at 0x7feadc629c50>"
      ]
     },
     "execution_count": 211,
     "metadata": {},
     "output_type": "execute_result"
    },
    {
     "data": {
      "image/png": "[encoded data removed]",
      "text/plain": [
       "<Figure size 640x480 with 2 Axes>"
      ]
     },
     "metadata": {},
     "output_type": "display_data"
    }
   ],
   "source": [
    "plt.imshow(np.log10(gap).T, origin='lower', extent=(Us.min(), Us.max(), Vs.min(), Vs.max()), vmin=-1)\n",
    "plt.colorbar()"
   ]
  },
  {
   "cell_type": "code",
   "execution_count": 212,
   "id": "46a0fc12-e273-412b-9a90-306163d225ff",
   "metadata": {
    "tags": []
   },
   "outputs": [
    {
     "data": {
      "text/plain": [
       "<matplotlib.colorbar.Colorbar at 0x7feadc4a9410>"
      ]
     },
     "execution_count": 212,
     "metadata": {},
     "output_type": "execute_result"
    },
    {
     "data": {
      "image/png": "[encoded data removed]",
      "text/plain": [
       "<Figure size 640x480 with 2 Axes>"
      ]
     },
     "metadata": {},
     "output_type": "display_data"
    }
   ],
   "source": [
    "plt.imshow(gap.T, origin='lower', extent=(Us.min(), Us.max(), Vs.min(), Vs.max()), vmin=0)\n",
    "plt.colorbar()"
   ]
  },
  {
   "cell_type": "code",
   "execution_count": 215,
   "id": "73f2398b-f0b2-4368-8ae2-dcdce9be296e",
   "metadata": {},
   "outputs": [],
   "source": [
    "import xarray as xr\n",
    "gap_da = xr.DataArray(data=gap, coords=dict(Us=Us, Vs=Vs))"
   ]
  },
  {
   "cell_type": "code",
   "execution_count": null,
   "id": "1e25512d-720b-4a20-a457-9b8a2638094a",
   "metadata": {},
   "outputs": [],
   "source": [
    "gap."
   ]
  }
 ],
 "metadata": {
  "kernelspec": {
   "display_name": "Python 3 (ipykernel)",
   "language": "python",
   "name": "python3"
  },
  "language_info": {
   "codemirror_mode": {
    "name": "ipython",
    "version": 3
   },
   "file_extension": ".py",
   "mimetype": "text/x-python",
   "name": "python",
   "nbconvert_exporter": "python",
   "pygments_lexer": "ipython3",
   "version": "3.11.5"
  },
  "widgets": {
   "application/vnd.jupyter.widget-state+json": {
    "state": {},
    "version_major": 2,
    "version_minor": 0
   }
  }
 },
 "nbformat": 4,
 "nbformat_minor": 5
}
