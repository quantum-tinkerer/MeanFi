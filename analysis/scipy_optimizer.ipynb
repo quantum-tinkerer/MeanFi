{
 "cells": [
  {
   "cell_type": "code",
   "execution_count": 1,
   "id": "cb509096-42c6-4a45-8dc4-a8eed3116e67",
   "metadata": {
    "tags": []
   },
   "outputs": [],
   "source": [
    "import kwant\n",
    "import numpy as np\n",
    "import matplotlib.pyplot as plt\n",
    "import utils, hf\n",
    "from scipy.optimize import anderson\n",
    "from tqdm import tqdm\n",
    "\n",
    "s0 = np.identity(2)\n",
    "sz = np.diag([1, -1])\n",
    "\n",
    "norbs=2\n",
    "\n",
    "graphene = kwant.lattice.general(\n",
    "    [[1, 0], [1 / 2, np.sqrt(3) / 2]], [[0, 0], [0, 1 / np.sqrt(3)]],\n",
    "    norbs=norbs\n",
    ")\n",
    "a, b = graphene.sublattices\n",
    "\n",
    "# create bulk system\n",
    "bulk_graphene = kwant.Builder(kwant.TranslationalSymmetry(*graphene.prim_vecs))\n",
    "# add sublattice potential\n",
    "m0 = 0\n",
    "bulk_graphene[a.shape((lambda pos: True), (0, 0))] = m0 * sz\n",
    "bulk_graphene[b.shape((lambda pos: True), (0, 0))] = -m0 * sz\n",
    "# add hoppings between sublattices\n",
    "bulk_graphene[graphene.neighbors(1)] = s0\n",
    "\n",
    "# use kwant wraparound to sample bulk k-space\n",
    "wrapped_syst = kwant.wraparound.wraparound(bulk_graphene)\n",
    "wrapped_fsyst = kwant.wraparound.wraparound(bulk_graphene).finalized()"
   ]
  },
  {
   "cell_type": "code",
   "execution_count": 2,
   "id": "9cc3b32d-404f-4bc5-a338-83571c9e4c4b",
   "metadata": {
    "tags": []
   },
   "outputs": [],
   "source": [
    "def func_onsite(site, U):\n",
    "    return U * np.ones((2, 2))\n",
    "\n",
    "def func_hop(site1, site2, V):\n",
    "    rij = np.linalg.norm(site1.pos - site2.pos)\n",
    "    return V * np.ones((2, 2))\n",
    "\n",
    "def calculate_Hint(U, V, Uk, Vk):\n",
    "    return U * Uk + V * Vk"
   ]
  },
  {
   "cell_type": "code",
   "execution_count": 3,
   "id": "d1ef154e-70bd-4f28-887f-72362d8533dd",
   "metadata": {
    "tags": []
   },
   "outputs": [],
   "source": [
    "Us = np.linspace(1e-6, 5, 10)\n",
    "Vs = np.linspace(1e-6, 5, 10)"
   ]
  },
  {
   "cell_type": "code",
   "execution_count": 6,
   "id": "32b9e7c5-db12-44f9-930c-21e5494404b8",
   "metadata": {
    "tags": []
   },
   "outputs": [],
   "source": [
    "dummy_syst, deltas = utils.generate_scf_syst(\n",
    "    max_neighbor=1, syst=wrapped_syst, lattice=graphene\n",
    ")\n",
    "\n",
    "deltas = np.asarray(deltas)\n",
    "deltas = np.unique(np.stack([*deltas, *-deltas]), axis=(0))\n",
    "\n",
    "\n",
    "def compute_gap(\n",
    "    U,\n",
    "    V,\n",
    "    H_int,\n",
    "    max_neighbor=1,\n",
    "    lattice=graphene,\n",
    "    filling=2,\n",
    "    nk=12,\n",
    "    tol=1e-5,\n",
    "    norbs=norbs,\n",
    "    nk_dense=60,\n",
    "    mixing=0.5,\n",
    "    order=1,\n",
    "):\n",
    "    # Generate coarse-grid k-points\n",
    "    ks, dk = np.linspace(0, 2 * np.pi, nk, endpoint=False, retstep=True)\n",
    "    # Generate Hamiltonian on a k-point grid\n",
    "    hamiltonians_0 = utils.syst2hamiltonian(kxs=ks, kys=ks, syst=wrapped_fsyst)\n",
    "    # Generate guess on the same grid\n",
    "    guess = utils.generate_guess(max_neighbor, norbs, lattice, ks, ks, dummy_syst)\n",
    "    # Find groundstate Hamiltonian on the same grid\n",
    "    hk = hf.find_groundstate_ham(\n",
    "        H_int=H_int,\n",
    "        nk=nk,\n",
    "        filling=filling,\n",
    "        hamiltonians_0=hamiltonians_0,\n",
    "        tol=tol,\n",
    "        guess=guess,\n",
    "        mixing=mixing,\n",
    "        order=order,\n",
    "    )\n",
    "    # Diagonalize groundstate Hamiltonian\n",
    "    vals, vecs = np.linalg.eigh(hk)\n",
    "    # Extract coarse-grid Fermi energy\n",
    "    E_F = utils.get_fermi_energy(vals, 2)\n",
    "    # Compute coarse-grid gap\n",
    "    gap1 = utils.calc_gap(vals, E_F)\n",
    "    # Generate kwant system with k-grid Hamiltonian\n",
    "    scf_syst = utils.hk2syst(deltas, hk, ks, dk, max_neighbor, norbs, lattice)\n",
    "    # Generate dense-grid k-points\n",
    "    ks_dense = np.linspace(0, 2 * np.pi, nk_dense, endpoint=False)\n",
    "    # Compute groundstate Hamiltonian on a dense grid\n",
    "    scf_ham = utils.syst2hamiltonian(\n",
    "        kxs=ks_dense, kys=ks_dense, syst=scf_syst, params={}\n",
    "    )\n",
    "    # Diagonalize groundstate Hamiltonian\n",
    "    vals, vecs = np.linalg.eigh(scf_ham)\n",
    "    # Extract dense-grid Fermi energy\n",
    "    E_F = utils.get_fermi_energy(vals, 2)\n",
    "\n",
    "    gap2 = utils.calc_gap(vals, E_F)\n",
    "    return gap1, gap2\n",
    "\n",
    "\n",
    "def compute_phase_diagram(Us, Vs, nk, tol, mixing, order):\n",
    "    ks = np.linspace(0, 2 * np.pi, nk, endpoint=False)\n",
    "\n",
    "    Uk = utils.potential2hamiltonian(\n",
    "        syst=wrapped_syst,\n",
    "        lattice=graphene,\n",
    "        func_onsite=func_onsite,\n",
    "        func_hop=func_hop,\n",
    "        params=dict(U=1, V=0),\n",
    "        ks=ks,\n",
    "    )\n",
    "\n",
    "    Vk = utils.potential2hamiltonian(\n",
    "        syst=wrapped_syst,\n",
    "        lattice=graphene,\n",
    "        func_onsite=func_onsite,\n",
    "        func_hop=func_hop,\n",
    "        params=dict(U=0, V=1),\n",
    "        ks=ks,\n",
    "    )\n",
    "    gap = []\n",
    "    for U in tqdm(Us):\n",
    "        gap_U = []\n",
    "        for V in Vs:\n",
    "            H_int = calculate_Hint(U, V, Uk, Vk)\n",
    "            gap_U.append(\n",
    "                compute_gap(\n",
    "                    U=U, V=V, H_int=H_int, nk=nk, tol=tol, mixing=mixing, order=order\n",
    "                )\n",
    "            )\n",
    "        gap.append(gap_U)\n",
    "    return np.asarray(gap, dtype=float)"
   ]
  },
  {
   "cell_type": "code",
   "execution_count": 8,
   "id": "6a8c08a9-7e31-420b-b6b4-709abfb26793",
   "metadata": {
    "tags": []
   },
   "outputs": [
    {
     "name": "stderr",
     "output_type": "stream",
     "text": [
      "100%|██████████| 10/10 [02:05<00:00, 12.58s/it]\n"
     ]
    }
   ],
   "source": [
    "gap = compute_phase_diagram(Us, Vs, nk=3, tol=1e-10, mixing=0.1, order=3)"
   ]
  },
  {
   "cell_type": "code",
   "execution_count": 13,
   "id": "a04563c8-81a1-4fd2-9bf3-817224fefe48",
   "metadata": {
    "tags": []
   },
   "outputs": [
    {
     "data": {
      "text/plain": [
       "<matplotlib.colorbar.Colorbar at 0x7f6d85f7a440>"
      ]
     },
     "execution_count": 13,
     "metadata": {},
     "output_type": "execute_result"
    },
    {
     "data": {
      "image/png": "[encoded data removed]",
      "text/plain": [
       "<Figure size 640x480 with 2 Axes>"
      ]
     },
     "metadata": {},
     "output_type": "display_data"
    }
   ],
   "source": [
    "plt.imshow(np.log10(gap[:,:,0]).T, origin='lower', extent=(0, 5, 0, 5), vmin=-2, vmax=1)\n",
    "plt.colorbar()"
   ]
  },
  {
   "cell_type": "code",
   "execution_count": 14,
   "id": "46a0fc12-e273-412b-9a90-306163d225ff",
   "metadata": {
    "tags": []
   },
   "outputs": [
    {
     "data": {
      "text/plain": [
       "<matplotlib.colorbar.Colorbar at 0x7f6d86017fd0>"
      ]
     },
     "execution_count": 14,
     "metadata": {},
     "output_type": "execute_result"
    },
    {
     "data": {
      "image/png": "[encoded data removed]",
      "text/plain": [
       "<Figure size 640x480 with 2 Axes>"
      ]
     },
     "metadata": {},
     "output_type": "display_data"
    }
   ],
   "source": [
    "plt.imshow((gap[:,:,0]).T, origin='lower', extent=(0, 5, 0, 5), vmin=0)\n",
    "plt.colorbar()"
   ]
  },
  {
   "cell_type": "code",
   "execution_count": 15,
   "id": "c17644a5-c42e-47ff-8fd3-eb1798bebad7",
   "metadata": {
    "tags": []
   },
   "outputs": [
    {
     "data": {
      "text/plain": [
       "<matplotlib.colorbar.Colorbar at 0x7f6d85ed5ff0>"
      ]
     },
     "execution_count": 15,
     "metadata": {},
     "output_type": "execute_result"
    },
    {
     "data": {
      "image/png": "[encoded data removed]",
      "text/plain": [
       "<Figure size 640x480 with 2 Axes>"
      ]
     },
     "metadata": {},
     "output_type": "display_data"
    }
   ],
   "source": [
    "gap = np.asarray(gap, dtype=float)\n",
    "plt.imshow(np.log10(gap[:,:,1]).T, origin='lower', extent=(0, 5, 0, 5), vmin=-2)\n",
    "plt.colorbar()"
   ]
  },
  {
   "cell_type": "code",
   "execution_count": 16,
   "id": "a472295f-9dfb-4cd8-86be-7efc69f9a1ac",
   "metadata": {
    "tags": []
   },
   "outputs": [
    {
     "data": {
      "text/plain": [
       "<matplotlib.colorbar.Colorbar at 0x7f6d85dac1f0>"
      ]
     },
     "execution_count": 16,
     "metadata": {},
     "output_type": "execute_result"
    },
    {
     "data": {
      "image/png": "[encoded data removed]",
      "text/plain": [
       "<Figure size 640x480 with 2 Axes>"
      ]
     },
     "metadata": {},
     "output_type": "display_data"
    }
   ],
   "source": [
    "gap = np.asarray(gap, dtype=float)\n",
    "plt.imshow((gap[:,:,1]).T, origin='lower', extent=(0, 5, 0, 5), vmin=0)\n",
    "plt.colorbar()"
   ]
  }
 ],
 "metadata": {
  "kernelspec": {
   "display_name": "Python 3 (ipykernel)",
   "language": "python",
   "name": "python3"
  },
  "language_info": {
   "codemirror_mode": {
    "name": "ipython",
    "version": 3
   },
   "file_extension": ".py",
   "mimetype": "text/x-python",
   "name": "python",
   "nbconvert_exporter": "python",
   "pygments_lexer": "ipython3",
   "version": "3.10.8"
  },
  "widgets": {
   "application/vnd.jupyter.widget-state+json": {
    "state": {},
    "version_major": 2,
    "version_minor": 0
   }
  }
 },
 "nbformat": 4,
 "nbformat_minor": 5
}
