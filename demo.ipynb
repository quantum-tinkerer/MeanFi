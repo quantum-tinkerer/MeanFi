{
 "cells": [
  {
   "cell_type": "code",
   "execution_count": 1,
   "metadata": {},
   "outputs": [],
   "source": [
    "import kwant\n",
    "import numpy as np\n",
    "\n",
    "import meanfi\n",
    "from meanfi.kwant_helper import utils\n",
    "from meanfi.tb.transforms import tb_to_kfunc\n",
    "\n",
    "s0 = np.identity(2)\n",
    "sx = np.array([[0, 1], [1, 0]])\n",
    "sy = np.array([[0, -1j], [1j, 0]])\n",
    "sz = np.diag([1, -1])\n",
    "\n",
    "# Create graphene lattice\n",
    "graphene = kwant.lattice.general(\n",
    "    [(1, 0), (1 / 2, np.sqrt(3) / 2)], [(0, 0), (0, 1 / np.sqrt(3))], norbs=2\n",
    ")\n",
    "a, b = graphene.sublattices\n",
    "\n",
    "# Create bulk system\n",
    "bulk_graphene = kwant.Builder(kwant.TranslationalSymmetry(*graphene.prim_vecs))\n",
    "# Set onsite energy to zero\n",
    "bulk_graphene[a.shape((lambda pos: True), (0, 0))] = 0 * s0\n",
    "bulk_graphene[b.shape((lambda pos: True), (0, 0))] = 0 * s0\n",
    "# Add hoppings between sublattices\n",
    "bulk_graphene[graphene.neighbors(1)] = s0\n",
    "\n",
    "def onsite_int(site, U):\n",
    "    return U * sx\n",
    "\n",
    "def nn_int(site1, site2, V):\n",
    "    return V * np.ones((2, 2))\n",
    "\n",
    "builder_int = utils.build_interacting_syst(\n",
    "    builder=bulk_graphene,\n",
    "    lattice=graphene,\n",
    "    func_onsite=onsite_int,\n",
    "    func_hop=nn_int,\n",
    "    max_neighbor=1\n",
    ")\n",
    "params = dict(U=2.5, V=0)\n",
    "h_int_temp = utils.builder_to_tb(builder_int, params)\n",
    "h_int = {(0,0) : h_int_temp[(0,0)]} # only keep onsite for efficiency\n",
    "h_0 = utils.builder_to_tb(bulk_graphene)"
   ]
  },
  {
   "cell_type": "code",
   "execution_count": null,
   "metadata": {},
   "outputs": [],
   "source": [
    "# inputs here\n",
    "# you might need to restart this many times to succeed, because once occupation diff is too large, the solver will fail\n",
    "# will need to look into constrained optimization to fix this\n",
    "\n",
    "filling = 2+1e-4\n",
    "model = meanfi.Model(h_0, h_int, filling=filling, atol=1e-3, kT=1e-2)\n",
    "\n",
    "int_keys = frozenset(h_int)\n",
    "ndof = len(list(h_0.values())[0])\n",
    "mf_guess = meanfi.guess_tb(int_keys, ndof)\n",
    "mu_guess = 0\n",
    "optimizer_kwargs={'M': 1, 'line_search' : 'wolfe', 'maxiter': 200}\n",
    "mf_sol = meanfi.solver(model, mf_guess, mu_guess, optimizer_kwargs=optimizer_kwargs, debug=True)\n",
    "h_full = meanfi.add_tb(h_0, mf_sol)\n",
    "hfunc = tb_to_kfunc(h_full)"
   ]
  },
  {
   "cell_type": "code",
   "execution_count": 3,
   "metadata": {},
   "outputs": [],
   "source": [
    "# Number of k-points\n",
    "Nk = 200\n",
    "kx_vals = np.linspace(-np.pi, np.pi, Nk)\n",
    "energies = []\n",
    "\n",
    "for i, kx in enumerate(kx_vals):\n",
    "    H = hfunc(np.array([kx, np.pi/1.5]).reshape(1, -1))\n",
    "    vals, vecs = np.linalg.eigh(H)\n",
    "    \n",
    "    energies.append(vals)\n",
    "energies = np.array(energies)"
   ]
  },
  {
   "cell_type": "code",
   "execution_count": null,
   "metadata": {},
   "outputs": [],
   "source": [
    "import matplotlib.pyplot as plt\n",
    "\n",
    "plt.figure(figsize=(6,4))\n",
    "\n",
    "plt.plot(kx_vals, energies)\n",
    "\n",
    "plt.xlabel(r\"$k_x$\")\n",
    "plt.axhline(0, color=\"black\", lw=0.5)\n",
    "plt.ylabel(\"Energy (arbitrary units)\")\n",
    "plt.title(\"Graphene Band Structure (1D slice)\")\n",
    "plt.legend()\n",
    "plt.tight_layout()\n",
    "plt.show()"
   ]
  },
  {
   "cell_type": "code",
   "execution_count": null,
   "metadata": {},
   "outputs": [],
   "source": []
  }
 ],
 "metadata": {
  "kernelspec": {
   "display_name": "default",
   "language": "python",
   "name": "python3"
  },
  "language_info": {
   "codemirror_mode": {
    "name": "ipython",
    "version": 3
   },
   "file_extension": ".py",
   "mimetype": "text/x-python",
   "name": "python",
   "nbconvert_exporter": "python",
   "pygments_lexer": "ipython3",
   "version": "3.12.8"
  }
 },
 "nbformat": 4,
 "nbformat_minor": 2
}
