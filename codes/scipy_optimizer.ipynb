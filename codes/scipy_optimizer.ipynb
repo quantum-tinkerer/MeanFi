{
 "cells": [
  {
   "cell_type": "code",
   "execution_count": 1,
   "id": "cb509096-42c6-4a45-8dc4-a8eed3116e67",
   "metadata": {
    "tags": []
   },
   "outputs": [],
   "source": [
    "import kwant\n",
    "import numpy as np\n",
    "import matplotlib.pyplot as plt\n",
    "import utils, hf\n",
    "\n",
    "s0 = np.identity(2)\n",
    "sz = np.diag([1, -1])\n",
    "\n",
    "norbs=2\n",
    "\n",
    "\n",
    "graphene = kwant.lattice.general(\n",
    "    [[1, 0], [1 / 2, np.sqrt(3) / 2]], [[0, 0], [0, 1 / np.sqrt(3)]],\n",
    "    norbs=norbs\n",
    ")\n",
    "a, b = graphene.sublattices\n",
    "\n",
    "# create bulk system\n",
    "bulk_graphene = kwant.Builder(kwant.TranslationalSymmetry(*graphene.prim_vecs))\n",
    "# add sublattice potential\n",
    "m0 = 0\n",
    "bulk_graphene[a.shape((lambda pos: True), (0, 0))] = m0 * sz\n",
    "bulk_graphene[b.shape((lambda pos: True), (0, 0))] = -m0 * sz\n",
    "# add hoppings between sublattices\n",
    "bulk_graphene[graphene.neighbors(1)] = s0\n",
    "\n",
    "# use kwant wraparound to sample bulk k-space\n",
    "wrapped_syst = kwant.wraparound.wraparound(bulk_graphene)\n",
    "wrapped_fsyst = kwant.wraparound.wraparound(bulk_graphene).finalized()\n",
    "\n",
    "\n",
    "# return a hamiltonian for a given kx, ky\n",
    "@np.vectorize\n",
    "def hamiltonian_return(kx, ky, params={}):\n",
    "    ham = wrapped_syst.hamiltonian_submatrix(params={**params, **dict(k_x=kx, k_y=ky)})\n",
    "    return ham"
   ]
  },
  {
   "cell_type": "markdown",
   "id": "06cecbbe-50e9-4480-b66a-f5203e40937c",
   "metadata": {},
   "source": [
    "Now we sample the non-interacting hamiltonian on a k-grid:"
   ]
  },
  {
   "cell_type": "code",
   "execution_count": 2,
   "id": "8cc5d462-68f3-4bd8-b8c9-de31a0de1d8a",
   "metadata": {
    "tags": []
   },
   "outputs": [],
   "source": [
    "nk = 15  # number of k-points in each direction\n",
    "ks = np.linspace(0, 2 * np.pi, nk, endpoint=False)\n",
    "hamiltonians_0 = utils.syst2hamiltonian(kxs=ks, kys=ks, syst=wrapped_fsyst)\n",
    "vals0, vecs0 = np.linalg.eigh(hamiltonians_0)"
   ]
  },
  {
   "cell_type": "code",
   "execution_count": 3,
   "id": "9cc3b32d-404f-4bc5-a338-83571c9e4c4b",
   "metadata": {
    "tags": []
   },
   "outputs": [],
   "source": [
    "def func_onsite(site, U):\n",
    "    return U * np.ones((2, 2))\n",
    "\n",
    "def func_hop(site1, site2, V):\n",
    "    rij = np.linalg.norm(site1.pos - site2.pos)\n",
    "    return V * np.ones((2, 2))\n",
    "\n",
    "Uk = utils.potential2hamiltonian(\n",
    "    syst=wrapped_syst,\n",
    "    lattice=graphene,\n",
    "    func_onsite=func_onsite,\n",
    "    func_hop=func_hop,\n",
    "    params=dict(U=1, V=0),\n",
    "    ks=ks,\n",
    ")\n",
    "\n",
    "Vk = utils.potential2hamiltonian(\n",
    "    syst=wrapped_syst,\n",
    "    lattice=graphene,\n",
    "    func_onsite=func_onsite,\n",
    "    func_hop=func_hop,\n",
    "    params=dict(U=0, V=1),\n",
    "    ks=ks,\n",
    ")\n",
    "\n",
    "U0 = Uk[0,0]\n",
    "V0 = Vk[0,0]"
   ]
  },
  {
   "cell_type": "code",
   "execution_count": 17,
   "id": "d1ef154e-70bd-4f28-887f-72362d8533dd",
   "metadata": {
    "tags": []
   },
   "outputs": [],
   "source": [
    "Us = np.linspace(1e-6, 5, 10)\n",
    "Vs = np.linspace(1e-6, 5, 10)"
   ]
  },
  {
   "cell_type": "code",
   "execution_count": 32,
   "id": "117f5557-0e6a-4b02-b0eb-125e68c839dd",
   "metadata": {
    "tags": []
   },
   "outputs": [],
   "source": [
    "from numpy.linalg import qr\n",
    "from functools import partial\n",
    "\n",
    "def scf_loop(mf, U, V, nk, filling=2, hamiltonians_0=hamiltonians_0):\n",
    "    if np.linalg.norm(mf) < 1e-6:\n",
    "        return 0\n",
    "    H_int = U * Uk + V * Vk\n",
    "    H0_int = U * U0 + V * V0\n",
    "\n",
    "    # Generate the Hamiltonian\n",
    "    hamiltonians = hamiltonians_0 + mf\n",
    "    vals, vecs = np.linalg.eigh(hamiltonians)\n",
    "    vecs = qr(vecs)[0]\n",
    "\n",
    "    mf_new = hf.compute_mf(vals, vecs, filling, nk, H_int)\n",
    "\n",
    "    diff = mf_new - mf\n",
    "\n",
    "    if np.linalg.norm(mf_new) < 1e-6:\n",
    "        return 0\n",
    "    else:\n",
    "        return diff / np.linalg.norm(mf_new)"
   ]
  },
  {
   "cell_type": "code",
   "execution_count": 51,
   "id": "32b9e7c5-db12-44f9-930c-21e5494404b8",
   "metadata": {
    "tags": []
   },
   "outputs": [
    {
     "name": "stderr",
     "output_type": "stream",
     "text": [
      "100%|██████████| 10/10 [03:19<00:00, 19.92s/it]\n"
     ]
    }
   ],
   "source": [
    "from scipy.optimize import anderson\n",
    "\n",
    "dummy_syst, deltas = utils.generate_scf_syst(\n",
    "    max_neighbor=1, syst=wrapped_syst, lattice=graphene\n",
    ")\n",
    "\n",
    "deltas = np.asarray(deltas)\n",
    "deltas = np.unique(np.stack([*deltas, *-deltas]), axis=(0))\n",
    "\n",
    "def mf_calc(U, V, max_neighbor, lattice, norbs, ks, hamiltonians_0):\n",
    "    fun = partial(scf_loop, U=U, V=V, hamiltonians_0=hamiltonians_0, nk=nk)\n",
    "    guess = utils.generate_guess(\n",
    "        max_neighbor=max_neighbor, norbs=norbs, lattice=lattice\n",
    "    )\n",
    "    _guess = utils.syst2hamiltonian(\n",
    "        kxs=ks, kys=ks, syst=dummy_syst, params=dict(mat=guess)\n",
    "    )\n",
    "    mf = anderson(fun, _guess, f_tol=1e-4, w0=0.2, M=2)\n",
    "    return mf\n",
    "\n",
    "\n",
    "def hk2hop(hk, deltas, ks, dk):\n",
    "    kxx, kyy = np.meshgrid(ks, ks)\n",
    "    kxy = np.array([kxx, kyy])\n",
    "    hopps = (\n",
    "        np.sum(\n",
    "            np.einsum(\n",
    "                \"ijk,jklm->ijklm\",\n",
    "                np.exp(1j * np.einsum(\"ij,jkl->ikl\", deltas, kxy)),\n",
    "                hk,\n",
    "            ),\n",
    "            axis=(1, 2),\n",
    "        )\n",
    "        * (dk) ** 2\n",
    "        / (2 * np.pi) ** 2\n",
    "    )\n",
    "    return hopps\n",
    "\n",
    "\n",
    "def hk2syst(deltas, hk, ks, dk, max_neighbor, norbs, lattice):\n",
    "    hopps = hk2hop(hk, deltas, ks, dk)\n",
    "    bulk_scf = kwant.Builder(kwant.TranslationalSymmetry(*lattice.prim_vecs))\n",
    "    for i, delta in enumerate(deltas):\n",
    "        for j, sublattice1 in enumerate(lattice.sublattices):\n",
    "            for k, sublattice2 in enumerate(lattice.sublattices):\n",
    "                if np.allclose(delta, [0, 0]):\n",
    "                    bulk_scf[sublattice1.shape((lambda pos: True), (0, 0))] = hopps[\n",
    "                        i, j * norbs : (j + 1) * norbs, j * norbs : (j + 1) * norbs\n",
    "                    ]\n",
    "                    if k != j:\n",
    "                        hopping = (delta, sublattice1, sublattice2)\n",
    "                        bulk_scf[kwant.builder.HoppingKind(*hopping)] = hopps[\n",
    "                            i, j * norbs : (j + 1) * norbs, k * norbs : (k + 1) * norbs\n",
    "                        ]\n",
    "                else:\n",
    "                    for k, sublattice2 in enumerate(lattice.sublattices):\n",
    "                        hopping = (delta, sublattice1, sublattice2)\n",
    "                        bulk_scf[kwant.builder.HoppingKind(*hopping)] = hopps[\n",
    "                            i, j * norbs : (j + 1) * norbs, k * norbs : (k + 1) * norbs\n",
    "                        ]\n",
    "    wrapped_scf_syst = kwant.wraparound.wraparound(bulk_scf).finalized()\n",
    "    return wrapped_scf_syst\n",
    "\n",
    "def calc_gap(vals, E_F):\n",
    "    emax = np.max(vals[vals < E_F])\n",
    "    emin = np.min(vals[vals >= E_F])\n",
    "    return np.abs(emin - emax)\n",
    "    \n",
    "\n",
    "def compute_gap(U, V, max_neighbor=1, lattice=graphene, nk=15, norbs=norbs, nk_dense=60):\n",
    "    ks, dk = np.linspace(0, 2 * np.pi, nk, endpoint=False, retstep=True)\n",
    "    hamiltonians_0 = utils.syst2hamiltonian(kxs=ks, kys=ks, syst=wrapped_fsyst)\n",
    "    mf = mf_calc(U, V, max_neighbor, lattice, norbs, ks, hamiltonians_0)\n",
    "    hk = hamiltonians_0 + mf\n",
    "    vals, vecs = np.linalg.eigh(hk)\n",
    "    vecs = qr(vecs)[0]\n",
    "    E_F = utils.get_fermi_energy(vals, 2)\n",
    "    gap1 = calc_gap(vals, E_F)\n",
    "    scf_syst = hk2syst(deltas, hk, ks, dk, max_neighbor, norbs, lattice)\n",
    "    # dense grid calculation\n",
    "    ks_dense = np.linspace(0, 2 * np.pi, nk_dense, endpoint=False)\n",
    "    scf_ham = utils.syst2hamiltonian(\n",
    "        kxs=ks_dense, kys=ks_dense, syst=scf_syst, params={}\n",
    "    )\n",
    "    vals, vecs = np.linalg.eigh(scf_ham)\n",
    "    E_F = utils.get_fermi_energy(vals, 2)\n",
    "    gap2 = calc_gap(vals, E_F)\n",
    "    return gap1, gap2\n",
    "\n",
    "\n",
    "from tqdm import tqdm\n",
    "\n",
    "gap = []\n",
    "for U in tqdm(Us):\n",
    "    gap_U = []\n",
    "    for V in Vs:\n",
    "        gap_U.append(compute_gap(U, V))\n",
    "    gap.append(gap_U)"
   ]
  },
  {
   "cell_type": "code",
   "execution_count": 52,
   "id": "a04563c8-81a1-4fd2-9bf3-817224fefe48",
   "metadata": {
    "tags": []
   },
   "outputs": [
    {
     "data": {
      "text/plain": [
       "<matplotlib.colorbar.Colorbar at 0x7f6b36123a00>"
      ]
     },
     "execution_count": 52,
     "metadata": {},
     "output_type": "execute_result"
    },
    {
     "data": {
      "image/png": "[encoded data removed]",
      "text/plain": [
       "<Figure size 640x480 with 2 Axes>"
      ]
     },
     "metadata": {},
     "output_type": "display_data"
    }
   ],
   "source": [
    "gap = np.asarray(gap, dtype=float)\n",
    "plt.imshow(np.log10(gap[:,:,0]).T, origin='lower', extent=(0, 5, 0, 5), vmin=-1, vmax=0.6)\n",
    "plt.colorbar()"
   ]
  },
  {
   "cell_type": "code",
   "execution_count": 55,
   "id": "c17644a5-c42e-47ff-8fd3-eb1798bebad7",
   "metadata": {
    "tags": []
   },
   "outputs": [
    {
     "data": {
      "text/plain": [
       "<matplotlib.colorbar.Colorbar at 0x7f6b35efe710>"
      ]
     },
     "execution_count": 55,
     "metadata": {},
     "output_type": "execute_result"
    },
    {
     "data": {
      "image/png": "[encoded data removed]",
      "text/plain": [
       "<Figure size 640x480 with 2 Axes>"
      ]
     },
     "metadata": {},
     "output_type": "display_data"
    }
   ],
   "source": [
    "gap = np.asarray(gap, dtype=float)\n",
    "plt.imshow(np.log10(gap[:,:,1]).T, origin='lower', extent=(0, 5, 0, 5), vmin=-1, vmax=0.6)\n",
    "plt.colorbar()"
   ]
  }
 ],
 "metadata": {
  "kernelspec": {
   "display_name": "Python 3 (ipykernel)",
   "language": "python",
   "name": "python3"
  },
  "language_info": {
   "codemirror_mode": {
    "name": "ipython",
    "version": 3
   },
   "file_extension": ".py",
   "mimetype": "text/x-python",
   "name": "python",
   "nbconvert_exporter": "python",
   "pygments_lexer": "ipython3",
   "version": "3.10.8"
  },
  "widgets": {
   "application/vnd.jupyter.widget-state+json": {
    "state": {},
    "version_major": 2,
    "version_minor": 0
   }
  }
 },
 "nbformat": 4,
 "nbformat_minor": 5
}
