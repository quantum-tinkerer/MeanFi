{
 "cells": [
  {
   "cell_type": "code",
   "execution_count": 1,
   "id": "cb509096-42c6-4a45-8dc4-a8eed3116e67",
   "metadata": {
    "tags": []
   },
   "outputs": [],
   "source": [
    "import kwant\n",
    "import numpy as np\n",
    "import matplotlib.pyplot as plt\n",
    "from codes import utils, hf, kwant_examples\n",
    "from tqdm import tqdm"
   ]
  },
  {
   "cell_type": "code",
   "execution_count": 2,
   "id": "9ebc3cce-0338-4616-8021-9fecee76f178",
   "metadata": {},
   "outputs": [],
   "source": [
    "# Create translationally-invariant `kwant.Builder`\n",
    "bulk_graphene, syst_V = kwant_examples.graphene_extended_hubbard()"
   ]
  },
  {
   "cell_type": "code",
   "execution_count": 3,
   "id": "c2dd6c3c-d9bb-4833-b1a0-d28c5d5a935c",
   "metadata": {},
   "outputs": [],
   "source": [
    "# Extract hopping vectors from dummy interacting system\n",
    "hopping_vecs = utils.extract_hopping_vectors(syst_V)\n",
    "hopping_vecs = np.unique(np.stack([*hopping_vecs, *-hopping_vecs]), axis=(0))"
   ]
  },
  {
   "cell_type": "code",
   "execution_count": 4,
   "id": "d1ef154e-70bd-4f28-887f-72362d8533dd",
   "metadata": {
    "tags": []
   },
   "outputs": [],
   "source": [
    "# Use wraparound to make infinite system\n",
    "wrapped_syst = kwant.wraparound.wraparound(bulk_graphene).finalized()\n",
    "wrapped_V = kwant.wraparound.wraparound(syst_V).finalized()"
   ]
  },
  {
   "cell_type": "code",
   "execution_count": 5,
   "id": "d31cbfea-18ea-454e-8a63-d706a85cd3fc",
   "metadata": {},
   "outputs": [],
   "source": [
    "# Compute non-interacting Hamiltonian on a coarse k-point grid\n",
    "# Number of k-points along each direction\n",
    "nk = 15\n",
    "# k-points must start at zero\n",
    "ks = np.linspace(0, 2 * np.pi, nk, endpoint=False)\n",
    "hamiltonians_0 = utils.syst2hamiltonian(ks, wrapped_syst)"
   ]
  },
  {
   "cell_type": "code",
   "execution_count": 6,
   "id": "41bd9f60-8f29-4e7c-a0c4-a0bbf66445b2",
   "metadata": {},
   "outputs": [],
   "source": [
    "def compute_gap(\n",
    "    H_int,\n",
    "    ks,\n",
    "    ks_dense,\n",
    "    hamiltonians_0=hamiltonians_0,\n",
    "    filling=2,\n",
    "    tol=1e-5,\n",
    "    mixing=0.01,\n",
    "    order=10,\n",
    "    guess=None\n",
    "):\n",
    "    # Generate guess on the same grid\n",
    "    if guess is None:\n",
    "        guess = utils.generate_guess(ks, hopping_vecs, ndof=hamiltonians_0.shape[-1], scale=1)\n",
    "    else:\n",
    "        guess += np.max(guess) * utils.generate_guess(ks, hopping_vecs, ndof=hamiltonians_0.shape[-1], scale=0.1)\n",
    "\n",
    "    # Find groundstate Hamiltonian on the same grid\n",
    "    hk = hf.find_groundstate_ham(\n",
    "        H_int=H_int,\n",
    "        filling=filling,\n",
    "        hamiltonians_0=hamiltonians_0,\n",
    "        tol=tol,\n",
    "        guess=guess,\n",
    "        mixing=mixing,\n",
    "        order=order,\n",
    "    )\n",
    "    # Compute groundstate Hamiltonian on a dense grid\n",
    "    scf_ham = utils.hk_densegrid(hk, ks, ks_dense, hopping_vecs)\n",
    "    # Diagonalize groundstate Hamiltonian\n",
    "    vals, vecs = np.linalg.eigh(scf_ham)\n",
    "    # Extract dense-grid Fermi energy\n",
    "    E_F = utils.get_fermi_energy(vals, filling)\n",
    "    gap = utils.calc_gap(vals, E_F)\n",
    "    return gap, hk - hamiltonians_0"
   ]
  },
  {
   "cell_type": "code",
   "execution_count": 7,
   "id": "32b9e7c5-db12-44f9-930c-21e5494404b8",
   "metadata": {
    "tags": []
   },
   "outputs": [],
   "source": [
    "def compute_phase_diagram(Us, Vs, ks, ks_dense, tol, mixing, order):\n",
    "    Uk = utils.syst2hamiltonian(ks, wrapped_V, params=dict(U=1, V=0))\n",
    "    Vk = utils.syst2hamiltonian(ks, wrapped_V, params=dict(U=0, V=1))\n",
    "    gap = []\n",
    "    for U in tqdm(Us):\n",
    "        guess = None\n",
    "        gap_U = []\n",
    "        for V in Vs:\n",
    "            H_int = U * Uk + V * Vk\n",
    "            _gap, guess = compute_gap(\n",
    "                H_int=H_int,\n",
    "                ks=ks,\n",
    "                ks_dense=ks_dense,\n",
    "                tol=tol,\n",
    "                mixing=mixing,\n",
    "                order=order,\n",
    "                guess=guess,\n",
    "            )\n",
    "            gap_U.append(_gap)\n",
    "        gap.append(gap_U)\n",
    "    return np.asarray(gap, dtype=float)"
   ]
  },
  {
   "cell_type": "code",
   "execution_count": null,
   "id": "6a8c08a9-7e31-420b-b6b4-709abfb26793",
   "metadata": {
    "tags": []
   },
   "outputs": [
    {
     "name": "stderr",
     "output_type": "stream",
     "text": [
      "  0%|          | 0/10 [00:00<?, ?it/s]"
     ]
    }
   ],
   "source": [
    "# Generate dense-grid k-points\n",
    "nk_dense = 30\n",
    "ks_dense = np.linspace(0, 2 * np.pi, nk_dense, endpoint=False)\n",
    "# Interaction strengths\n",
    "Us = np.linspace(0, 4, 10, endpoint=True)\n",
    "Vs = np.linspace(0, 1.5, 10, endpoint=True)\n",
    "gap = compute_phase_diagram(Us, Vs, ks=ks, ks_dense=ks_dense, tol=1e-4, mixing=0.01, order=10)"
   ]
  },
  {
   "cell_type": "code",
   "execution_count": 11,
   "id": "39edbf19",
   "metadata": {},
   "outputs": [
    {
     "data": {
      "text/plain": [
       "<matplotlib.colorbar.Colorbar at 0x7f0a0d7c18d0>"
      ]
     },
     "execution_count": 11,
     "metadata": {},
     "output_type": "execute_result"
    },
    {
     "data": {
      "image/png": "[encoded data removed]",
      "text/plain": [
       "<Figure size 640x480 with 2 Axes>"
      ]
     },
     "metadata": {},
     "output_type": "display_data"
    }
   ],
   "source": [
    "plt.imshow(np.log10(gap).T, origin='lower', extent=(Us.min(), Us.max(), Vs.min(), Vs.max()), vmin=-1)\n",
    "plt.colorbar()"
   ]
  },
  {
   "cell_type": "code",
   "execution_count": 17,
   "id": "e17fc96c-c463-4e1f-8250-c254d761b92a",
   "metadata": {},
   "outputs": [],
   "source": [
    "import xarray as xr\n",
    "gap_da = xr.DataArray(data=gap, coords=dict(Us=Us, Vs=Vs))"
   ]
  },
  {
   "cell_type": "code",
   "execution_count": 18,
   "id": "0cb395cd-84d1-49b4-89dd-da7a2d09c8d0",
   "metadata": {},
   "outputs": [],
   "source": [
    "gap_da.to_netcdf('./data/graphene_example.nc')"
   ]
  }
 ],
 "metadata": {
  "kernelspec": {
   "display_name": "Python 3 (ipykernel)",
   "language": "python",
   "name": "python3"
  },
  "language_info": {
   "codemirror_mode": {
    "name": "ipython",
    "version": 3
   },
   "file_extension": ".py",
   "mimetype": "text/x-python",
   "name": "python",
   "nbconvert_exporter": "python",
   "pygments_lexer": "ipython3",
   "version": "3.11.5"
  },
  "widgets": {
   "application/vnd.jupyter.widget-state+json": {
    "state": {},
    "version_major": 2,
    "version_minor": 0
   }
  }
 },
 "nbformat": 4,
 "nbformat_minor": 5
}
