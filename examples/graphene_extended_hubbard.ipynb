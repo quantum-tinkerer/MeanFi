{
 "cells": [
  {
   "cell_type": "code",
   "execution_count": 1,
   "id": "cb509096-42c6-4a45-8dc4-a8eed3116e67",
   "metadata": {
    "tags": []
   },
   "outputs": [
    {
     "name": "stdout",
     "output_type": "stream",
     "text": [
      "Intel MKL WARNING: Support of Intel(R) Streaming SIMD Extensions 4.2 (Intel(R) SSE4.2) enabled only processors has been deprecated. Intel oneAPI Math Kernel Library 2025.0 will require Intel(R) Advanced Vector Extensions (Intel(R) AVX) instructions.\n",
      "Intel MKL WARNING: Support of Intel(R) Streaming SIMD Extensions 4.2 (Intel(R) SSE4.2) enabled only processors has been deprecated. Intel oneAPI Math Kernel Library 2025.0 will require Intel(R) Advanced Vector Extensions (Intel(R) AVX) instructions.\n"
     ]
    }
   ],
   "source": [
    "import kwant\n",
    "import numpy as np\n",
    "import matplotlib.pyplot as plt\n",
    "from codes import utils, hf, kwant_examples\n",
    "from tqdm import tqdm"
   ]
  },
  {
   "cell_type": "markdown",
   "id": "75721173-f9af-4b9b-a694-7a0bdf65c307",
   "metadata": {},
   "source": [
    "Now we show the interface with `kwant`. We start by using `kwant` to build two tight-binding systems with translational symmetry:\n",
    "* graphene;\n",
    "* a dummy `kwant.Builder` that encodes the interaction matrix.\n",
    "See [`kwant_examples`](./codes/kwant_examples.py) to verify how these two steps are done."
   ]
  },
  {
   "cell_type": "code",
   "execution_count": 2,
   "metadata": {},
   "outputs": [],
   "source": [
    "def flat_to_matrix(flat, shape):\n",
    "    matrix = np.zeros(shape, dtype=complex)\n",
    "    matrix[:, :, *np.triu_indices(shape[-1])] = flat.reshape(shape[0], shape[1], -1)\n",
    "    lower_triangle_wo_diag = matrix.transpose(0, 1, 3, 2)[\n",
    "        :, :, *np.tril_indices(shape[-1], k=-1)\n",
    "    ]\n",
    "    matrix[:, :, *np.tril_indices(shape[-1], k=-1)] = lower_triangle_wo_diag.reshape(\n",
    "        shape[0], shape[1], -1\n",
    "    ).conj()\n",
    "\n",
    "    return matrix\n",
    "\n",
    "def matrix_to_flat(matrix):\n",
    "    matrix[\n",
    "        :,\n",
    "        :,\n",
    "        *np.triu_indices(matrix.shape[-1]),\n",
    "    ].flatten()\n",
    "\n",
    "def upper_triangle_cost(delta_mf_flatten, model):\n",
    "    mfk_shape = model.mf_k.shape\n",
    "\n",
    "    # From flat to non-flat:\n",
    "    mf_delta_shaped = flat_to_matrix(delta_mf_flatten, mfk_shape)\n",
    "\n",
    "    # Doing the update\n",
    "    mf_shaped = model.mf_k + mf_delta_shaped\n",
    "    _, model.mf_k = hf.updated_matrices(mf_k=mf_shaped, model=model)\n",
    "    delta_mf = mf_shaped - model.mf_k\n",
    "\n",
    "    # Now flattening again\n",
    "    return matrix_to_flat(delta_mf)"
   ]
  },
  {
   "cell_type": "code",
   "execution_count": 3,
   "id": "9ebc3cce-0338-4616-8021-9fecee76f178",
   "metadata": {},
   "outputs": [
    {
     "name": "stdout",
     "output_type": "stream",
     "text": [
      "Intel MKL WARNING: Support of Intel(R) Streaming SIMD Extensions 4.2 (Intel(R) SSE4.2) enabled only processors has been deprecated. Intel oneAPI Math Kernel Library 2025.0 will require Intel(R) Advanced Vector Extensions (Intel(R) AVX) instructions.\n",
      "Intel MKL WARNING: Support of Intel(R) Streaming SIMD Extensions 4.2 (Intel(R) SSE4.2) enabled only processors has been deprecated. Intel oneAPI Math Kernel Library 2025.0 will require Intel(R) Advanced Vector Extensions (Intel(R) AVX) instructions.\n",
      "Intel MKL WARNING: Support of Intel(R) Streaming SIMD Extensions 4.2 (Intel(R) SSE4.2) enabled only processors has been deprecated. Intel oneAPI Math Kernel Library 2025.0 will require Intel(R) Advanced Vector Extensions (Intel(R) AVX) instructions.\n",
      "Intel MKL WARNING: Support of Intel(R) Streaming SIMD Extensions 4.2 (Intel(R) SSE4.2) enabled only processors has been deprecated. Intel oneAPI Math Kernel Library 2025.0 will require Intel(R) Advanced Vector Extensions (Intel(R) AVX) instructions.\n",
      "Intel MKL WARNING: Support of Intel(R) Streaming SIMD Extensions 4.2 (Intel(R) SSE4.2) enabled only processors has been deprecated. Intel oneAPI Math Kernel Library 2025.0 will require Intel(R) Advanced Vector Extensions (Intel(R) AVX) instructions.\n",
      "Intel MKL WARNING: Support of Intel(R) Streaming SIMD Extensions 4.2 (Intel(R) SSE4.2) enabled only processors has been deprecated. Intel oneAPI Math Kernel Library 2025.0 will require Intel(R) Advanced Vector Extensions (Intel(R) AVX) instructions.\n",
      "Intel MKL WARNING: Support of Intel(R) Streaming SIMD Extensions 4.2 (Intel(R) SSE4.2) enabled only processors has been deprecated. Intel oneAPI Math Kernel Library 2025.0 will require Intel(R) Advanced Vector Extensions (Intel(R) AVX) instructions.\n",
      "Intel MKL WARNING: Support of Intel(R) Streaming SIMD Extensions 4.2 (Intel(R) SSE4.2) enabled only processors has been deprecated. Intel oneAPI Math Kernel Library 2025.0 will require Intel(R) Advanced Vector Extensions (Intel(R) AVX) instructions.\n",
      "Intel MKL WARNING: Support of Intel(R) Streaming SIMD Extensions 4.2 (Intel(R) SSE4.2) enabled only processors has been deprecated. Intel oneAPI Math Kernel Library 2025.0 will require Intel(R) Advanced Vector Extensions (Intel(R) AVX) instructions.\n",
      "Intel MKL WARNING: Support of Intel(R) Streaming SIMD Extensions 4.2 (Intel(R) SSE4.2) enabled only processors has been deprecated. Intel oneAPI Math Kernel Library 2025.0 will require Intel(R) Advanced Vector Extensions (Intel(R) AVX) instructions.\n",
      "Intel MKL WARNING: Support of Intel(R) Streaming SIMD Extensions 4.2 (Intel(R) SSE4.2) enabled only processors has been deprecated. Intel oneAPI Math Kernel Library 2025.0 will require Intel(R) Advanced Vector Extensions (Intel(R) AVX) instructions.\n",
      "Intel MKL WARNING: Support of Intel(R) Streaming SIMD Extensions 4.2 (Intel(R) SSE4.2) enabled only processors has been deprecated. Intel oneAPI Math Kernel Library 2025.0 will require Intel(R) Advanced Vector Extensions (Intel(R) AVX) instructions.\n",
      "Intel MKL WARNING: Support of Intel(R) Streaming SIMD Extensions 4.2 (Intel(R) SSE4.2) enabled only processors has been deprecated. Intel oneAPI Math Kernel Library 2025.0 will require Intel(R) Advanced Vector Extensions (Intel(R) AVX) instructions.\n",
      "Intel MKL WARNING: Support of Intel(R) Streaming SIMD Extensions 4.2 (Intel(R) SSE4.2) enabled only processors has been deprecated. Intel oneAPI Math Kernel Library 2025.0 will require Intel(R) Advanced Vector Extensions (Intel(R) AVX) instructions.\n",
      "Intel MKL WARNING: Support of Intel(R) Streaming SIMD Extensions 4.2 (Intel(R) SSE4.2) enabled only processors has been deprecated. Intel oneAPI Math Kernel Library 2025.0 will require Intel(R) Advanced Vector Extensions (Intel(R) AVX) instructions.\n",
      "Intel MKL WARNING: Support of Intel(R) Streaming SIMD Extensions 4.2 (Intel(R) SSE4.2) enabled only processors has been deprecated. Intel oneAPI Math Kernel Library 2025.0 will require Intel(R) Advanced Vector Extensions (Intel(R) AVX) instructions.\n",
      "Intel MKL WARNING: Support of Intel(R) Streaming SIMD Extensions 4.2 (Intel(R) SSE4.2) enabled only processors has been deprecated. Intel oneAPI Math Kernel Library 2025.0 will require Intel(R) Advanced Vector Extensions (Intel(R) AVX) instructions.\n",
      "Intel MKL WARNING: Support of Intel(R) Streaming SIMD Extensions 4.2 (Intel(R) SSE4.2) enabled only processors has been deprecated. Intel oneAPI Math Kernel Library 2025.0 will require Intel(R) Advanced Vector Extensions (Intel(R) AVX) instructions.\n",
      "Intel MKL WARNING: Support of Intel(R) Streaming SIMD Extensions 4.2 (Intel(R) SSE4.2) enabled only processors has been deprecated. Intel oneAPI Math Kernel Library 2025.0 will require Intel(R) Advanced Vector Extensions (Intel(R) AVX) instructions.\n"
     ]
    }
   ],
   "source": [
    "# Create translationally-invariant `kwant.Builder`\n",
    "graphene_builder, int_builder = kwant_examples.graphene_extended_hubbard()"
   ]
  },
  {
   "cell_type": "markdown",
   "id": "8f004476-fc3b-4c50-808c-4a636ce17c03",
   "metadata": {},
   "source": [
    "We then use `utils.builder2tb_model` to parse the `kwant.Builder` to a `tb_model` that we will use in the self-consistent calculations."
   ]
  },
  {
   "cell_type": "code",
   "execution_count": 4,
   "id": "c2dd6c3c-d9bb-4833-b1a0-d28c5d5a935c",
   "metadata": {},
   "outputs": [],
   "source": [
    "tb_model = utils.builder2tb_model(graphene_builder)"
   ]
  },
  {
   "cell_type": "markdown",
   "id": "075df6f6-9311-4122-8b1e-2d709058e574",
   "metadata": {},
   "source": [
    "Note that the self-consistent loop is performed on a coarse k-point grid, and thus not necessarily appropriate to compute observables. We thus use `utils.kgrid_hamiltonian` to evaluate the Hamiltonian on a denser k-point grid and compute the gap."
   ]
  },
  {
   "cell_type": "code",
   "execution_count": 12,
   "metadata": {},
   "outputs": [],
   "source": [
    "params = dict(U=1, V=1)\n",
    "int_model = utils.builder2tb_model(int_builder, params)\n",
    "model = hf.Model(tb_model, int_model=int_model)\n",
    "vectors = utils.generate_vectors(10, model.dim)\n",
    "model.vectors = [*vectors, *model.tb_model.keys()]\n",
    "model.random_guess(model.vectors)\n",
    "model.kgrid_evaluation(nk=15)\n",
    "matrix_to_flat(model.mf_k)"
   ]
  },
  {
   "cell_type": "code",
   "execution_count": 5,
   "id": "41bd9f60-8f29-4e7c-a0c4-a0bbf66445b2",
   "metadata": {},
   "outputs": [],
   "source": [
    "def compute_gap(\n",
    "    model,\n",
    "    nk,\n",
    "    nk_dense,\n",
    "    filling=2,\n",
    "    guess=None,\n",
    "):\n",
    "\n",
    "    model.guess = guess\n",
    "\n",
    "    # Find groundstate Hamiltonian on the same grid\n",
    "    mf_model = hf.find_groundstate_ham(\n",
    "        model,\n",
    "        filling=filling,\n",
    "        nk=nk,\n",
    "        cutoff_Vk=10,  # no intuition about cutoff_Vk\n",
    "        cost_function=upper_triangle_cost,\n",
    "    )\n",
    "\n",
    "    mf_k = utils.kgrid_hamiltonian(  # only used for diagonalization to get gap\n",
    "        nk=nk_dense,\n",
    "        hk=utils.model2hk(tb_model=mf_model),\n",
    "        dim=2\n",
    "    )\n",
    "    # Diagonalize groundstate Hamiltonian\n",
    "    vals, _ = np.linalg.eigh(mf_k)\n",
    "    # Extract dense-grid Fermi energy\n",
    "    E_F = utils.get_fermi_energy(vals, filling)\n",
    "    gap = utils.calc_gap(vals, E_F)\n",
    "\n",
    "    # the guess was kind of unclear\n",
    "    return gap, mf_model"
   ]
  },
  {
   "cell_type": "markdown",
   "id": "718bc267-0899-4d45-8592-deabd6849a75",
   "metadata": {},
   "source": [
    "Finally, we also parse `int_builder` with the wanted interaction strength. Note that we pass a `params` dictionary to evaluate the Hamiltonian with `kwant`."
   ]
  },
  {
   "cell_type": "code",
   "execution_count": 6,
   "id": "32b9e7c5-db12-44f9-930c-21e5494404b8",
   "metadata": {
    "tags": []
   },
   "outputs": [],
   "source": [
    "def compute_phase_diagram(Us, Vs, nk, nk_dense):\n",
    "    gap = []\n",
    "    for U in tqdm(Us):\n",
    "        guess = None\n",
    "        gap_U = []\n",
    "        for V in Vs:\n",
    "            params = dict(U=U, V=V)\n",
    "            int_model = utils.builder2tb_model(int_builder, params)\n",
    "            model = hf.Model(tb_model, int_model=int_model)\n",
    "            _gap, guess = compute_gap(\n",
    "                model=model,\n",
    "                nk=nk,\n",
    "                nk_dense=nk_dense,\n",
    "                guess=guess,\n",
    "            )\n",
    "            gap_U.append(_gap)\n",
    "        gap.append(gap_U)\n",
    "    return np.asarray(gap, dtype=float)"
   ]
  },
  {
   "cell_type": "markdown",
   "id": "f1eba14e-e006-4162-885f-3302a92a21eb",
   "metadata": {},
   "source": [
    "**Warning:** this phase diagram calculation takes about one hour."
   ]
  },
  {
   "cell_type": "code",
   "execution_count": 14,
   "id": "6a8c08a9-7e31-420b-b6b4-709abfb26793",
   "metadata": {
    "tags": []
   },
   "outputs": [
    {
     "name": "stderr",
     "output_type": "stream",
     "text": [
      "  0%|          | 0/10 [00:00<?, ?it/s]\n"
     ]
    },
    {
     "ename": "ValueError",
     "evalue": "cannot reshape array of size 1 into shape (15,15,newaxis)",
     "output_type": "error",
     "traceback": [
      "\u001b[0;31m---------------------------------------------------------------------------\u001b[0m",
      "\u001b[0;31mValueError\u001b[0m                                Traceback (most recent call last)",
      "\u001b[1;32m/Users/rzijderveld/kwant-scf/examples/graphene_extended_hubbard.ipynb Cell 13\u001b[0m line \u001b[0;36m7\n\u001b[1;32m      <a href='vscode-notebook-cell:/Users/rzijderveld/kwant-scf/examples/graphene_extended_hubbard.ipynb#X13sZmlsZQ%3D%3D?line=4'>5</a>\u001b[0m Us \u001b[39m=\u001b[39m np\u001b[39m.\u001b[39mlinspace(\u001b[39m0\u001b[39m, \u001b[39m3\u001b[39m, \u001b[39m10\u001b[39m, endpoint\u001b[39m=\u001b[39m\u001b[39mTrue\u001b[39;00m)\n\u001b[1;32m      <a href='vscode-notebook-cell:/Users/rzijderveld/kwant-scf/examples/graphene_extended_hubbard.ipynb#X13sZmlsZQ%3D%3D?line=5'>6</a>\u001b[0m Vs \u001b[39m=\u001b[39m np\u001b[39m.\u001b[39mlinspace(\u001b[39m0\u001b[39m, \u001b[39m1.5\u001b[39m, \u001b[39m10\u001b[39m, endpoint\u001b[39m=\u001b[39m\u001b[39mTrue\u001b[39;00m)\n\u001b[0;32m----> <a href='vscode-notebook-cell:/Users/rzijderveld/kwant-scf/examples/graphene_extended_hubbard.ipynb#X13sZmlsZQ%3D%3D?line=6'>7</a>\u001b[0m gap \u001b[39m=\u001b[39m compute_phase_diagram(Us, Vs, nk\u001b[39m=\u001b[39;49mnk, nk_dense\u001b[39m=\u001b[39;49mnk_dense)\n",
      "\u001b[1;32m/Users/rzijderveld/kwant-scf/examples/graphene_extended_hubbard.ipynb Cell 13\u001b[0m line \u001b[0;36m1\n\u001b[1;32m      <a href='vscode-notebook-cell:/Users/rzijderveld/kwant-scf/examples/graphene_extended_hubbard.ipynb#X13sZmlsZQ%3D%3D?line=7'>8</a>\u001b[0m     int_model \u001b[39m=\u001b[39m utils\u001b[39m.\u001b[39mbuilder2tb_model(int_builder, params)\n\u001b[1;32m      <a href='vscode-notebook-cell:/Users/rzijderveld/kwant-scf/examples/graphene_extended_hubbard.ipynb#X13sZmlsZQ%3D%3D?line=8'>9</a>\u001b[0m     model \u001b[39m=\u001b[39m hf\u001b[39m.\u001b[39mModel(tb_model, int_model\u001b[39m=\u001b[39mint_model)\n\u001b[0;32m---> <a href='vscode-notebook-cell:/Users/rzijderveld/kwant-scf/examples/graphene_extended_hubbard.ipynb#X13sZmlsZQ%3D%3D?line=9'>10</a>\u001b[0m     _gap, guess \u001b[39m=\u001b[39m compute_gap(\n\u001b[1;32m     <a href='vscode-notebook-cell:/Users/rzijderveld/kwant-scf/examples/graphene_extended_hubbard.ipynb#X13sZmlsZQ%3D%3D?line=10'>11</a>\u001b[0m         model\u001b[39m=\u001b[39;49mmodel,\n\u001b[1;32m     <a href='vscode-notebook-cell:/Users/rzijderveld/kwant-scf/examples/graphene_extended_hubbard.ipynb#X13sZmlsZQ%3D%3D?line=11'>12</a>\u001b[0m         nk\u001b[39m=\u001b[39;49mnk,\n\u001b[1;32m     <a href='vscode-notebook-cell:/Users/rzijderveld/kwant-scf/examples/graphene_extended_hubbard.ipynb#X13sZmlsZQ%3D%3D?line=12'>13</a>\u001b[0m         nk_dense\u001b[39m=\u001b[39;49mnk_dense,\n\u001b[1;32m     <a href='vscode-notebook-cell:/Users/rzijderveld/kwant-scf/examples/graphene_extended_hubbard.ipynb#X13sZmlsZQ%3D%3D?line=13'>14</a>\u001b[0m         guess\u001b[39m=\u001b[39;49mguess,\n\u001b[1;32m     <a href='vscode-notebook-cell:/Users/rzijderveld/kwant-scf/examples/graphene_extended_hubbard.ipynb#X13sZmlsZQ%3D%3D?line=14'>15</a>\u001b[0m     )\n\u001b[1;32m     <a href='vscode-notebook-cell:/Users/rzijderveld/kwant-scf/examples/graphene_extended_hubbard.ipynb#X13sZmlsZQ%3D%3D?line=15'>16</a>\u001b[0m     gap_U\u001b[39m.\u001b[39mappend(_gap)\n\u001b[1;32m     <a href='vscode-notebook-cell:/Users/rzijderveld/kwant-scf/examples/graphene_extended_hubbard.ipynb#X13sZmlsZQ%3D%3D?line=16'>17</a>\u001b[0m gap\u001b[39m.\u001b[39mappend(gap_U)\n",
      "\u001b[1;32m/Users/rzijderveld/kwant-scf/examples/graphene_extended_hubbard.ipynb Cell 13\u001b[0m line \u001b[0;36m1\n\u001b[1;32m      <a href='vscode-notebook-cell:/Users/rzijderveld/kwant-scf/examples/graphene_extended_hubbard.ipynb#X13sZmlsZQ%3D%3D?line=8'>9</a>\u001b[0m model\u001b[39m.\u001b[39mguess \u001b[39m=\u001b[39m guess\n\u001b[1;32m     <a href='vscode-notebook-cell:/Users/rzijderveld/kwant-scf/examples/graphene_extended_hubbard.ipynb#X13sZmlsZQ%3D%3D?line=10'>11</a>\u001b[0m \u001b[39m# Find groundstate Hamiltonian on the same grid\u001b[39;00m\n\u001b[0;32m---> <a href='vscode-notebook-cell:/Users/rzijderveld/kwant-scf/examples/graphene_extended_hubbard.ipynb#X13sZmlsZQ%3D%3D?line=11'>12</a>\u001b[0m mf_model \u001b[39m=\u001b[39m hf\u001b[39m.\u001b[39;49mfind_groundstate_ham(\n\u001b[1;32m     <a href='vscode-notebook-cell:/Users/rzijderveld/kwant-scf/examples/graphene_extended_hubbard.ipynb#X13sZmlsZQ%3D%3D?line=12'>13</a>\u001b[0m     model,\n\u001b[1;32m     <a href='vscode-notebook-cell:/Users/rzijderveld/kwant-scf/examples/graphene_extended_hubbard.ipynb#X13sZmlsZQ%3D%3D?line=13'>14</a>\u001b[0m     filling\u001b[39m=\u001b[39;49mfilling,\n\u001b[1;32m     <a href='vscode-notebook-cell:/Users/rzijderveld/kwant-scf/examples/graphene_extended_hubbard.ipynb#X13sZmlsZQ%3D%3D?line=14'>15</a>\u001b[0m     nk\u001b[39m=\u001b[39;49mnk,\n\u001b[1;32m     <a href='vscode-notebook-cell:/Users/rzijderveld/kwant-scf/examples/graphene_extended_hubbard.ipynb#X13sZmlsZQ%3D%3D?line=15'>16</a>\u001b[0m     cutoff_Vk\u001b[39m=\u001b[39;49m\u001b[39m10\u001b[39;49m,  \u001b[39m# no intuition about cutoff_Vk\u001b[39;49;00m\n\u001b[1;32m     <a href='vscode-notebook-cell:/Users/rzijderveld/kwant-scf/examples/graphene_extended_hubbard.ipynb#X13sZmlsZQ%3D%3D?line=16'>17</a>\u001b[0m     cost_function\u001b[39m=\u001b[39;49mupper_triangle_cost,\n\u001b[1;32m     <a href='vscode-notebook-cell:/Users/rzijderveld/kwant-scf/examples/graphene_extended_hubbard.ipynb#X13sZmlsZQ%3D%3D?line=17'>18</a>\u001b[0m )\n\u001b[1;32m     <a href='vscode-notebook-cell:/Users/rzijderveld/kwant-scf/examples/graphene_extended_hubbard.ipynb#X13sZmlsZQ%3D%3D?line=19'>20</a>\u001b[0m mf_k \u001b[39m=\u001b[39m utils\u001b[39m.\u001b[39mkgrid_hamiltonian(  \u001b[39m# only used for diagonalization to get gap\u001b[39;00m\n\u001b[1;32m     <a href='vscode-notebook-cell:/Users/rzijderveld/kwant-scf/examples/graphene_extended_hubbard.ipynb#X13sZmlsZQ%3D%3D?line=20'>21</a>\u001b[0m     nk\u001b[39m=\u001b[39mnk_dense,\n\u001b[1;32m     <a href='vscode-notebook-cell:/Users/rzijderveld/kwant-scf/examples/graphene_extended_hubbard.ipynb#X13sZmlsZQ%3D%3D?line=21'>22</a>\u001b[0m     hk\u001b[39m=\u001b[39mutils\u001b[39m.\u001b[39mmodel2hk(tb_model\u001b[39m=\u001b[39mmf_model),\n\u001b[1;32m     <a href='vscode-notebook-cell:/Users/rzijderveld/kwant-scf/examples/graphene_extended_hubbard.ipynb#X13sZmlsZQ%3D%3D?line=22'>23</a>\u001b[0m     dim\u001b[39m=\u001b[39m\u001b[39m2\u001b[39m\n\u001b[1;32m     <a href='vscode-notebook-cell:/Users/rzijderveld/kwant-scf/examples/graphene_extended_hubbard.ipynb#X13sZmlsZQ%3D%3D?line=23'>24</a>\u001b[0m )\n\u001b[1;32m     <a href='vscode-notebook-cell:/Users/rzijderveld/kwant-scf/examples/graphene_extended_hubbard.ipynb#X13sZmlsZQ%3D%3D?line=24'>25</a>\u001b[0m \u001b[39m# Diagonalize groundstate Hamiltonian\u001b[39;00m\n",
      "File \u001b[0;32m~/kwant-scf/examples/codes/hf.py:250\u001b[0m, in \u001b[0;36mfind_groundstate_ham\u001b[0;34m(model, cutoff_Vk, filling, nk, cost_function, optimizer, optimizer_kwargs)\u001b[0m\n\u001b[1;32m    248\u001b[0m model\u001b[39m.\u001b[39mkgrid_evaluation(nk\u001b[39m=\u001b[39mnk)\n\u001b[1;32m    249\u001b[0m fun \u001b[39m=\u001b[39m partial(cost_function, model\u001b[39m=\u001b[39mmodel)\n\u001b[0;32m--> 250\u001b[0m mf_k \u001b[39m=\u001b[39m optimizer(fun, matrix_to_flat(model\u001b[39m.\u001b[39;49mmf_k), \u001b[39m*\u001b[39;49m\u001b[39m*\u001b[39;49moptimizer_kwargs)\n\u001b[1;32m    251\u001b[0m \u001b[39massert\u001b[39;00m np\u001b[39m.\u001b[39mallclose((mf_k \u001b[39m-\u001b[39m np\u001b[39m.\u001b[39mmoveaxis(mf_k, \u001b[39m-\u001b[39m\u001b[39m1\u001b[39m, \u001b[39m-\u001b[39m\u001b[39m2\u001b[39m)\u001b[39m.\u001b[39mconj()) \u001b[39m/\u001b[39m \u001b[39m2\u001b[39m, \u001b[39m0\u001b[39m, atol\u001b[39m=\u001b[39m\u001b[39m1e-5\u001b[39m)\n\u001b[1;32m    252\u001b[0m mf_k \u001b[39m=\u001b[39m (mf_k \u001b[39m+\u001b[39m np\u001b[39m.\u001b[39mmoveaxis(mf_k, \u001b[39m-\u001b[39m\u001b[39m1\u001b[39m, \u001b[39m-\u001b[39m\u001b[39m2\u001b[39m)\u001b[39m.\u001b[39mconj()) \u001b[39m/\u001b[39m \u001b[39m2\u001b[39m\n",
      "File \u001b[0;32m<string>:6\u001b[0m, in \u001b[0;36manderson\u001b[0;34m(F, xin, iter, alpha, w0, M, verbose, maxiter, f_tol, f_rtol, x_tol, x_rtol, tol_norm, line_search, callback, **kw)\u001b[0m\n",
      "File \u001b[0;32m~/opt/anaconda3/envs/python3/lib/python3.11/site-packages/scipy/optimize/_nonlin.py:172\u001b[0m, in \u001b[0;36mnonlin_solve\u001b[0;34m(F, x0, jacobian, iter, verbose, maxiter, f_tol, f_rtol, x_tol, x_rtol, tol_norm, line_search, callback, full_output, raise_exception)\u001b[0m\n\u001b[1;32m    169\u001b[0m x \u001b[39m=\u001b[39m x0\u001b[39m.\u001b[39mflatten()\n\u001b[1;32m    171\u001b[0m dx \u001b[39m=\u001b[39m np\u001b[39m.\u001b[39mfull_like(x, np\u001b[39m.\u001b[39minf)\n\u001b[0;32m--> 172\u001b[0m Fx \u001b[39m=\u001b[39m func(x)\n\u001b[1;32m    173\u001b[0m Fx_norm \u001b[39m=\u001b[39m norm(Fx)\n\u001b[1;32m    175\u001b[0m jacobian \u001b[39m=\u001b[39m asjacobian(jacobian)\n",
      "File \u001b[0;32m~/opt/anaconda3/envs/python3/lib/python3.11/site-packages/scipy/optimize/_nonlin.py:168\u001b[0m, in \u001b[0;36mnonlin_solve.<locals>.func\u001b[0;34m(z)\u001b[0m\n\u001b[1;32m    167\u001b[0m \u001b[39mdef\u001b[39;00m \u001b[39mfunc\u001b[39m(z):\n\u001b[0;32m--> 168\u001b[0m     \u001b[39mreturn\u001b[39;00m _as_inexact(F(_array_like(z, x0)))\u001b[39m.\u001b[39mflatten()\n",
      "\u001b[1;32m/Users/rzijderveld/kwant-scf/examples/graphene_extended_hubbard.ipynb Cell 13\u001b[0m line \u001b[0;36m2\n\u001b[1;32m     <a href='vscode-notebook-cell:/Users/rzijderveld/kwant-scf/examples/graphene_extended_hubbard.ipynb#X13sZmlsZQ%3D%3D?line=20'>21</a>\u001b[0m mfk_shape \u001b[39m=\u001b[39m model\u001b[39m.\u001b[39mmf_k\u001b[39m.\u001b[39mshape\n\u001b[1;32m     <a href='vscode-notebook-cell:/Users/rzijderveld/kwant-scf/examples/graphene_extended_hubbard.ipynb#X13sZmlsZQ%3D%3D?line=22'>23</a>\u001b[0m \u001b[39m# From flat to non-flat:\u001b[39;00m\n\u001b[0;32m---> <a href='vscode-notebook-cell:/Users/rzijderveld/kwant-scf/examples/graphene_extended_hubbard.ipynb#X13sZmlsZQ%3D%3D?line=23'>24</a>\u001b[0m mf_delta_shaped \u001b[39m=\u001b[39m flat_to_matrix(delta_mf_flatten, mfk_shape)\n\u001b[1;32m     <a href='vscode-notebook-cell:/Users/rzijderveld/kwant-scf/examples/graphene_extended_hubbard.ipynb#X13sZmlsZQ%3D%3D?line=25'>26</a>\u001b[0m \u001b[39m# Doing the update\u001b[39;00m\n\u001b[1;32m     <a href='vscode-notebook-cell:/Users/rzijderveld/kwant-scf/examples/graphene_extended_hubbard.ipynb#X13sZmlsZQ%3D%3D?line=26'>27</a>\u001b[0m mf_shaped \u001b[39m=\u001b[39m model\u001b[39m.\u001b[39mmf_k \u001b[39m+\u001b[39m mf_delta_shaped\n",
      "\u001b[1;32m/Users/rzijderveld/kwant-scf/examples/graphene_extended_hubbard.ipynb Cell 13\u001b[0m line \u001b[0;36m3\n\u001b[1;32m      <a href='vscode-notebook-cell:/Users/rzijderveld/kwant-scf/examples/graphene_extended_hubbard.ipynb#X13sZmlsZQ%3D%3D?line=0'>1</a>\u001b[0m \u001b[39mdef\u001b[39;00m \u001b[39mflat_to_matrix\u001b[39m(flat, shape):\n\u001b[1;32m      <a href='vscode-notebook-cell:/Users/rzijderveld/kwant-scf/examples/graphene_extended_hubbard.ipynb#X13sZmlsZQ%3D%3D?line=1'>2</a>\u001b[0m     matrix \u001b[39m=\u001b[39m np\u001b[39m.\u001b[39mzeros(shape, dtype\u001b[39m=\u001b[39m\u001b[39mcomplex\u001b[39m)\n\u001b[0;32m----> <a href='vscode-notebook-cell:/Users/rzijderveld/kwant-scf/examples/graphene_extended_hubbard.ipynb#X13sZmlsZQ%3D%3D?line=2'>3</a>\u001b[0m     matrix[:, :, \u001b[39m*\u001b[39mnp\u001b[39m.\u001b[39mtriu_indices(shape[\u001b[39m-\u001b[39m\u001b[39m1\u001b[39m])] \u001b[39m=\u001b[39m flat\u001b[39m.\u001b[39;49mreshape(shape[\u001b[39m0\u001b[39;49m], shape[\u001b[39m1\u001b[39;49m], \u001b[39m-\u001b[39;49m\u001b[39m1\u001b[39;49m)\n\u001b[1;32m      <a href='vscode-notebook-cell:/Users/rzijderveld/kwant-scf/examples/graphene_extended_hubbard.ipynb#X13sZmlsZQ%3D%3D?line=3'>4</a>\u001b[0m     lower_triangle_wo_diag \u001b[39m=\u001b[39m matrix\u001b[39m.\u001b[39mtranspose(\u001b[39m0\u001b[39m, \u001b[39m1\u001b[39m, \u001b[39m3\u001b[39m, \u001b[39m2\u001b[39m)[\n\u001b[1;32m      <a href='vscode-notebook-cell:/Users/rzijderveld/kwant-scf/examples/graphene_extended_hubbard.ipynb#X13sZmlsZQ%3D%3D?line=4'>5</a>\u001b[0m         :, :, \u001b[39m*\u001b[39mnp\u001b[39m.\u001b[39mtril_indices(shape[\u001b[39m-\u001b[39m\u001b[39m1\u001b[39m], k\u001b[39m=\u001b[39m\u001b[39m-\u001b[39m\u001b[39m1\u001b[39m)\n\u001b[1;32m      <a href='vscode-notebook-cell:/Users/rzijderveld/kwant-scf/examples/graphene_extended_hubbard.ipynb#X13sZmlsZQ%3D%3D?line=5'>6</a>\u001b[0m     ]\n\u001b[1;32m      <a href='vscode-notebook-cell:/Users/rzijderveld/kwant-scf/examples/graphene_extended_hubbard.ipynb#X13sZmlsZQ%3D%3D?line=6'>7</a>\u001b[0m     matrix[:, :, \u001b[39m*\u001b[39mnp\u001b[39m.\u001b[39mtril_indices(shape[\u001b[39m-\u001b[39m\u001b[39m1\u001b[39m], k\u001b[39m=\u001b[39m\u001b[39m-\u001b[39m\u001b[39m1\u001b[39m)] \u001b[39m=\u001b[39m lower_triangle_wo_diag\u001b[39m.\u001b[39mreshape(\n\u001b[1;32m      <a href='vscode-notebook-cell:/Users/rzijderveld/kwant-scf/examples/graphene_extended_hubbard.ipynb#X13sZmlsZQ%3D%3D?line=7'>8</a>\u001b[0m         shape[\u001b[39m0\u001b[39m], shape[\u001b[39m1\u001b[39m], \u001b[39m-\u001b[39m\u001b[39m1\u001b[39m\n\u001b[1;32m      <a href='vscode-notebook-cell:/Users/rzijderveld/kwant-scf/examples/graphene_extended_hubbard.ipynb#X13sZmlsZQ%3D%3D?line=8'>9</a>\u001b[0m     )\u001b[39m.\u001b[39mconj()\n",
      "\u001b[0;31mValueError\u001b[0m: cannot reshape array of size 1 into shape (15,15,newaxis)"
     ]
    }
   ],
   "source": [
    "# Generate dense-grid k-points\n",
    "# Interaction strengths\n",
    "nk = 15\n",
    "nk_dense = 30\n",
    "Us = np.linspace(0, 3, 10, endpoint=True)\n",
    "Vs = np.linspace(0, 1.5, 10, endpoint=True)\n",
    "gap = compute_phase_diagram(Us, Vs, nk=nk, nk_dense=nk_dense)"
   ]
  },
  {
   "cell_type": "code",
   "execution_count": 15,
   "metadata": {},
   "outputs": [
    {
     "name": "stdout",
     "output_type": "stream",
     "text": [
      "> \u001b[0;32m/var/folders/yf/2jcxwgld3l77h6y62fb5ty8ssr_5lq/T/ipykernel_80069/2781680018.py\u001b[0m(3)\u001b[0;36mflat_to_matrix\u001b[0;34m()\u001b[0m\n",
      "\u001b[0;32m      1 \u001b[0;31m\u001b[0;32mdef\u001b[0m \u001b[0mflat_to_matrix\u001b[0m\u001b[0;34m(\u001b[0m\u001b[0mflat\u001b[0m\u001b[0;34m,\u001b[0m \u001b[0mshape\u001b[0m\u001b[0;34m)\u001b[0m\u001b[0;34m:\u001b[0m\u001b[0;34m\u001b[0m\u001b[0;34m\u001b[0m\u001b[0m\n",
      "\u001b[0m\u001b[0;32m      2 \u001b[0;31m    \u001b[0mmatrix\u001b[0m \u001b[0;34m=\u001b[0m \u001b[0mnp\u001b[0m\u001b[0;34m.\u001b[0m\u001b[0mzeros\u001b[0m\u001b[0;34m(\u001b[0m\u001b[0mshape\u001b[0m\u001b[0;34m,\u001b[0m \u001b[0mdtype\u001b[0m\u001b[0;34m=\u001b[0m\u001b[0mcomplex\u001b[0m\u001b[0;34m)\u001b[0m\u001b[0;34m\u001b[0m\u001b[0;34m\u001b[0m\u001b[0m\n",
      "\u001b[0m\u001b[0;32m----> 3 \u001b[0;31m    \u001b[0mmatrix\u001b[0m\u001b[0;34m[\u001b[0m\u001b[0;34m:\u001b[0m\u001b[0;34m,\u001b[0m \u001b[0;34m:\u001b[0m\u001b[0;34m,\u001b[0m \u001b[0;34m*\u001b[0m\u001b[0mnp\u001b[0m\u001b[0;34m.\u001b[0m\u001b[0mtriu_indices\u001b[0m\u001b[0;34m(\u001b[0m\u001b[0mshape\u001b[0m\u001b[0;34m[\u001b[0m\u001b[0;34m-\u001b[0m\u001b[0;36m1\u001b[0m\u001b[0;34m]\u001b[0m\u001b[0;34m)\u001b[0m\u001b[0;34m]\u001b[0m \u001b[0;34m=\u001b[0m \u001b[0mflat\u001b[0m\u001b[0;34m.\u001b[0m\u001b[0mreshape\u001b[0m\u001b[0;34m(\u001b[0m\u001b[0mshape\u001b[0m\u001b[0;34m[\u001b[0m\u001b[0;36m0\u001b[0m\u001b[0;34m]\u001b[0m\u001b[0;34m,\u001b[0m \u001b[0mshape\u001b[0m\u001b[0;34m[\u001b[0m\u001b[0;36m1\u001b[0m\u001b[0;34m]\u001b[0m\u001b[0;34m,\u001b[0m \u001b[0;34m-\u001b[0m\u001b[0;36m1\u001b[0m\u001b[0;34m)\u001b[0m\u001b[0;34m\u001b[0m\u001b[0;34m\u001b[0m\u001b[0m\n",
      "\u001b[0m\u001b[0;32m      4 \u001b[0;31m    lower_triangle_wo_diag = matrix.transpose(0, 1, 3, 2)[\n",
      "\u001b[0m\u001b[0;32m      5 \u001b[0;31m        \u001b[0;34m:\u001b[0m\u001b[0;34m,\u001b[0m \u001b[0;34m:\u001b[0m\u001b[0;34m,\u001b[0m \u001b[0;34m*\u001b[0m\u001b[0mnp\u001b[0m\u001b[0;34m.\u001b[0m\u001b[0mtril_indices\u001b[0m\u001b[0;34m(\u001b[0m\u001b[0mshape\u001b[0m\u001b[0;34m[\u001b[0m\u001b[0;34m-\u001b[0m\u001b[0;36m1\u001b[0m\u001b[0;34m]\u001b[0m\u001b[0;34m,\u001b[0m \u001b[0mk\u001b[0m\u001b[0;34m=\u001b[0m\u001b[0;34m-\u001b[0m\u001b[0;36m1\u001b[0m\u001b[0;34m)\u001b[0m\u001b[0;34m\u001b[0m\u001b[0;34m\u001b[0m\u001b[0m\n",
      "\u001b[0m\n",
      "> \u001b[0;32m/var/folders/yf/2jcxwgld3l77h6y62fb5ty8ssr_5lq/T/ipykernel_80069/2781680018.py\u001b[0m(24)\u001b[0;36mupper_triangle_cost\u001b[0;34m()\u001b[0m\n",
      "\u001b[0;32m     22 \u001b[0;31m\u001b[0;34m\u001b[0m\u001b[0m\n",
      "\u001b[0m\u001b[0;32m     23 \u001b[0;31m    \u001b[0;31m# From flat to non-flat:\u001b[0m\u001b[0;34m\u001b[0m\u001b[0;34m\u001b[0m\u001b[0m\n",
      "\u001b[0m\u001b[0;32m---> 24 \u001b[0;31m    \u001b[0mmf_delta_shaped\u001b[0m \u001b[0;34m=\u001b[0m \u001b[0mflat_to_matrix\u001b[0m\u001b[0;34m(\u001b[0m\u001b[0mdelta_mf_flatten\u001b[0m\u001b[0;34m,\u001b[0m \u001b[0mmfk_shape\u001b[0m\u001b[0;34m)\u001b[0m\u001b[0;34m\u001b[0m\u001b[0;34m\u001b[0m\u001b[0m\n",
      "\u001b[0m\u001b[0;32m     25 \u001b[0;31m\u001b[0;34m\u001b[0m\u001b[0m\n",
      "\u001b[0m\u001b[0;32m     26 \u001b[0;31m    \u001b[0;31m# Doing the update\u001b[0m\u001b[0;34m\u001b[0m\u001b[0;34m\u001b[0m\u001b[0m\n",
      "\u001b[0m\n",
      "array(nan)\n",
      "> \u001b[0;32m/Users/rzijderveld/opt/anaconda3/envs/python3/lib/python3.11/site-packages/scipy/optimize/_nonlin.py\u001b[0m(168)\u001b[0;36mfunc\u001b[0;34m()\u001b[0m\n",
      "\u001b[0;32m    166 \u001b[0;31m    \u001b[0mx0\u001b[0m \u001b[0;34m=\u001b[0m \u001b[0m_as_inexact\u001b[0m\u001b[0;34m(\u001b[0m\u001b[0mx0\u001b[0m\u001b[0;34m)\u001b[0m\u001b[0;34m\u001b[0m\u001b[0;34m\u001b[0m\u001b[0m\n",
      "\u001b[0m\u001b[0;32m    167 \u001b[0;31m    \u001b[0;32mdef\u001b[0m \u001b[0mfunc\u001b[0m\u001b[0;34m(\u001b[0m\u001b[0mz\u001b[0m\u001b[0;34m)\u001b[0m\u001b[0;34m:\u001b[0m\u001b[0;34m\u001b[0m\u001b[0;34m\u001b[0m\u001b[0m\n",
      "\u001b[0m\u001b[0;32m--> 168 \u001b[0;31m        \u001b[0;32mreturn\u001b[0m \u001b[0m_as_inexact\u001b[0m\u001b[0;34m(\u001b[0m\u001b[0mF\u001b[0m\u001b[0;34m(\u001b[0m\u001b[0m_array_like\u001b[0m\u001b[0;34m(\u001b[0m\u001b[0mz\u001b[0m\u001b[0;34m,\u001b[0m \u001b[0mx0\u001b[0m\u001b[0;34m)\u001b[0m\u001b[0;34m)\u001b[0m\u001b[0;34m)\u001b[0m\u001b[0;34m.\u001b[0m\u001b[0mflatten\u001b[0m\u001b[0;34m(\u001b[0m\u001b[0;34m)\u001b[0m\u001b[0;34m\u001b[0m\u001b[0;34m\u001b[0m\u001b[0m\n",
      "\u001b[0m\u001b[0;32m    169 \u001b[0;31m    \u001b[0mx\u001b[0m \u001b[0;34m=\u001b[0m \u001b[0mx0\u001b[0m\u001b[0;34m.\u001b[0m\u001b[0mflatten\u001b[0m\u001b[0;34m(\u001b[0m\u001b[0;34m)\u001b[0m\u001b[0;34m\u001b[0m\u001b[0;34m\u001b[0m\u001b[0m\n",
      "\u001b[0m\u001b[0;32m    170 \u001b[0;31m\u001b[0;34m\u001b[0m\u001b[0m\n",
      "\u001b[0m\n",
      "array([nan])\n",
      "array(nan)\n",
      "> \u001b[0;32m/Users/rzijderveld/opt/anaconda3/envs/python3/lib/python3.11/site-packages/scipy/optimize/_nonlin.py\u001b[0m(172)\u001b[0;36mnonlin_solve\u001b[0;34m()\u001b[0m\n",
      "\u001b[0;32m    170 \u001b[0;31m\u001b[0;34m\u001b[0m\u001b[0m\n",
      "\u001b[0m\u001b[0;32m    171 \u001b[0;31m    \u001b[0mdx\u001b[0m \u001b[0;34m=\u001b[0m \u001b[0mnp\u001b[0m\u001b[0;34m.\u001b[0m\u001b[0mfull_like\u001b[0m\u001b[0;34m(\u001b[0m\u001b[0mx\u001b[0m\u001b[0;34m,\u001b[0m \u001b[0mnp\u001b[0m\u001b[0;34m.\u001b[0m\u001b[0minf\u001b[0m\u001b[0;34m)\u001b[0m\u001b[0;34m\u001b[0m\u001b[0;34m\u001b[0m\u001b[0m\n",
      "\u001b[0m\u001b[0;32m--> 172 \u001b[0;31m    \u001b[0mFx\u001b[0m \u001b[0;34m=\u001b[0m \u001b[0mfunc\u001b[0m\u001b[0;34m(\u001b[0m\u001b[0mx\u001b[0m\u001b[0;34m)\u001b[0m\u001b[0;34m\u001b[0m\u001b[0;34m\u001b[0m\u001b[0m\n",
      "\u001b[0m\u001b[0;32m    173 \u001b[0;31m    \u001b[0mFx_norm\u001b[0m \u001b[0;34m=\u001b[0m \u001b[0mnorm\u001b[0m\u001b[0;34m(\u001b[0m\u001b[0mFx\u001b[0m\u001b[0;34m)\u001b[0m\u001b[0;34m\u001b[0m\u001b[0;34m\u001b[0m\u001b[0m\n",
      "\u001b[0m\u001b[0;32m    174 \u001b[0;31m\u001b[0;34m\u001b[0m\u001b[0m\n",
      "\u001b[0m\n"
     ]
    }
   ],
   "source": [
    "%debug"
   ]
  },
  {
   "cell_type": "code",
   "execution_count": 45,
   "id": "e17fc96c-c463-4e1f-8250-c254d761b92a",
   "metadata": {},
   "outputs": [],
   "source": [
    "import xarray as xr\n",
    "\n",
    "gap_da = xr.DataArray(data=gap, coords=dict(Us=Us, Vs=Vs))"
   ]
  },
  {
   "cell_type": "markdown",
   "id": "288f3d8e-8432-4697-be78-5156026f9fac",
   "metadata": {},
   "source": [
    "We note that the gap openings coincide with the phase transitions from gapless to charge density wave or antiferromagnetic groundstates as predicted in [arXiv:1204.4531](https://arxiv.org/abs/1204.4531). "
   ]
  },
  {
   "cell_type": "code",
   "execution_count": 46,
   "metadata": {},
   "outputs": [
    {
     "data": {
      "text/plain": [
       "<matplotlib.collections.QuadMesh at 0x14e254450>"
      ]
     },
     "execution_count": 46,
     "metadata": {},
     "output_type": "execute_result"
    },
    {
     "data": {
      "image/png": "[encoded data removed]",
      "text/plain": [
       "<Figure size 640x480 with 2 Axes>"
      ]
     },
     "metadata": {},
     "output_type": "display_data"
    }
   ],
   "source": [
    "gap_da.plot(x=\"Us\", y=\"Vs\")"
   ]
  },
  {
   "cell_type": "code",
   "execution_count": 8,
   "id": "101d04f3-f811-446d-a313-5a004eba2690",
   "metadata": {},
   "outputs": [
    {
     "data": {
      "text/plain": [
       "<matplotlib.collections.QuadMesh at 0x7f946ef9d290>"
      ]
     },
     "execution_count": 8,
     "metadata": {},
     "output_type": "execute_result"
    },
    {
     "data": {
      "image/png": "[encoded data removed]",
      "text/plain": [
       "<Figure size 640x480 with 2 Axes>"
      ]
     },
     "metadata": {},
     "output_type": "display_data"
    }
   ],
   "source": [
    "gap_da.plot(x=\"Us\", y=\"Vs\")"
   ]
  },
  {
   "cell_type": "code",
   "execution_count": 9,
   "id": "0cb395cd-84d1-49b4-89dd-da7a2d09c8d0",
   "metadata": {},
   "outputs": [],
   "source": [
    "gap_da.to_netcdf(\"./data/graphene_example.nc\")"
   ]
  }
 ],
 "metadata": {
  "kernelspec": {
   "display_name": "Python 3 (ipykernel)",
   "language": "python",
   "name": "python3"
  },
  "language_info": {
   "codemirror_mode": {
    "name": "ipython",
    "version": 3
   },
   "file_extension": ".py",
   "mimetype": "text/x-python",
   "name": "python",
   "nbconvert_exporter": "python",
   "pygments_lexer": "ipython3",
   "version": "3.11.6"
  },
  "widgets": {
   "application/vnd.jupyter.widget-state+json": {
    "state": {},
    "version_major": 2,
    "version_minor": 0
   }
  }
 },
 "nbformat": 4,
 "nbformat_minor": 5
}
