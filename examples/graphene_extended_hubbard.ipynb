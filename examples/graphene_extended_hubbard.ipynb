{
 "cells": [
  {
   "cell_type": "code",
   "execution_count": 11,
   "id": "cb509096-42c6-4a45-8dc4-a8eed3116e67",
   "metadata": {
    "tags": []
   },
   "outputs": [],
   "source": [
    "import numpy as np\n",
    "import matplotlib.pyplot as plt\n",
    "import numpy as np\n",
    "import matplotlib.pyplot as plt\n",
    "import pymf.model as model\n",
    "import pymf.solvers as solvers\n",
    "import pymf.mf as mf\n",
    "import pymf.tb as tb\n",
    "import pymf.observables as observables\n",
    "import pymf.kwant_helper.kwant_examples as kwant_examples\n",
    "import pymf.kwant_helper.utils as kwant_utils"
   ]
  },
  {
   "cell_type": "code",
   "execution_count": 2,
   "id": "99f0e60c",
   "metadata": {},
   "outputs": [],
   "source": [
    "graphene_builder, int_builder = kwant_examples.graphene_extended_hubbard()\n",
    "h_0 = kwant_utils.builder_to_tb(graphene_builder)"
   ]
  },
  {
   "cell_type": "code",
   "execution_count": 86,
   "id": "9189a20f",
   "metadata": {},
   "outputs": [],
   "source": [
    "U=4\n",
    "V=0\n",
    "params = dict(U=U, V=V)\n",
    "h_int = kwant_utils.builder_to_tb(int_builder, params)\n",
    "_model = model.Model(h_0, h_int, filling=2)\n",
    "guess = tb.utils.generate_guess(frozenset(h_int), len(list(h_0.values())[0]))\n",
    "mf_sol = solvers.solver(_model, guess, nk=18, optimizer_kwargs={'M':0})\n",
    "full_sol = tb.tb.add_tb(h_0, mf_sol)"
   ]
  },
  {
   "cell_type": "code",
   "execution_count": 87,
   "id": "9d6ce961",
   "metadata": {},
   "outputs": [],
   "source": [
    "sx = np.array([[0, 1], [1, 0]])\n",
    "sy = np.array([[0, -1j], [1j, 0]])\n",
    "sz = np.array([[1, 0], [0, -1]])\n",
    "\n",
    "s_list = [sx, sy, sz]\n",
    "rho, _ = mf.construct_density_matrix(full_sol, filling=2, nk=40)\n",
    "\n",
    "order_parameter_list = []\n",
    "for s in s_list: \n",
    "    order_parameter = {}\n",
    "    order_parameter[(0,0)] =  np.kron(sz, s)\n",
    "    order_parameter_list.append(order_parameter)\n",
    "\n",
    "expectation_value_list = []\n",
    "for order_parameter in order_parameter_list:\n",
    "    expectation_value = observables.expectation_value(rho, order_parameter)\n",
    "    expectation_value_list.append(expectation_value)"
   ]
  },
  {
   "cell_type": "code",
   "execution_count": 88,
   "id": "d77b4bea",
   "metadata": {},
   "outputs": [
    {
     "data": {
      "text/plain": [
       "(1.804655008699922+0j)"
      ]
     },
     "execution_count": 88,
     "metadata": {},
     "output_type": "execute_result"
    }
   ],
   "source": [
    "np.sum(np.array(expectation_value_list)**2)"
   ]
  },
  {
   "cell_type": "code",
   "execution_count": 64,
   "id": "10dfae00",
   "metadata": {},
   "outputs": [],
   "source": [
    "#antiferromagnetic order parameter\n",
    "anti_order_parameter = {}\n",
    "anti_order_parameter[(0,0)] = np.kron(sz, sz)\n",
    "expectation_value = observables.expectation_value(rho, anti_order_parameter)"
   ]
  },
  {
   "cell_type": "code",
   "execution_count": null,
   "id": "7d3394a1",
   "metadata": {},
   "outputs": [],
   "source": []
  },
  {
   "cell_type": "code",
   "execution_count": 54,
   "id": "260bd7c1",
   "metadata": {},
   "outputs": [],
   "source": [
    "\n",
    "cdw_order_parameter = {}\n",
    "cdw_order_parameter[(0,0)] = np.kron(sz, np.eye(2))\n",
    "\n",
    "\n",
    "sdw_order_parameter = {}\n",
    "sdw_order_parameter[(0,0)] = np.kron(np.eye(2), sz)"
   ]
  },
  {
   "cell_type": "code",
   "execution_count": 55,
   "id": "345644dc",
   "metadata": {},
   "outputs": [],
   "source": [
    "expectation_value = observables.expectation_value(rho, cdw_order_parameter)"
   ]
  },
  {
   "cell_type": "code",
   "execution_count": 56,
   "id": "fe4b9564",
   "metadata": {},
   "outputs": [
    {
     "data": {
      "text/plain": [
       "(-1.5833996732759665+0j)"
      ]
     },
     "execution_count": 56,
     "metadata": {},
     "output_type": "execute_result"
    }
   ],
   "source": [
    "expectation_value"
   ]
  },
  {
   "cell_type": "code",
   "execution_count": 4,
   "id": "83e823ed",
   "metadata": {},
   "outputs": [
    {
     "data": {
      "text/plain": [
       "{(0,\n",
       "  0): array([[0., 0., 1., 0.],\n",
       "        [0., 0., 0., 1.],\n",
       "        [1., 0., 0., 0.],\n",
       "        [0., 1., 0., 0.]]),\n",
       " (0,\n",
       "  -1): array([[0., 0., 1., 0.],\n",
       "        [0., 0., 0., 1.],\n",
       "        [0., 0., 0., 0.],\n",
       "        [0., 0., 0., 0.]]),\n",
       " (0,\n",
       "  1): array([[0., 0., 0., 0.],\n",
       "        [0., 0., 0., 0.],\n",
       "        [1., 0., 0., 0.],\n",
       "        [0., 1., 0., 0.]]),\n",
       " (1,\n",
       "  -1): array([[0., 0., 1., 0.],\n",
       "        [0., 0., 0., 1.],\n",
       "        [0., 0., 0., 0.],\n",
       "        [0., 0., 0., 0.]]),\n",
       " (-1,\n",
       "  1): array([[0., 0., 0., 0.],\n",
       "        [0., 0., 0., 0.],\n",
       "        [1., 0., 0., 0.],\n",
       "        [0., 1., 0., 0.]])}"
      ]
     },
     "execution_count": 4,
     "metadata": {},
     "output_type": "execute_result"
    }
   ],
   "source": [
    "h_0"
   ]
  },
  {
   "cell_type": "code",
   "execution_count": null,
   "id": "e1894ac3",
   "metadata": {},
   "outputs": [],
   "source": [
    "def compute_gap(h, fermi_energy=0, nk=100):\n",
    "    kham = tb.transforms.tb_to_khamvector(h, nk, ks=None)\n",
    "    vals = np.linalg.eigvalsh(kham)\n",
    "\n",
    "    emax = np.max(vals[vals <= fermi_energy])\n",
    "    emin = np.min(vals[vals > fermi_energy])\n",
    "    return np.abs(emin - emax)"
   ]
  },
  {
   "cell_type": "code",
   "execution_count": null,
   "id": "d0092977",
   "metadata": {},
   "outputs": [],
   "source": [
    "def compute_phase_diagram(Us, Vs, int_builder, h_0): \n",
    "    gap = []\n",
    "    for U in Us: \n",
    "      for V in Vs: \n",
    "        params = dict(U=U, V=V)\n",
    "        h_int = kwant_utils.builder_to_tb(int_builder, params)\n",
    "        _model = model.Model(h_0, h_int, filling=2)\n",
    "\n",
    "        converged=False\n",
    "        while not converged:\n",
    "          guess = tb.utils.generate_guess(frozenset(h_int), len(list(h_0.values())[0]))\n",
    "          try:\n",
    "            mf_sol = solvers.solver(_model, guess, nk=18, optimizer_kwargs={'M':0})\n",
    "            converged=True\n",
    "          except:\n",
    "            converged=False\n",
    "        gap.append(compute_gap(tb.tb.add_tb(h_0, mf_sol), fermi_energy=0, nk=300))\n",
    "      guess = None\n",
    "    return np.asarray(gap, dtype=float).reshape(len(Us), len(Vs))"
   ]
  },
  {
   "cell_type": "code",
   "execution_count": 9,
   "id": "14f332f2",
   "metadata": {},
   "outputs": [
    {
     "name": "stderr",
     "output_type": "stream",
     "text": [
      "100%|██████████| 10/10 [07:09<00:00, 43.00s/it]\n"
     ]
    }
   ],
   "source": [
    "Us = np.linspace(0, 3, 10, endpoint=True)\n",
    "Vs = np.linspace(0, 1.5, 10, endpoint=True)\n",
    "gap = compute_phase_diagram(Us, Vs, int_builder, h_0)"
   ]
  },
  {
   "cell_type": "code",
   "execution_count": 11,
   "id": "0d2ad9d8",
   "metadata": {},
   "outputs": [
    {
     "data": {
      "text/plain": [
       "<matplotlib.collections.QuadMesh at 0x14de67c10>"
      ]
     },
     "execution_count": 11,
     "metadata": {},
     "output_type": "execute_result"
    },
    {
     "data": {
      "image/png": "[encoded data removed]",
      "text/plain": [
       "<Figure size 640x480 with 2 Axes>"
      ]
     },
     "metadata": {},
     "output_type": "display_data"
    }
   ],
   "source": [
    "gap_da = xr.DataArray(data=gap, coords=dict(Us=Us, Vs=Vs))\n",
    "gap_da.plot(x=\"Us\", y=\"Vs\", vmin=0, vmax=1)"
   ]
  },
  {
   "cell_type": "code",
   "execution_count": 12,
   "id": "a661ac28",
   "metadata": {},
   "outputs": [
    {
     "data": {
      "text/plain": [
       "<matplotlib.collections.QuadMesh at 0x14deef590>"
      ]
     },
     "execution_count": 12,
     "metadata": {},
     "output_type": "execute_result"
    },
    {
     "data": {
      "image/png": "[encoded data removed]",
      "text/plain": [
       "<Figure size 640x480 with 2 Axes>"
      ]
     },
     "metadata": {},
     "output_type": "display_data"
    }
   ],
   "source": [
    "np.log10(gap_da).plot(x=\"Us\", y=\"Vs\", vmin=-3, vmax=1) "
   ]
  },
  {
   "cell_type": "code",
   "execution_count": 37,
   "id": "18191ba0",
   "metadata": {},
   "outputs": [
    {
     "data": {
      "text/plain": [
       "0.02672641009348376"
      ]
     },
     "execution_count": 37,
     "metadata": {},
     "output_type": "execute_result"
    },
    {
     "data": {
      "image/png": "[encoded data removed]",
      "text/plain": [
       "<Figure size 640x480 with 1 Axes>"
      ]
     },
     "metadata": {},
     "output_type": "display_data"
    }
   ],
   "source": [
    "#Single shot calculation\n",
    "params = dict(U=0, V=1)\n",
    "filling = 2 \n",
    "\n",
    "h_int = utils.builder_to_tb(int_builder, params)\n",
    "model = Model(h_0, h_int, filling)\n",
    "mf_guess = utils.generate_guess(frozenset(h_int), len(list(h_0.values())[0]))\n",
    "mf_sol = solver(model, mf_guess, nK=30)\n",
    "\n",
    "ks = np.linspace(-np.pi, np.pi, 200)\n",
    "hkfunc = tb2kfunc(addTb(h_0, mf_sol))\n",
    "hkarray = np.array([hkfunc((kx, -kx)) for kx in ks])\n",
    "vals = np.linalg.eigvalsh(hkarray)\n",
    "plt.plot(vals)\n",
    "utils.calc_gap(vals, E_F=0)"
   ]
  },
  {
   "cell_type": "code",
   "execution_count": 2,
   "id": "e183c3cb",
   "metadata": {},
   "outputs": [],
   "source": [
    "\n",
    "import numpy as np\n",
    "from codes.model import Model\n",
    "from codes import kwant_examples\n",
    "from codes.kwant_helper import utils\n",
    "import timeit\n",
    "import memray\n",
    "\n",
    "\n"
   ]
  },
  {
   "cell_type": "code",
   "execution_count": 3,
   "id": "078dd782",
   "metadata": {},
   "outputs": [
    {
     "name": "stdout",
     "output_type": "stream",
     "text": [
      "Intel MKL WARNING: Support of Intel(R) Streaming SIMD Extensions 4.2 (Intel(R) SSE4.2) enabled only processors has been deprecated. Intel oneAPI Math Kernel Library 2025.0 will require Intel(R) Advanced Vector Extensions (Intel(R) AVX) instructions.\n",
      "Intel MKL WARNING: Support of Intel(R) Streaming SIMD Extensions 4.2 (Intel(R) SSE4.2) enabled only processors has been deprecated. Intel oneAPI Math Kernel Library 2025.0 will require Intel(R) Advanced Vector Extensions (Intel(R) AVX) instructions.\n",
      "Intel MKL WARNING: Support of Intel(R) Streaming SIMD Extensions 4.2 (Intel(R) SSE4.2) enabled only processors has been deprecated. Intel oneAPI Math Kernel Library 2025.0 will require Intel(R) Advanced Vector Extensions (Intel(R) AVX) instructions.\n",
      "Intel MKL WARNING: Support of Intel(R) Streaming SIMD Extensions 4.2 (Intel(R) SSE4.2) enabled only processors has been deprecated. Intel oneAPI Math Kernel Library 2025.0 will require Intel(R) Advanced Vector Extensions (Intel(R) AVX) instructions.\n",
      "Intel MKL WARNING: Support of Intel(R) Streaming SIMD Extensions 4.2 (Intel(R) SSE4.2) enabled only processors has been deprecated. Intel oneAPI Math Kernel Library 2025.0 will require Intel(R) Advanced Vector Extensions (Intel(R) AVX) instructions.\n",
      "Intel MKL WARNING: Support of Intel(R) Streaming SIMD Extensions 4.2 (Intel(R) SSE4.2) enabled only processors has been deprecated. Intel oneAPI Math Kernel Library 2025.0 will require Intel(R) Advanced Vector Extensions (Intel(R) AVX) instructions.\n",
      "Intel MKL WARNING: Support of Intel(R) Streaming SIMD Extensions 4.2 (Intel(R) SSE4.2) enabled only processors has been deprecated. Intel oneAPI Math Kernel Library 2025.0 will require Intel(R) Advanced Vector Extensions (Intel(R) AVX) instructions.\n",
      "Intel MKL WARNING: Support of Intel(R) Streaming SIMD Extensions 4.2 (Intel(R) SSE4.2) enabled only processors has been deprecated. Intel oneAPI Math Kernel Library 2025.0 will require Intel(R) Advanced Vector Extensions (Intel(R) AVX) instructions.\n",
      "Intel MKL WARNING: Support of Intel(R) Streaming SIMD Extensions 4.2 (Intel(R) SSE4.2) enabled only processors has been deprecated. Intel oneAPI Math Kernel Library 2025.0 will require Intel(R) Advanced Vector Extensions (Intel(R) AVX) instructions.\n",
      "Intel MKL WARNING: Support of Intel(R) Streaming SIMD Extensions 4.2 (Intel(R) SSE4.2) enabled only processors has been deprecated. Intel oneAPI Math Kernel Library 2025.0 will require Intel(R) Advanced Vector Extensions (Intel(R) AVX) instructions.\n",
      "Intel MKL WARNING: Support of Intel(R) Streaming SIMD Extensions 4.2 (Intel(R) SSE4.2) enabled only processors has been deprecated. Intel oneAPI Math Kernel Library 2025.0 will require Intel(R) Advanced Vector Extensions (Intel(R) AVX) instructions.\n",
      "Intel MKL WARNING: Support of Intel(R) Streaming SIMD Extensions 4.2 (Intel(R) SSE4.2) enabled only processors has been deprecated. Intel oneAPI Math Kernel Library 2025.0 will require Intel(R) Advanced Vector Extensions (Intel(R) AVX) instructions.\n",
      "Intel MKL WARNING: Support of Intel(R) Streaming SIMD Extensions 4.2 (Intel(R) SSE4.2) enabled only processors has been deprecated. Intel oneAPI Math Kernel Library 2025.0 will require Intel(R) Advanced Vector Extensions (Intel(R) AVX) instructions.\n",
      "Intel MKL WARNING: Support of Intel(R) Streaming SIMD Extensions 4.2 (Intel(R) SSE4.2) enabled only processors has been deprecated. Intel oneAPI Math Kernel Library 2025.0 will require Intel(R) Advanced Vector Extensions (Intel(R) AVX) instructions.\n",
      "Intel MKL WARNING: Support of Intel(R) Streaming SIMD Extensions 4.2 (Intel(R) SSE4.2) enabled only processors has been deprecated. Intel oneAPI Math Kernel Library 2025.0 will require Intel(R) Advanced Vector Extensions (Intel(R) AVX) instructions.\n",
      "Intel MKL WARNING: Support of Intel(R) Streaming SIMD Extensions 4.2 (Intel(R) SSE4.2) enabled only processors has been deprecated. Intel oneAPI Math Kernel Library 2025.0 will require Intel(R) Advanced Vector Extensions (Intel(R) AVX) instructions.\n",
      "Intel MKL WARNING: Support of Intel(R) Streaming SIMD Extensions 4.2 (Intel(R) SSE4.2) enabled only processors has been deprecated. Intel oneAPI Math Kernel Library 2025.0 will require Intel(R) Advanced Vector Extensions (Intel(R) AVX) instructions.\n",
      "Intel MKL WARNING: Support of Intel(R) Streaming SIMD Extensions 4.2 (Intel(R) SSE4.2) enabled only processors has been deprecated. Intel oneAPI Math Kernel Library 2025.0 will require Intel(R) Advanced Vector Extensions (Intel(R) AVX) instructions.\n",
      "Intel MKL WARNING: Support of Intel(R) Streaming SIMD Extensions 4.2 (Intel(R) SSE4.2) enabled only processors has been deprecated. Intel oneAPI Math Kernel Library 2025.0 will require Intel(R) Advanced Vector Extensions (Intel(R) AVX) instructions.\n"
     ]
    }
   ],
   "source": [
    "graphene_builder, int_builder = kwant_examples.graphene_extended_hubbard()\n",
    "\n",
    "params = {\"U\": 0.5, \"V\": 1.1}\n",
    "filling = 2\n",
    "nK = 300\n",
    "\n",
    "h_int = utils.builder_to_tb(int_builder, params)\n",
    "h_0 = utils.builder_to_tb(graphene_builder)\n",
    "guess = utils.generate_guess(frozenset(h_int), len(list(h_0.values())[0]))\n",
    "\n",
    "model = Model(h_0, h_int, filling)\n",
    "\n",
    "\n",
    "def scf_loop():\n",
    "    model.mfield(guess, nK=nK)\n",
    "\n",
    "\n",
    "# %% Memory profile\n",
    "with memray.Tracker(\"memoryProfile.bin\"):\n",
    "    scf_loop()\n",
    "\n",
    "\n"
   ]
  },
  {
   "cell_type": "code",
   "execution_count": 4,
   "id": "3455735e",
   "metadata": {},
   "outputs": [],
   "source": [
    "# %% Time profiler\n",
    "profiler = Profiler()\n",
    "\n",
    "profiler.start()\n",
    "scf_loop()\n",
    "profiler.stop()\n",
    "profiler.write_html(path=\"timeProfile.html\")\n",
    "\n"
   ]
  },
  {
   "cell_type": "code",
   "execution_count": 5,
   "id": "75fe9023",
   "metadata": {},
   "outputs": [
    {
     "name": "stdout",
     "output_type": "stream",
     "text": [
      "Single SCF loop takes 7.120591291008168 whereas a single diagonalization of a corresponding system takes 0.024635875000967644\n"
     ]
    }
   ],
   "source": [
    "# %%\n",
    "number = 1\n",
    "\n",
    "timeSCF = timeit.timeit(scf_loop, number=number) / number\n",
    "\n",
    "H = np.random.rand(nK, nK)\n",
    "H += H.T.conj()\n",
    "timeDiag = timeit.timeit(lambda: np.linalg.eigh(H), number=number) / number\n",
    "\n",
    "print(\n",
    "    f\"Single SCF loop takes {timeSCF} whereas a single diagonalization of a corresponding system takes {timeDiag}\"\n",
    ")"
   ]
  },
  {
   "cell_type": "code",
   "execution_count": null,
   "id": "f650872f",
   "metadata": {},
   "outputs": [],
   "source": []
  }
 ],
 "metadata": {
  "kernelspec": {
   "display_name": "Python 3 (ipykernel)",
   "language": "python",
   "name": "python3"
  },
  "language_info": {
   "codemirror_mode": {
    "name": "ipython",
    "version": 3
   },
   "file_extension": ".py",
   "mimetype": "text/x-python",
   "name": "python",
   "nbconvert_exporter": "python",
   "pygments_lexer": "ipython3",
   "version": "3.9.13"
  },
  "widgets": {
   "application/vnd.jupyter.widget-state+json": {
    "state": {},
    "version_major": 2,
    "version_minor": 0
   }
  }
 },
 "nbformat": 4,
 "nbformat_minor": 5
}
