{
 "cells": [
  {
   "cell_type": "code",
   "execution_count": 1,
   "id": "cb509096-42c6-4a45-8dc4-a8eed3116e67",
   "metadata": {
    "tags": []
   },
   "outputs": [],
   "source": [
    "import kwant\n",
    "import numpy as np\n",
    "import matplotlib.pyplot as plt\n",
    "from codes import utils, hf\n",
    "from scipy.optimize import anderson\n",
    "from tqdm import tqdm\n",
    "\n",
    "s0 = np.identity(2)\n",
    "sz = np.diag([1, -1])\n",
    "\n",
    "norbs=2\n",
    "\n",
    "graphene = kwant.lattice.general(\n",
    "    [[1, 0], [1 / 2, np.sqrt(3) / 2]], [[0, 0], [0, 1 / np.sqrt(3)]],\n",
    "    norbs=norbs\n",
    ")\n",
    "a, b = graphene.sublattices\n",
    "\n",
    "# create bulk system\n",
    "bulk_graphene = kwant.Builder(kwant.TranslationalSymmetry(*graphene.prim_vecs))\n",
    "# add sublattice potential\n",
    "m0 = 0\n",
    "bulk_graphene[a.shape((lambda pos: True), (0, 0))] = m0 * sz\n",
    "bulk_graphene[b.shape((lambda pos: True), (0, 0))] = -m0 * sz\n",
    "# add hoppings between sublattices\n",
    "bulk_graphene[graphene.neighbors(1)] = s0\n",
    "\n",
    "# use kwant wraparound to sample bulk k-space\n",
    "wrapped_syst = kwant.wraparound.wraparound(bulk_graphene)\n",
    "wrapped_fsyst = kwant.wraparound.wraparound(bulk_graphene).finalized()"
   ]
  },
  {
   "cell_type": "code",
   "execution_count": 2,
   "id": "9cc3b32d-404f-4bc5-a338-83571c9e4c4b",
   "metadata": {
    "tags": []
   },
   "outputs": [],
   "source": [
    "def func_onsite(site, U):\n",
    "    return U * np.ones((2, 2))\n",
    "\n",
    "def func_hop(site1, site2, V):\n",
    "    rij = np.linalg.norm(site1.pos - site2.pos)\n",
    "    return V * np.ones((2, 2))\n",
    "\n",
    "def calculate_Hint(U, V, Uk, Vk):\n",
    "    return U * Uk + V * Vk"
   ]
  },
  {
   "cell_type": "code",
   "execution_count": 3,
   "id": "a341e0e5-330e-48d1-a20f-a0040688a9d7",
   "metadata": {},
   "outputs": [],
   "source": [
    "nk = 10\n",
    "# Generate coarse-grid k-points\n",
    "ks, dk = np.linspace(0, 2 * np.pi, nk, endpoint=False, retstep=True)\n",
    "# Generate Hamiltonian on a k-point grid\n",
    "hamiltonians_0 = utils.syst2hamiltonian(ks=ks, syst=wrapped_fsyst)"
   ]
  },
  {
   "cell_type": "code",
   "execution_count": 4,
   "id": "d1ef154e-70bd-4f28-887f-72362d8533dd",
   "metadata": {
    "tags": []
   },
   "outputs": [],
   "source": [
    "Us = np.linspace(0, 4, 50)\n",
    "Vs = np.linspace(0, 1.5, 20)"
   ]
  },
  {
   "cell_type": "code",
   "execution_count": 5,
   "id": "32b9e7c5-db12-44f9-930c-21e5494404b8",
   "metadata": {
    "tags": []
   },
   "outputs": [],
   "source": [
    "_, deltas = utils.generate_scf_syst(\n",
    "    max_neighbor=1, syst=wrapped_syst, lattice=graphene\n",
    ")\n",
    "deltas = np.asarray(deltas) #deltas are the hopping vecs\n",
    "deltas = np.unique(np.stack([*deltas, *-deltas]), axis=(0))\n",
    "\n",
    "def compute_gap(\n",
    "    U,\n",
    "    V,\n",
    "    H_int,\n",
    "    max_neighbor=1,\n",
    "    lattice=graphene,\n",
    "    filling=2,\n",
    "    nk=12,\n",
    "    tol=1e-5,\n",
    "    norbs=norbs,\n",
    "    nk_dense=30,\n",
    "    mixing=0.5,\n",
    "    order=1,\n",
    "    guess=None\n",
    "):\n",
    "    # Generate coarse-grid k-points\n",
    "    ks, dk = np.linspace(0, 2 * np.pi, nk, endpoint=False, retstep=True)\n",
    "    # Generate Hamiltonian on a k-point grid\n",
    "    hamiltonians_0 = utils.syst2hamiltonian(ks=ks, syst=wrapped_fsyst)\n",
    "    # Generate guess on the same grid\n",
    "    if guess is None:\n",
    "        guess = utils.generate_guess(ks, deltas, ndof=hamiltonians_0.shape[-1], scale=1)\n",
    "    else:\n",
    "        guess += np.max(guess) * utils.generate_guess(ks, deltas, ndof=hamiltonians_0.shape[-1], scale=0.1)\n",
    "    \n",
    "    # Find groundstate Hamiltonian on the same grid\n",
    "    hk = hf.find_groundstate_ham(\n",
    "        H_int=H_int,\n",
    "        filling=filling,\n",
    "        hamiltonians_0=hamiltonians_0,\n",
    "        tol=tol,\n",
    "        guess=guess,\n",
    "        mixing=mixing,\n",
    "        order=order,\n",
    "    )\n",
    "    # Diagonalize groundstate Hamiltonian\n",
    "    vals, vecs = np.linalg.eigh(hk)\n",
    "    # Extract coarse-grid Fermi energy\n",
    "    E_F = utils.get_fermi_energy(vals, 2)\n",
    "    # Generate dense-grid k-points\n",
    "    ks_dense = np.linspace(0, 2 * np.pi, nk_dense, endpoint=False)\n",
    "    # Compute groundstate Hamiltonian on a dense grid\n",
    "    scf_ham = utils.hk_densegrid(hk, ks, ks_dense, deltas)\n",
    "    # Diagonalize groundstate Hamiltonian\n",
    "    vals, vecs = np.linalg.eigh(scf_ham)\n",
    "    # Extract dense-grid Fermi energy\n",
    "    E_F = utils.get_fermi_energy(vals, 2)\n",
    "\n",
    "    gap = utils.calc_gap(vals, E_F)\n",
    "    return gap, hk\n",
    "\n",
    "\n",
    "def compute_phase_diagram(Us, Vs, nk, tol, mixing, order):\n",
    "    import qsymm\n",
    "    import adaptive\n",
    "    from codes import utils, hf\n",
    "\n",
    "    ks = np.linspace(0, 2 * np.pi, nk, endpoint=False)\n",
    "\n",
    "    Uk = utils.potential2hamiltonian(\n",
    "        syst=wrapped_syst,\n",
    "        lattice=graphene,\n",
    "        func_onsite=func_onsite,\n",
    "        func_hop=func_hop,\n",
    "        params=dict(U=1, V=0),\n",
    "        ks=ks,\n",
    "    )\n",
    "\n",
    "    Vk = utils.potential2hamiltonian(\n",
    "        syst=wrapped_syst,\n",
    "        lattice=graphene,\n",
    "        func_onsite=func_onsite,\n",
    "        func_hop=func_hop,\n",
    "        params=dict(U=0, V=1),\n",
    "        ks=ks,\n",
    "    )\n",
    "    gap = []\n",
    "    for U in tqdm(Us):\n",
    "        guess = None\n",
    "        gap_U = []\n",
    "        for V in Vs:\n",
    "            H_int = calculate_Hint(U, V, Uk, Vk)\n",
    "            _gap, guess = compute_gap(\n",
    "                U=U, V=V, H_int=H_int, nk=nk, tol=tol, mixing=mixing, order=order, guess=guess\n",
    "            )\n",
    "            gap_U.append(_gap)\n",
    "        gap.append(gap_U)\n",
    "    return np.asarray(gap, dtype=float)"
   ]
  },
  {
   "cell_type": "code",
   "execution_count": 14,
   "id": "6a8c08a9-7e31-420b-b6b4-709abfb26793",
   "metadata": {
    "tags": []
   },
   "outputs": [
    {
     "name": "stderr",
     "output_type": "stream",
     "text": [
      "  8%|▊         | 4/50 [03:05<34:05, 44.48s/it]/opt/conda/lib/python3.11/site-packages/scipy/optimize/_nonlin.py:1074: LinAlgWarning: Ill-conditioned matrix (rcond=1.67985e-18): result may not be accurate.\n",
      "  gamma = solve(self.a, df_f)\n",
      "/opt/conda/lib/python3.11/site-packages/scipy/optimize/_nonlin.py:1074: LinAlgWarning: Ill-conditioned matrix (rcond=1.35418e-18): result may not be accurate.\n",
      "  gamma = solve(self.a, df_f)\n",
      "/opt/conda/lib/python3.11/site-packages/scipy/optimize/_nonlin.py:1074: LinAlgWarning: Ill-conditioned matrix (rcond=1.65467e-17): result may not be accurate.\n",
      "  gamma = solve(self.a, df_f)\n",
      "/opt/conda/lib/python3.11/site-packages/scipy/optimize/_nonlin.py:1074: LinAlgWarning: Ill-conditioned matrix (rcond=1.41405e-17): result may not be accurate.\n",
      "  gamma = solve(self.a, df_f)\n",
      " 10%|█         | 5/50 [03:39<30:38, 40.86s/it]/opt/conda/lib/python3.11/site-packages/scipy/optimize/_nonlin.py:1074: LinAlgWarning: Ill-conditioned matrix (rcond=1.08904e-17): result may not be accurate.\n",
      "  gamma = solve(self.a, df_f)\n",
      " 46%|████▌     | 23/50 [18:08<21:08, 46.97s/it]/opt/conda/lib/python3.11/site-packages/scipy/optimize/_nonlin.py:1074: LinAlgWarning: Ill-conditioned matrix (rcond=8.96238e-17): result may not be accurate.\n",
      "  gamma = solve(self.a, df_f)\n",
      " 58%|█████▊    | 29/50 [34:18<1:09:00, 197.17s/it]/opt/conda/lib/python3.11/site-packages/scipy/optimize/_nonlin.py:1074: LinAlgWarning: Ill-conditioned matrix (rcond=5.74155e-17): result may not be accurate.\n",
      "  gamma = solve(self.a, df_f)\n",
      "/opt/conda/lib/python3.11/site-packages/scipy/optimize/_nonlin.py:1074: LinAlgWarning: Ill-conditioned matrix (rcond=4.45034e-17): result may not be accurate.\n",
      "  gamma = solve(self.a, df_f)\n",
      "/opt/conda/lib/python3.11/site-packages/scipy/optimize/_nonlin.py:1074: LinAlgWarning: Ill-conditioned matrix (rcond=1.19451e-18): result may not be accurate.\n",
      "  gamma = solve(self.a, df_f)\n",
      "/opt/conda/lib/python3.11/site-packages/scipy/optimize/_nonlin.py:1074: LinAlgWarning: Ill-conditioned matrix (rcond=2.7833e-17): result may not be accurate.\n",
      "  gamma = solve(self.a, df_f)\n",
      "/opt/conda/lib/python3.11/site-packages/scipy/optimize/_nonlin.py:1074: LinAlgWarning: Ill-conditioned matrix (rcond=1.16944e-17): result may not be accurate.\n",
      "  gamma = solve(self.a, df_f)\n",
      "100%|██████████| 50/50 [1:22:22<00:00, 98.86s/it] \n"
     ]
    }
   ],
   "source": [
    "gap = compute_phase_diagram(Us, Vs, nk=15, tol=1e-5, mixing=0.01, order=10)"
   ]
  },
  {
   "cell_type": "code",
   "execution_count": 15,
   "id": "39edbf19",
   "metadata": {},
   "outputs": [
    {
     "data": {
      "text/plain": [
       "<matplotlib.colorbar.Colorbar at 0x7fee6ee82690>"
      ]
     },
     "execution_count": 15,
     "metadata": {},
     "output_type": "execute_result"
    },
    {
     "data": {
      "image/png": "[encoded data removed]",
      "text/plain": [
       "<Figure size 640x480 with 2 Axes>"
      ]
     },
     "metadata": {},
     "output_type": "display_data"
    }
   ],
   "source": [
    "plt.imshow(np.log10(gap).T, origin='lower', extent=(Us.min(), Us.max(), Vs.min(), Vs.max()), vmin=-1)\n",
    "plt.colorbar()"
   ]
  },
  {
   "cell_type": "code",
   "execution_count": 16,
   "id": "27f9d0d8",
   "metadata": {},
   "outputs": [
    {
     "data": {
      "text/plain": [
       "<matplotlib.colorbar.Colorbar at 0x7fee6ed3e910>"
      ]
     },
     "execution_count": 16,
     "metadata": {},
     "output_type": "execute_result"
    },
    {
     "data": {
      "image/png": "[encoded data removed]",
      "text/plain": [
       "<Figure size 640x480 with 2 Axes>"
      ]
     },
     "metadata": {},
     "output_type": "display_data"
    }
   ],
   "source": [
    "plt.imshow((gap).T, origin='lower', extent=(Us.min(), Us.max(), Vs.min(), Vs.max()), vmin=0)\n",
    "plt.colorbar()"
   ]
  },
  {
   "cell_type": "code",
   "execution_count": 17,
   "id": "e17fc96c-c463-4e1f-8250-c254d761b92a",
   "metadata": {},
   "outputs": [],
   "source": [
    "import xarray as xr\n",
    "gap_da = xr.DataArray(data=gap, coords=dict(Us=Us, Vs=Vs))"
   ]
  },
  {
   "cell_type": "code",
   "execution_count": 18,
   "id": "0cb395cd-84d1-49b4-89dd-da7a2d09c8d0",
   "metadata": {},
   "outputs": [],
   "source": [
    "gap_da.to_netcdf('./data/graphene_example.nc')"
   ]
  }
 ],
 "metadata": {
  "kernelspec": {
   "display_name": "Python 3 (ipykernel)",
   "language": "python",
   "name": "python3"
  },
  "language_info": {
   "codemirror_mode": {
    "name": "ipython",
    "version": 3
   },
   "file_extension": ".py",
   "mimetype": "text/x-python",
   "name": "python",
   "nbconvert_exporter": "python",
   "pygments_lexer": "ipython3",
   "version": "3.11.5"
  },
  "widgets": {
   "application/vnd.jupyter.widget-state+json": {
    "state": {},
    "version_major": 2,
    "version_minor": 0
   }
  }
 },
 "nbformat": 4,
 "nbformat_minor": 5
}
