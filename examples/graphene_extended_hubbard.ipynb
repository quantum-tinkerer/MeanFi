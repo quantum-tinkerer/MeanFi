{
 "cells": [
  {
   "cell_type": "code",
   "execution_count": 1,
   "id": "cb509096-42c6-4a45-8dc4-a8eed3116e67",
   "metadata": {
    "tags": []
   },
   "outputs": [],
   "source": [
    "import kwant\n",
    "import numpy as np\n",
    "import matplotlib.pyplot as plt\n",
    "from codes import utils, hf, kwant_examples, model, interface, solvers\n",
    "from tqdm import tqdm"
   ]
  },
  {
   "cell_type": "markdown",
   "id": "75721173-f9af-4b9b-a694-7a0bdf65c307",
   "metadata": {},
   "source": [
    "Now we show the interface with `kwant`. We start by using `kwant` to build two tight-binding systems with translational symmetry:\n",
    "* graphene;\n",
    "* a dummy `kwant.Builder` that encodes the interaction matrix.\n",
    "See [`kwant_examples`](./codes/kwant_examples.py) to verify how these two steps are done."
   ]
  },
  {
   "cell_type": "code",
   "execution_count": 2,
   "id": "9ebc3cce-0338-4616-8021-9fecee76f178",
   "metadata": {},
   "outputs": [],
   "source": [
    "# Create translationally-invariant `kwant.Builder`\n",
    "graphene_builder, int_builder = kwant_examples.graphene_extended_hubbard()"
   ]
  },
  {
   "cell_type": "markdown",
   "id": "8f004476-fc3b-4c50-808c-4a636ce17c03",
   "metadata": {},
   "source": [
    "We then use `utils.builder2tb_model` to parse the `kwant.Builder` to a `tb_model` that we will use in the self-consistent calculations."
   ]
  },
  {
   "cell_type": "code",
   "execution_count": 3,
   "id": "c2dd6c3c-d9bb-4833-b1a0-d28c5d5a935c",
   "metadata": {},
   "outputs": [],
   "source": [
    "tb_model = utils.builder2tb_model(graphene_builder)"
   ]
  },
  {
   "cell_type": "markdown",
   "id": "075df6f6-9311-4122-8b1e-2d709058e574",
   "metadata": {},
   "source": [
    "Note that the self-consistent loop is performed on a coarse k-point grid, and thus not necessarily appropriate to compute observables. We thus use `utils.kgrid_hamiltonian` to evaluate the Hamiltonian on a denser k-point grid and compute the gap."
   ]
  },
  {
   "cell_type": "code",
   "execution_count": 4,
   "metadata": {},
   "outputs": [],
   "source": [
    "params = dict(U=1, V=1)\n",
    "int_model = utils.builder2tb_model(int_builder, params)\n",
    "mf_model = model.Model(tb_model, int_model=int_model)"
   ]
  },
  {
   "cell_type": "code",
   "execution_count": 11,
   "id": "41bd9f60-8f29-4e7c-a0c4-a0bbf66445b2",
   "metadata": {},
   "outputs": [],
   "source": [
    "from scipy import optimize\n",
    "\n",
    "def compute_gap(\n",
    "    model,\n",
    "    nk,\n",
    "    nk_dense,\n",
    "    filling=2,\n",
    "    guess=None,\n",
    "):\n",
    "\n",
    "    model.guess = guess\n",
    "\n",
    "    # Find groundstate Hamiltonian on the same grid\n",
    "    mf_model, guess = interface.find_groundstate_ham(\n",
    "        model,\n",
    "        filling=filling,\n",
    "        nk=nk,\n",
    "        return_mf=True,\n",
    "        optimizer_kwargs={}\n",
    "    )\n",
    "\n",
    "    mf_k = utils.kgrid_hamiltonian(  # only used for diagonalization to get gap\n",
    "        nk=nk_dense,\n",
    "        hk=utils.model2hk(tb_model=mf_model),\n",
    "        dim=2\n",
    "    )\n",
    "    # Diagonalize groundstate Hamiltonian\n",
    "    vals, _ = np.linalg.eigh(mf_k)\n",
    "    # Extract dense-grid Fermi energy\n",
    "    E_F = utils.get_fermi_energy(vals, filling)\n",
    "    gap = utils.calc_gap(vals, E_F)\n",
    "\n",
    "    # the guess was kind of unclear\n",
    "    return gap, guess"
   ]
  },
  {
   "cell_type": "markdown",
   "id": "718bc267-0899-4d45-8592-deabd6849a75",
   "metadata": {},
   "source": [
    "Finally, we also parse `int_builder` with the wanted interaction strength. Note that we pass a `params` dictionary to evaluate the Hamiltonian with `kwant`."
   ]
  },
  {
   "cell_type": "code",
   "execution_count": 12,
   "id": "32b9e7c5-db12-44f9-930c-21e5494404b8",
   "metadata": {
    "tags": []
   },
   "outputs": [],
   "source": [
    "def compute_phase_diagram(Us, Vs, nk, nk_dense):\n",
    "    gap = []\n",
    "    for U in tqdm(Us):\n",
    "        guess = None\n",
    "        gap_U = []\n",
    "        for V in Vs:\n",
    "            params = dict(U=U, V=V)\n",
    "            int_model = utils.builder2tb_model(int_builder, params)\n",
    "            mf_model = model.Model(tb_model, int_model=int_model)\n",
    "            _gap, guess = compute_gap(\n",
    "                model=mf_model,\n",
    "                nk=nk,\n",
    "                nk_dense=nk_dense,\n",
    "                guess=guess,\n",
    "            )\n",
    "            gap_U.append(_gap)\n",
    "        gap.append(gap_U)\n",
    "    return np.asarray(gap, dtype=float)"
   ]
  },
  {
   "cell_type": "markdown",
   "id": "f1eba14e-e006-4162-885f-3302a92a21eb",
   "metadata": {},
   "source": [
    "**Warning:** this phase diagram calculation takes about one hour."
   ]
  },
  {
   "cell_type": "code",
   "execution_count": 13,
   "id": "6a8c08a9-7e31-420b-b6b4-709abfb26793",
   "metadata": {
    "tags": []
   },
   "outputs": [
    {
     "name": "stderr",
     "output_type": "stream",
     "text": [
      "100%|██████████| 10/10 [00:15<00:00,  1.59s/it]\n"
     ]
    }
   ],
   "source": [
    "# Generate dense-grid k-points\n",
    "# Interaction strengths\n",
    "nk = 9\n",
    "nk_dense = 30\n",
    "Us = np.linspace(0, 3, 10, endpoint=True)\n",
    "Vs = np.linspace(0, 1.5, 10, endpoint=True)\n",
    "gap = compute_phase_diagram(Us, Vs, nk=nk, nk_dense=nk_dense)"
   ]
  },
  {
   "cell_type": "code",
   "execution_count": 14,
   "id": "e17fc96c-c463-4e1f-8250-c254d761b92a",
   "metadata": {},
   "outputs": [],
   "source": [
    "import xarray as xr\n",
    "\n",
    "gap_da = xr.DataArray(data=gap, coords=dict(Us=Us, Vs=Vs))"
   ]
  },
  {
   "cell_type": "markdown",
   "id": "288f3d8e-8432-4697-be78-5156026f9fac",
   "metadata": {},
   "source": [
    "We note that the gap openings coincide with the phase transitions from gapless to charge density wave or antiferromagnetic groundstates as predicted in [arXiv:1204.4531](https://arxiv.org/abs/1204.4531). "
   ]
  },
  {
   "cell_type": "code",
   "execution_count": 15,
   "metadata": {},
   "outputs": [
    {
     "data": {
      "text/plain": [
       "<matplotlib.collections.QuadMesh at 0x130c85390>"
      ]
     },
     "execution_count": 15,
     "metadata": {},
     "output_type": "execute_result"
    },
    {
     "data": {
      "image/png": "[encoded data removed]",
      "text/plain": [
       "<Figure size 640x480 with 2 Axes>"
      ]
     },
     "metadata": {},
     "output_type": "display_data"
    }
   ],
   "source": [
    "np.log10(gap_da).plot(x=\"Us\", y=\"Vs\", vmin=-3, vmax=1)"
   ]
  },
  {
   "cell_type": "code",
   "execution_count": null,
   "id": "4f71f6f2",
   "metadata": {},
   "outputs": [
    {
     "data": {
      "text/plain": [
       "<matplotlib.collections.QuadMesh at 0x13158f150>"
      ]
     },
     "metadata": {},
     "output_type": "display_data"
    },
    {
     "data": {
      "image/png": "[encoded data removed]",
      "text/plain": [
       "<Figure size 640x480 with 2 Axes>"
      ]
     },
     "metadata": {},
     "output_type": "display_data"
    }
   ],
   "source": [
    "np.log10(gap_da).plot(x=\"Us\", y=\"Vs\", vmin=-3, vmax=1)"
   ]
  },
  {
   "cell_type": "code",
   "execution_count": null,
   "id": "0cb395cd-84d1-49b4-89dd-da7a2d09c8d0",
   "metadata": {},
   "outputs": [],
   "source": [
    "gap_da.to_netcdf(\"./data/graphene_example.nc\")"
   ]
  }
 ],
 "metadata": {
  "kernelspec": {
   "display_name": "Python 3 (ipykernel)",
   "language": "python",
   "name": "python3"
  },
  "language_info": {
   "codemirror_mode": {
    "name": "ipython",
    "version": 3
   },
   "file_extension": ".py",
   "mimetype": "text/x-python",
   "name": "python",
   "nbconvert_exporter": "python",
   "pygments_lexer": "ipython3",
   "version": "3.11.6"
  },
  "widgets": {
   "application/vnd.jupyter.widget-state+json": {
    "state": {},
    "version_major": 2,
    "version_minor": 0
   }
  }
 },
 "nbformat": 4,
 "nbformat_minor": 5
}
