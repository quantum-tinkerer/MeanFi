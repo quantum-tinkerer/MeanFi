{
 "cells": [
  {
   "cell_type": "code",
   "execution_count": 1,
   "id": "cb509096-42c6-4a45-8dc4-a8eed3116e67",
   "metadata": {
    "tags": []
   },
   "outputs": [],
   "source": [
    "import kwant\n",
    "import numpy as np\n",
    "import matplotlib.pyplot as plt\n",
    "from codes import utils, hf, kwant_examples\n",
    "from tqdm import tqdm"
   ]
  },
  {
   "cell_type": "markdown",
   "id": "75721173-f9af-4b9b-a694-7a0bdf65c307",
   "metadata": {},
   "source": [
    "Now we show the interface with `kwant`. We start by using `kwant` to build two tight-binding systems with translational symmetry:\n",
    "* graphene;\n",
    "* a dummy system that encodes the interaction matrix.\n",
    "See [`kwant_examples`](./codes/kwant_examples.py) to check how these two steps are done."
   ]
  },
  {
   "cell_type": "code",
   "execution_count": 2,
   "id": "9ebc3cce-0338-4616-8021-9fecee76f178",
   "metadata": {},
   "outputs": [],
   "source": [
    "# Create translationally-invariant `kwant.Builder`\n",
    "bulk_graphene, syst_V = kwant_examples.graphene_extended_hubbard()"
   ]
  },
  {
   "cell_type": "markdown",
   "id": "8f004476-fc3b-4c50-808c-4a636ce17c03",
   "metadata": {},
   "source": [
    "We then use `utils.extract_hopping_vectors` to extract the hopping vectors of the `kwant.Builder` that encodes the interaction matrix."
   ]
  },
  {
   "cell_type": "code",
   "execution_count": 3,
   "id": "c2dd6c3c-d9bb-4833-b1a0-d28c5d5a935c",
   "metadata": {},
   "outputs": [],
   "source": [
    "tb_model = utils.builder2tb_model(bulk_graphene)"
   ]
  },
  {
   "cell_type": "markdown",
   "id": "4a671249-a256-4e3f-b570-3ec10e5d9a40",
   "metadata": {},
   "source": [
    "Finally, we use [`kwant.wraparound.wraparound`](https://kwant-project.org/doc/dev/reference/generated/kwant.wraparound.wraparound#kwant.wraparound.wraparound) to wrap the system."
   ]
  },
  {
   "cell_type": "markdown",
   "id": "88183ab4-2f73-4389-a14f-168fe3806902",
   "metadata": {},
   "source": [
    "With the finalized systems, we first generate an nd-array for the Hamiltonian evaluated on a $n \\times n$, $n=15$, k-point grid."
   ]
  },
  {
   "cell_type": "code",
   "execution_count": 4,
   "id": "d31cbfea-18ea-454e-8a63-d706a85cd3fc",
   "metadata": {},
   "outputs": [],
   "source": [
    "# Compute non-interacting Hamiltonian on a coarse k-point grid\n",
    "# Number of k-points along each direction\n",
    "nk = 50\n",
    "hamiltonians_0 = utils.kgrid_hamiltonian(nk, tb_model)"
   ]
  },
  {
   "cell_type": "markdown",
   "id": "075df6f6-9311-4122-8b1e-2d709058e574",
   "metadata": {},
   "source": [
    "Note that this grid is rather coarse, and thus not necessarily appropriate to observables. We thus use `utils.hk_densegrid` to compute the gap."
   ]
  },
  {
   "cell_type": "code",
   "execution_count": 18,
   "id": "41bd9f60-8f29-4e7c-a0c4-a0bbf66445b2",
   "metadata": {},
   "outputs": [],
   "source": [
    "def compute_gap(\n",
    "    tb_model,\n",
    "    int_model,\n",
    "    nk,\n",
    "    nk_dense,\n",
    "    U,\n",
    "    filling=2,\n",
    "    guess=None,\n",
    "):\n",
    "    # Generate guess on the same grid\n",
    "    if guess is None:\n",
    "        guess = utils.generate_guess(nk, tb_model, int_model, scale=0.2)\n",
    "    # else:\n",
    "    #     guess += utils.generate_guess(\n",
    "    #         nk, tb_model, int_model, scale=0.1 * np.max(np.abs(guess))\n",
    "    #     )\n",
    "\n",
    "    # Find groundstate Hamiltonian on the same grid\n",
    "    mf_model, mf = hf.find_groundstate_ham(\n",
    "        tb_model=tb_model,\n",
    "        int_model=int_model,\n",
    "        filling=filling,\n",
    "        nk=nk,\n",
    "        guess=guess,\n",
    "        return_mf=True,\n",
    "    )\n",
    "    # Compute groundstate Hamiltonian on a dense grid\n",
    "    scf_ham = utils.kgrid_hamiltonian(nk_dense, mf_model)\n",
    "    # Diagonalize groundstate Hamiltonian\n",
    "    vals, vecs = np.linalg.eigh(scf_ham)\n",
    "    # Extract dense-grid Fermi energy\n",
    "    E_F = utils.get_fermi_energy(vals, filling)\n",
    "    gap = utils.calc_gap(vals, E_F)\n",
    "    return gap, mf"
   ]
  },
  {
   "cell_type": "markdown",
   "id": "718bc267-0899-4d45-8592-deabd6849a75",
   "metadata": {},
   "source": [
    "Finally, we run the SCF by evaluating also the interacting matrix on a k-point grid."
   ]
  },
  {
   "cell_type": "code",
   "execution_count": 19,
   "id": "32b9e7c5-db12-44f9-930c-21e5494404b8",
   "metadata": {
    "tags": []
   },
   "outputs": [],
   "source": [
    "def compute_phase_diagram(Us, Vs, nk, nk_dense):\n",
    "    gap = []\n",
    "    for U in tqdm(Us):\n",
    "        guess = None\n",
    "        gap_U = []\n",
    "        for V in Vs:\n",
    "            params = dict(U=U, V=V)\n",
    "            _gap, guess = compute_gap(\n",
    "                tb_model=utils.builder2tb_model(bulk_graphene),\n",
    "                int_model=utils.builder2tb_model(syst_V, params),\n",
    "                nk=nk,\n",
    "                nk_dense=nk_dense,\n",
    "                guess=guess, U=U\n",
    "            )\n",
    "            gap_U.append(_gap)\n",
    "        gap.append(gap_U)\n",
    "    return np.asarray(gap, dtype=float)"
   ]
  },
  {
   "cell_type": "code",
   "execution_count": 20,
   "id": "6a8c08a9-7e31-420b-b6b4-709abfb26793",
   "metadata": {
    "tags": []
   },
   "outputs": [
    {
     "name": "stderr",
     "output_type": "stream",
     "text": [
      "100%|██████████| 10/10 [03:45<00:00, 22.59s/it]\n"
     ]
    }
   ],
   "source": [
    "# Generate dense-grid k-points\n",
    "# Interaction strengths\n",
    "nk=15\n",
    "nk_dense=30\n",
    "Us = np.linspace(0, 3, 10, endpoint=True)\n",
    "Vs = np.linspace(0, 1.5, 10, endpoint=True)\n",
    "gap = compute_phase_diagram(Us, Vs, nk=nk, nk_dense=nk_dense)"
   ]
  },
  {
   "cell_type": "markdown",
   "id": "1f2defc7-d22b-4f12-834c-4ac8060da9c9",
   "metadata": {},
   "source": [
    "We finally see two gapped regions in the spectrum. The bottom region is an antiferromagnetic groundstate, while the upper one is a charge density wave, as described in [arXiv:1204.4531](https://arxiv.org/abs/1204.4531)."
   ]
  },
  {
   "cell_type": "code",
   "execution_count": 21,
   "id": "e17fc96c-c463-4e1f-8250-c254d761b92a",
   "metadata": {},
   "outputs": [],
   "source": [
    "import xarray as xr\n",
    "gap_da = xr.DataArray(data=gap, coords=dict(Us=Us, Vs=Vs))"
   ]
  },
  {
   "cell_type": "code",
   "execution_count": 23,
   "id": "101d04f3-f811-446d-a313-5a004eba2690",
   "metadata": {},
   "outputs": [
    {
     "data": {
      "text/plain": [
       "<matplotlib.collections.QuadMesh at 0x7fe0ade2cad0>"
      ]
     },
     "execution_count": 23,
     "metadata": {},
     "output_type": "execute_result"
    },
    {
     "data": {
      "image/png": "[encoded data removed]",
      "text/plain": [
       "<Figure size 640x480 with 2 Axes>"
      ]
     },
     "metadata": {},
     "output_type": "display_data"
    }
   ],
   "source": [
    "gap_da.plot(x='Us', y='Vs')"
   ]
  },
  {
   "cell_type": "code",
   "execution_count": 25,
   "id": "0cb395cd-84d1-49b4-89dd-da7a2d09c8d0",
   "metadata": {},
   "outputs": [],
   "source": [
    "gap_da.to_netcdf('./data/graphene_example.nc')"
   ]
  }
 ],
 "metadata": {
  "kernelspec": {
   "display_name": "Python 3 (ipykernel)",
   "language": "python",
   "name": "python3"
  },
  "language_info": {
   "codemirror_mode": {
    "name": "ipython",
    "version": 3
   },
   "file_extension": ".py",
   "mimetype": "text/x-python",
   "name": "python",
   "nbconvert_exporter": "python",
   "pygments_lexer": "ipython3",
   "version": "3.11.5"
  },
  "widgets": {
   "application/vnd.jupyter.widget-state+json": {
    "state": {},
    "version_major": 2,
    "version_minor": 0
   }
  }
 },
 "nbformat": 4,
 "nbformat_minor": 5
}
