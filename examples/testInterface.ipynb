{
 "cells": [
  {
   "cell_type": "code",
   "execution_count": 1,
   "metadata": {},
   "outputs": [],
   "source": [
    "import numpy as np\n",
    "from codes import utils, model, solvers"
   ]
  },
  {
   "cell_type": "code",
   "execution_count": 2,
   "metadata": {},
   "outputs": [],
   "source": [
    "def random_guess(vectors, int_model):\n",
    "    \"\"\"\n",
    "    Generate random guess.\n",
    "\n",
    "    Parameters:\n",
    "    -----------\n",
    "    vectors : list of tuples\n",
    "        Hopping vectors for the mean-field corrections.\n",
    "    \"\"\"\n",
    "    scale = 0.1*(1+np.max(np.abs([*int_model.values()])))\n",
    "    return utils.generate_guess(\n",
    "        vectors=vectors,\n",
    "        ndof=len([*int_model.values()][0]),\n",
    "        scale=scale\n",
    "    )"
   ]
  },
  {
   "cell_type": "code",
   "execution_count": 3,
   "metadata": {},
   "outputs": [
    {
     "data": {
      "text/plain": [
       "array([ 4.81536544e-01,  6.41071801e-03, -1.76048506e-07, ...,\n",
       "        0.00000000e+00,  1.33679796e-06,  0.00000000e+00])"
      ]
     },
     "execution_count": 3,
     "metadata": {},
     "output_type": "execute_result"
    }
   ],
   "source": [
    "U0 = 1\n",
    "nk = 100\n",
    "filling = 2\n",
    "\n",
    "hopp = np.kron(np.array([[0, 1], [0, 0]]), np.eye(2))\n",
    "tb_model = {(0,): hopp + hopp.T.conj(), (1,): hopp, (-1,): hopp.T.conj()}\n",
    "int_model = {\n",
    "    (0,): U0 * np.kron(np.eye(2), np.ones((2, 2))),\n",
    "}\n",
    "\n",
    "testModel = model.MfModel(tb_model, int_model, filling)\n",
    "guess = utils.tb2grid(random_guess(tb_model.keys(), int_model), nk)\n",
    "solvers.kspace_solver(testModel, guess)"
   ]
  },
  {
   "cell_type": "code",
   "execution_count": null,
   "metadata": {},
   "outputs": [],
   "source": []
  },
  {
   "cell_type": "code",
   "execution_count": null,
   "metadata": {},
   "outputs": [],
   "source": []
  }
 ],
 "metadata": {
  "kernelspec": {
   "display_name": "base",
   "language": "python",
   "name": "python3"
  },
  "language_info": {
   "codemirror_mode": {
    "name": "ipython",
    "version": 3
   },
   "file_extension": ".py",
   "mimetype": "text/x-python",
   "name": "python",
   "nbconvert_exporter": "python",
   "pygments_lexer": "ipython3",
   "version": "3.11.7"
  }
 },
 "nbformat": 4,
 "nbformat_minor": 2
}
