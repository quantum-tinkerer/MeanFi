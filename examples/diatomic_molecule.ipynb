{
 "cells": [
  {
   "cell_type": "code",
   "execution_count": 1,
   "id": "cb509096-42c6-4a45-8dc4-a8eed3116e67",
   "metadata": {
    "tags": []
   },
   "outputs": [],
   "source": [
    "import kwant\n",
    "import numpy as np\n",
    "import matplotlib.pyplot as plt\n",
    "from codes import utils, hf, kwant_examples\n",
    "from tqdm import tqdm\n",
    "from itertools import product"
   ]
  },
  {
   "cell_type": "markdown",
   "id": "2b76e5f0-75f0-4812-9a3a-39992f0244e7",
   "metadata": {},
   "source": [
    "In this example, we will build a zero-dimensional model. Namely, we will find the Hartree-Fock groundstate solution for a diatomic molecule with onsite and nearest-neighbor interactions.\n",
    "\n",
    "We start by writing the non-interacting Hamiltonian. The minimal tight-binding model has the following Hamiltonian:\n",
    "$$\n",
    " H_0 = c_L^{\\dagger} c_R + h.c.\n",
    "$$\n",
    "which we can rewrite in following matrix representation:\n",
    "$$\n",
    "H_0 = \\left(c_L^{\\dagger}~c_R^{\\dagger}\\right) \\left(\\begin{array}{cc}\n",
    "    0 & \\mathbb{1}\\\\\n",
    "    \\mathbb{1} & 0\n",
    "\\end{array}\\right)\n",
    "\\left(\\begin{array}{c}\n",
    "    c_L\\\\\n",
    "    c_R\n",
    "\\end{array}\\right)\n",
    "$$\n",
    "where $\\mathbb{1}$ is a $2\\times 2$ identity matrix."
   ]
  },
  {
   "cell_type": "code",
   "execution_count": 86,
   "id": "d31cbfea-18ea-454e-8a63-d706a85cd3fc",
   "metadata": {},
   "outputs": [],
   "source": [
    "# Just writing the Hamiltonian above in numpy\n",
    "hamiltonian_0 = np.block([\n",
    "    [0 * np.eye(2), np.eye(2)],\n",
    "    [np.eye(2), 0 * np.eye(2)]\n",
    "])\n",
    "# Here we add a dummy index because that is interpreted as a Γ-point calculation.\n",
    "hamiltonian_0 = np.expand_dims(hamiltonian_0, axis=0)"
   ]
  },
  {
   "cell_type": "markdown",
   "id": "4c0d41ff-8231-441f-89a3-35f3fe94c57a",
   "metadata": {},
   "source": [
    "We can naturally compute the eigenvalues for inspection."
   ]
  },
  {
   "cell_type": "code",
   "execution_count": 85,
   "id": "b39a2976-7c35-4670-83ef-12157bd3fc0e",
   "metadata": {},
   "outputs": [
    {
     "data": {
      "image/png": "[encoded data removed]",
      "text/plain": [
       "<Figure size 640x480 with 1 Axes>"
      ]
     },
     "metadata": {},
     "output_type": "display_data"
    }
   ],
   "source": [
    "vals, vecs = np.linalg.eigh(hamiltonian_0[0])\n",
    "plt.plot(vals, 'o')\n",
    "plt.show()"
   ]
  },
  {
   "cell_type": "markdown",
   "id": "688558ce-cc8e-418e-846e-4e3e32cb3193",
   "metadata": {},
   "source": [
    "We now move to an eigenvalue calculation of the Hartree-Fock solution. The workflow is rather simple:\n",
    "* Generate a random guess.\n",
    "* Run the self-consistent loop.\n",
    "* Diagonalize the mean-field Hamiltonian."
   ]
  },
  {
   "cell_type": "code",
   "execution_count": 91,
   "id": "41bd9f60-8f29-4e7c-a0c4-a0bbf66445b2",
   "metadata": {},
   "outputs": [],
   "source": [
    "def compute_vals(\n",
    "    H_int,\n",
    "    hamiltonian_0=hamiltonian_0,\n",
    "    filling=2,\n",
    "    tol=1e-5,\n",
    "    mixing=0.01,\n",
    "    order=10,\n",
    "    guess=None\n",
    "):\n",
    "    # Generate random guess with same shape as the Hamiltonian.\n",
    "    guess = np.random.rand(*hamiltonian_0.shape) * np.exp(1j * 2 * np.pi * np.random.rand(*hamiltonian_0.shape))\n",
    "\n",
    "    # Run SCF loop to find groundstate Hamiltonian.\n",
    "    h = hf.find_groundstate_ham(\n",
    "        H_int=H_int,\n",
    "        filling=filling,\n",
    "        hamiltonians_0=hamiltonian_0,\n",
    "        tol=tol,\n",
    "        guess=guess,\n",
    "        mixing=mixing,\n",
    "        order=order,\n",
    "    )\n",
    "    # Diagonalize groundstate Hamiltonian.\n",
    "    vals, vecs = np.linalg.eigh(h)\n",
    "    # Extract Fermi energy.\n",
    "    E_F = utils.get_fermi_energy(vals, filling)\n",
    "    return vals - E_F"
   ]
  },
  {
   "cell_type": "markdown",
   "id": "9e580757-adad-4e20-b60c-cff8a85b633d",
   "metadata": {},
   "source": [
    "And then we use this workflow to compute the phase diagram. We consider an interacting Hamiltonian with onsite and nearest-neighbor interactions:\n",
    "\\begin{align}\n",
    "H_{int} = \\sum_i U_i n_i n_i + \\sum_{\\langle i, j \\rangle} V_{ij} n_i n_j\\\\\n",
    "= \\sum_i U_i n_{i\\uparrow} n_{i\\downarrow} + \\sum_{\\langle i, j \\rangle} V_{ij} n_i n_j\n",
    "\\end{align}\n",
    "where from the first to the second line we removed the terms that are not allowed by the exclusion principle. These are however taken care of by the algorithm, so we in fact just need to provide $U_i$ and $V_{ij}$. We simplify the Hamiltonian further as:\n",
    "\\begin{align}\n",
    "H_{int} = U \\sum_i n_{i\\uparrow} n_{i\\downarrow} + V_{ij} \\sum_{\\langle i, j \\rangle} n_i n_j~.\n",
    "\\end{align}\n",
    "Thus, the we just need to pass to the algorithm the matrix\n",
    "$$\n",
    "H_{int} =\n",
    "\\left(\\begin{array}{cccc}\n",
    "    U & U & V & V\\\\\n",
    "    U & U & V & V\\\\\n",
    "    V & V & U & U\\\\\n",
    "    V & V & U & U\n",
    "\\end{array}\\right)~.\n",
    "$$\n",
    "\n",
    "We thus sweep these parameters and see how the eigenvalues evolve."
   ]
  },
  {
   "cell_type": "code",
   "execution_count": 99,
   "id": "32b9e7c5-db12-44f9-930c-21e5494404b8",
   "metadata": {
    "tags": []
   },
   "outputs": [],
   "source": [
    "def compute_phase_diagram(\n",
    "    Us,\n",
    "    Vs,\n",
    "    tol=1e-5,\n",
    "    mixing=0.1,\n",
    "    order=5,\n",
    "):\n",
    "    # onsite interactions\n",
    "    onsite_int = np.block(\n",
    "        [[np.ones((2, 2)), np.zeros((2, 2))], [np.zeros((2, 2)), np.ones((2, 2))]]\n",
    "    )\n",
    "    onsite_int = np.expand_dims(onsite_int, axis=0)\n",
    "    # Nearest-neighbor interactions\n",
    "    nn_int = np.block(\n",
    "        [[np.zeros((2, 2)), np.ones((2, 2))], [np.zeros((2, 2)), np.zeros((2, 2))]]\n",
    "    )\n",
    "    nn_int = np.expand_dims(nn_int, axis=0)\n",
    "    vals = []\n",
    "    for U in tqdm(Us):\n",
    "        gap_U = []\n",
    "        vals_U = []\n",
    "        for V in Vs:\n",
    "            H_int = U * onsite_int + V * nn_int\n",
    "            _vals = compute_vals(\n",
    "                H_int=H_int,\n",
    "                tol=tol,\n",
    "                mixing=mixing,\n",
    "                order=order,\n",
    "            )\n",
    "            vals_U.append(_vals)\n",
    "        vals.append(vals_U)\n",
    "    return np.asarray(vals)"
   ]
  },
  {
   "cell_type": "code",
   "execution_count": null,
   "id": "6a8c08a9-7e31-420b-b6b4-709abfb26793",
   "metadata": {
    "tags": []
   },
   "outputs": [
    {
     "name": "stderr",
     "output_type": "stream",
     "text": [
      " 65%|██████▌   | 13/20 [00:34<00:32,  4.62s/it]"
     ]
    }
   ],
   "source": [
    "# Interaction strengths\n",
    "Us = np.linspace(0, 5, 20, endpoint=True)\n",
    "Vs = np.linspace(0, 1, 20, endpoint=True)\n",
    "vals = compute_phase_diagram(Us, Vs, tol=1e-5)"
   ]
  },
  {
   "cell_type": "code",
   "execution_count": 94,
   "id": "e17fc96c-c463-4e1f-8250-c254d761b92a",
   "metadata": {},
   "outputs": [],
   "source": [
    "import xarray as xr\n",
    "\n",
    "ds = xr.Dataset(\n",
    "    data_vars=dict(\n",
    "        vals=([\"Us\", \"Vs\", \"n\"], vals[:,:,0,:]),\n",
    "    ),\n",
    "    coords=dict(Us=Us, Vs=Vs, n=np.arange(vals.shape[-1])),\n",
    ")"
   ]
  },
  {
   "cell_type": "code",
   "execution_count": 95,
   "id": "868cf368-45a0-465e-b042-6182ff8b6998",
   "metadata": {},
   "outputs": [
    {
     "data": {
      "image/png": "[encoded data removed]",
      "text/plain": [
       "<Figure size 1300x300 with 5 Axes>"
      ]
     },
     "metadata": {},
     "output_type": "display_data"
    }
   ],
   "source": [
    "ds.vals.plot(col='n')\n",
    "plt.show()"
   ]
  },
  {
   "cell_type": "code",
   "execution_count": 97,
   "id": "0cb395cd-84d1-49b4-89dd-da7a2d09c8d0",
   "metadata": {},
   "outputs": [],
   "source": [
    "ds.to_netcdf('./data/diatomic_molecule_example.nc')"
   ]
  }
 ],
 "metadata": {
  "kernelspec": {
   "display_name": "Python 3 (ipykernel)",
   "language": "python",
   "name": "python3"
  },
  "language_info": {
   "codemirror_mode": {
    "name": "ipython",
    "version": 3
   },
   "file_extension": ".py",
   "mimetype": "text/x-python",
   "name": "python",
   "nbconvert_exporter": "python",
   "pygments_lexer": "ipython3",
   "version": "3.11.5"
  },
  "widgets": {
   "application/vnd.jupyter.widget-state+json": {
    "state": {},
    "version_major": 2,
    "version_minor": 0
   }
  }
 },
 "nbformat": 4,
 "nbformat_minor": 5
}
